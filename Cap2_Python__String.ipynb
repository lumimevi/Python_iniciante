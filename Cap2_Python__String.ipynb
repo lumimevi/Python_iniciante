{
  "nbformat": 4,
  "nbformat_minor": 0,
  "metadata": {
    "colab": {
      "name": "Cap2_Python_ String.ipynb",
      "provenance": [],
      "toc_visible": true,
      "include_colab_link": true
    },
    "kernelspec": {
      "name": "python3",
      "display_name": "Python 3"
    }
  },
  "cells": [
    {
      "cell_type": "markdown",
      "metadata": {
        "id": "view-in-github",
        "colab_type": "text"
      },
      "source": [
        "<a href=\"https://colab.research.google.com/github/lumimevi/Python_iniciante/blob/master/Cap2_Python__String.ipynb\" target=\"_parent\"><img src=\"https://colab.research.google.com/assets/colab-badge.svg\" alt=\"Open In Colab\"/></a>"
      ]
    },
    {
      "cell_type": "markdown",
      "metadata": {
        "id": "NeWgGpKNrwP3",
        "colab_type": "text"
      },
      "source": [
        "# **Capitulo 2 - Strings**\n",
        "\n",
        "As strings são usadas em Python para registrar informações de texto.\n",
        "\n",
        "Por exemplo, Python entende a string \"hello\" como uma seqüência de letras em uma ordem específica. Isso significa que poderemos usar a indexação para pegar letras particulares (como a primeira letra, segunda letra, e assim por diante).\n",
        "\n",
        "Essa idéia de uma seqüência é importante em Python\n",
        "\n",
        "Neste topico, aprenderemos os seguintes tópicos:\n",
        "\n",
        "2.1) Criando Strings\n",
        "\n",
        "2.2) Impressão de Strings\n",
        "\n",
        "2.3) Indexação de strings\n",
        "\n",
        "2.4) Propriedades da Cadeia de Caracteres\n",
        "\n",
        "2.5) Métodos de Strings\n",
        "\n",
        "2.6) Formatação de impressão\n"
      ]
    },
    {
      "cell_type": "markdown",
      "metadata": {
        "id": "AU3qZCsUsj6B",
        "colab_type": "text"
      },
      "source": [
        " ### **2.1 Criando Strings**\n",
        "\n",
        "Para criar uma string em Python, você precisa usar aspas simples ou aspas duplas."
      ]
    },
    {
      "cell_type": "code",
      "metadata": {
        "id": "tm2HKKV6rovw",
        "colab_type": "code",
        "outputId": "744fb8dc-42bd-4c02-ea7c-7bbf8c3e1d39",
        "colab": {
          "base_uri": "https://localhost:8080/",
          "height": 35
        }
      },
      "source": [
        "# criando uma palavra \n",
        "'Tudo bem?'\n",
        "\"tudo bem\" "
      ],
      "execution_count": 2,
      "outputs": [
        {
          "output_type": "execute_result",
          "data": {
            "text/plain": [
              "'tudo bem'"
            ]
          },
          "metadata": {
            "tags": []
          },
          "execution_count": 2
        }
      ]
    },
    {
      "cell_type": "code",
      "metadata": {
        "id": "IqRaftk_rwCL",
        "colab_type": "code",
        "outputId": "dd9c06b0-3a5d-4c61-d1bb-3201836b66ce",
        "colab": {
          "base_uri": "https://localhost:8080/",
          "height": 34
        }
      },
      "source": [
        "# Uma frase inteira\n",
        "\"Tarefas com Pyhton\""
      ],
      "execution_count": 0,
      "outputs": [
        {
          "output_type": "execute_result",
          "data": {
            "text/plain": [
              "'Tarefas com Pyhton'"
            ]
          },
          "metadata": {
            "tags": []
          },
          "execution_count": 8
        }
      ]
    },
    {
      "cell_type": "markdown",
      "metadata": {
        "id": "niD0MGFcs3SG",
        "colab_type": "text"
      },
      "source": [
        "### **2.2 Imprimindo uma String**\n",
        "\n",
        "Com apenas uma seqüência de caracteres em uma célula emitirá automaticamente cadeias de caracteres, mas a maneira correta de exibir cadeias na sua saída é usando uma função de impressão **\"print()\"**"
      ]
    },
    {
      "cell_type": "markdown",
      "metadata": {
        "id": "4GTQjU6QtI6P",
        "colab_type": "text"
      },
      "source": [
        "Utilizando print()"
      ]
    },
    {
      "cell_type": "code",
      "metadata": {
        "id": "m7WacA0xpS93",
        "colab_type": "code",
        "outputId": "f2919321-914c-45d4-8c28-c5a7893e7e6e",
        "colab": {
          "base_uri": "https://localhost:8080/",
          "height": 54
        }
      },
      "source": [
        "print(\"olá mundo\")\n",
        "print('bom dia')"
      ],
      "execution_count": 3,
      "outputs": [
        {
          "output_type": "stream",
          "text": [
            "olá mundo\n",
            "bom dia\n"
          ],
          "name": "stdout"
        }
      ]
    },
    {
      "cell_type": "code",
      "metadata": {
        "id": "YnaLEKcvw8K4",
        "colab_type": "code",
        "outputId": "4cd6b606-c3eb-41e5-bd8f-d9c3e23d3d75",
        "colab": {
          "base_uri": "https://localhost:8080/",
          "height": 35
        }
      },
      "source": [
        "saudações = \"bom dia\"\n",
        "print(saudações)"
      ],
      "execution_count": 6,
      "outputs": [
        {
          "output_type": "stream",
          "text": [
            "bom dia\n"
          ],
          "name": "stdout"
        }
      ]
    },
    {
      "cell_type": "markdown",
      "metadata": {
        "id": "VBE4o8WKtNdT",
        "colab_type": "text"
      },
      "source": [
        "Também podemos usar uma função chamada len() para conhecer o comprimento de uma string!"
      ]
    },
    {
      "cell_type": "code",
      "metadata": {
        "id": "Yj9eMzAQxHKQ",
        "colab_type": "code",
        "outputId": "228ed8e5-f86a-4a69-db45-ea86d1c3402a",
        "colab": {
          "base_uri": "https://localhost:8080/",
          "height": 35
        }
      },
      "source": [
        "len(\"bom dia\")"
      ],
      "execution_count": 7,
      "outputs": [
        {
          "output_type": "execute_result",
          "data": {
            "text/plain": [
              "7"
            ]
          },
          "metadata": {
            "tags": []
          },
          "execution_count": 7
        }
      ]
    },
    {
      "cell_type": "code",
      "metadata": {
        "id": "GElujX6i8wn6",
        "colab_type": "code",
        "colab": {
          "base_uri": "https://localhost:8080/",
          "height": 35
        },
        "outputId": "2ecb8e49-fd09-43e2-a9d3-e43e712b03c1"
      },
      "source": [
        "len(\"ecologia\") "
      ],
      "execution_count": 8,
      "outputs": [
        {
          "output_type": "execute_result",
          "data": {
            "text/plain": [
              "8"
            ]
          },
          "metadata": {
            "tags": []
          },
          "execution_count": 8
        }
      ]
    },
    {
      "cell_type": "markdown",
      "metadata": {
        "id": "Mt_eRy05tXn3",
        "colab_type": "text"
      },
      "source": [
        "### **2.3 Indexação de strings**\n",
        "\n",
        "As strings são uma seqüência, o que significa que o Python pode usar índices para chamar partes dessa seqüência. \n",
        "\n",
        "Em Python, usa-se colchetes [ ] após um objeto para chamar seu índice. Importante notar que em Python a indexação começa em 0. "
      ]
    },
    {
      "cell_type": "code",
      "metadata": {
        "id": "DbZ034mctbO5",
        "colab_type": "code",
        "outputId": "d832f98d-2255-4f4d-c581-4f6231db9009",
        "colab": {
          "base_uri": "https://localhost:8080/",
          "height": 35
        }
      },
      "source": [
        "# Define s como uma string\n",
        "curso = 'Ecologia'\n",
        "print(curso)"
      ],
      "execution_count": 22,
      "outputs": [
        {
          "output_type": "stream",
          "text": [
            "Ecologia\n"
          ],
          "name": "stdout"
        }
      ]
    },
    {
      "cell_type": "markdown",
      "metadata": {
        "id": "BHz0sIGatloL",
        "colab_type": "text"
      },
      "source": [
        "Vamos começar a indexar"
      ]
    },
    {
      "cell_type": "code",
      "metadata": {
        "id": "jzVadlKztnVT",
        "colab_type": "code",
        "outputId": "19cc3537-6947-415c-fa78-6998751695e4",
        "colab": {
          "base_uri": "https://localhost:8080/",
          "height": 35
        }
      },
      "source": [
        "# Mostra o primeiro elemento (neste caso uma letra)\n",
        "curso[0] "
      ],
      "execution_count": 10,
      "outputs": [
        {
          "output_type": "execute_result",
          "data": {
            "text/plain": [
              "'E'"
            ]
          },
          "metadata": {
            "tags": []
          },
          "execution_count": 10
        }
      ]
    },
    {
      "cell_type": "code",
      "metadata": {
        "id": "a-U8KWQEtpdF",
        "colab_type": "code",
        "colab": {}
      },
      "source": [
        "curso[1]"
      ],
      "execution_count": 0,
      "outputs": []
    },
    {
      "cell_type": "code",
      "metadata": {
        "id": "bxqGJ_04tp16",
        "colab_type": "code",
        "outputId": "8740ab89-2384-4fb8-af91-cf6b19511988",
        "colab": {
          "base_uri": "https://localhost:8080/",
          "height": 35
        }
      },
      "source": [
        "curso[2]"
      ],
      "execution_count": 11,
      "outputs": [
        {
          "output_type": "execute_result",
          "data": {
            "text/plain": [
              "'o'"
            ]
          },
          "metadata": {
            "tags": []
          },
          "execution_count": 11
        }
      ]
    },
    {
      "cell_type": "markdown",
      "metadata": {
        "id": "qNrPQ4ujtr-p",
        "colab_type": "text"
      },
      "source": [
        "Podemos usar dois pontos : para executar um corte que vai até um ponto designado"
      ]
    },
    {
      "cell_type": "code",
      "metadata": {
        "id": "-CGJ02dEtsrN",
        "colab_type": "code",
        "outputId": "ef54a5ba-5bca-48bc-8b61-8ad0b2dd8259",
        "colab": {
          "base_uri": "https://localhost:8080/",
          "height": 35
        }
      },
      "source": [
        "# Retorna todos elementos a partir do elemento de indice 1\n",
        "curso[1:] "
      ],
      "execution_count": 14,
      "outputs": [
        {
          "output_type": "execute_result",
          "data": {
            "text/plain": [
              "'cologia'"
            ]
          },
          "metadata": {
            "tags": []
          },
          "execution_count": 14
        }
      ]
    },
    {
      "cell_type": "code",
      "metadata": {
        "id": "AfxeSWnStyFm",
        "colab_type": "code",
        "outputId": "e86b043a-f640-4f7c-be2b-bfc7f43d6bc5",
        "colab": {
          "base_uri": "https://localhost:8080/",
          "height": 34
        }
      },
      "source": [
        "# Retorna tudo até o elemento de índice 3\n",
        "curso[:3]"
      ],
      "execution_count": 0,
      "outputs": [
        {
          "output_type": "execute_result",
          "data": {
            "text/plain": [
              "'Eco'"
            ]
          },
          "metadata": {
            "tags": []
          },
          "execution_count": 39
        }
      ]
    },
    {
      "cell_type": "markdown",
      "metadata": {
        "id": "1WqTAz72t0er",
        "colab_type": "text"
      },
      "source": [
        "Observe que no corte acima. Estamos dizendo ao Python que pegue tudo de 0 a 3. Não inclui o 3º índice. Você notará muito isso em Python."
      ]
    },
    {
      "cell_type": "code",
      "metadata": {
        "id": "Peagc-EDtvdv",
        "colab_type": "code",
        "outputId": "13bc8083-1e58-496d-a84c-c0bdf3cd0f37",
        "colab": {
          "base_uri": "https://localhost:8080/",
          "height": 35
        }
      },
      "source": [
        "# Observe que não há mudanças\n",
        "curso"
      ],
      "execution_count": 23,
      "outputs": [
        {
          "output_type": "execute_result",
          "data": {
            "text/plain": [
              "'Ecologia'"
            ]
          },
          "metadata": {
            "tags": []
          },
          "execution_count": 23
        }
      ]
    },
    {
      "cell_type": "code",
      "metadata": {
        "id": "2ghDxGB-t1em",
        "colab_type": "code",
        "outputId": "8ac8388c-9f1c-4ba6-8889-9392669b98d7",
        "colab": {
          "base_uri": "https://localhost:8080/",
          "height": 35
        }
      },
      "source": [
        "# Tudo\n",
        "curso[:]"
      ],
      "execution_count": 24,
      "outputs": [
        {
          "output_type": "execute_result",
          "data": {
            "text/plain": [
              "'Ecologia'"
            ]
          },
          "metadata": {
            "tags": []
          },
          "execution_count": 24
        }
      ]
    },
    {
      "cell_type": "markdown",
      "metadata": {
        "id": "_KrJW9Crt31j",
        "colab_type": "text"
      },
      "source": [
        "Também podemos usar indexação negativa para retroceder."
      ]
    },
    {
      "cell_type": "code",
      "metadata": {
        "id": "5QdZaH_5t2jS",
        "colab_type": "code",
        "outputId": "6393cf3d-19ae-4aa0-afd2-f3a2509cb83b",
        "colab": {
          "base_uri": "https://localhost:8080/",
          "height": 35
        }
      },
      "source": [
        "# Última letra \n",
        "curso[-1]"
      ],
      "execution_count": 26,
      "outputs": [
        {
          "output_type": "execute_result",
          "data": {
            "text/plain": [
              "'a'"
            ]
          },
          "metadata": {
            "tags": []
          },
          "execution_count": 26
        }
      ]
    },
    {
      "cell_type": "code",
      "metadata": {
        "id": "pnb-VQAqt6cq",
        "colab_type": "code",
        "outputId": "010c2f74-19e1-4486-9554-da1f219f39fb",
        "colab": {
          "base_uri": "https://localhost:8080/",
          "height": 34
        }
      },
      "source": [
        "# Pega tudo, menos a última letra\n",
        "curso[:-1]"
      ],
      "execution_count": 0,
      "outputs": [
        {
          "output_type": "execute_result",
          "data": {
            "text/plain": [
              "'Ecologi'"
            ]
          },
          "metadata": {
            "tags": []
          },
          "execution_count": 43
        }
      ]
    },
    {
      "cell_type": "markdown",
      "metadata": {
        "id": "El4ukpOGt-Ni",
        "colab_type": "text"
      },
      "source": [
        "Também podemos usar notação de índice e fatiar para capturar elementos de uma seqüência com espaçamentos (o espaçamento padrão é 1)"
      ]
    },
    {
      "cell_type": "code",
      "metadata": {
        "id": "xkYZ2roKt_4d",
        "colab_type": "code",
        "outputId": "06538a54-9a11-4a8e-f5c8-b213d32d2957",
        "colab": {
          "base_uri": "https://localhost:8080/",
          "height": 35
        }
      },
      "source": [
        "# Pega tudo, de 1 em 1\n",
        "nome = \"Debora usando pyhton\"\n",
        "nome[::1] "
      ],
      "execution_count": 29,
      "outputs": [
        {
          "output_type": "execute_result",
          "data": {
            "text/plain": [
              "'Debora usando pyhton'"
            ]
          },
          "metadata": {
            "tags": []
          },
          "execution_count": 29
        }
      ]
    },
    {
      "cell_type": "code",
      "metadata": {
        "id": "xp93niR6uJlr",
        "colab_type": "code",
        "outputId": "e92ea9e7-e210-449f-ced2-6187ced4b29b",
        "colab": {
          "base_uri": "https://localhost:8080/",
          "height": 34
        }
      },
      "source": [
        "# Pega tudo, mas os espaçamentos são de 2 em 2\n",
        "curso[::2]"
      ],
      "execution_count": 0,
      "outputs": [
        {
          "output_type": "execute_result",
          "data": {
            "text/plain": [
              "'Eooi'"
            ]
          },
          "metadata": {
            "tags": []
          },
          "execution_count": 45
        }
      ]
    },
    {
      "cell_type": "code",
      "metadata": {
        "id": "Liofs-x2uKtK",
        "colab_type": "code",
        "outputId": "8627f627-aef9-421d-dd69-52ba7f2766ef",
        "colab": {
          "base_uri": "https://localhost:8080/",
          "height": 34
        }
      },
      "source": [
        "# Pega tudo, mas com passos negativos, de trás para frente.\n",
        "curso[::-1]"
      ],
      "execution_count": 0,
      "outputs": [
        {
          "output_type": "execute_result",
          "data": {
            "text/plain": [
              "'aigolocE'"
            ]
          },
          "metadata": {
            "tags": []
          },
          "execution_count": 46
        }
      ]
    },
    {
      "cell_type": "markdown",
      "metadata": {
        "id": "WIvNsU8GuNhv",
        "colab_type": "text"
      },
      "source": [
        "### **2.4 Propriedades das Strings**\n",
        "\n",
        "As strings têm uma propriedade importante conhecida como **imutabilidade**. Isso significa que, uma vez que uma string é criada, os elementos nele não podem ser alterados ou substituídos. "
      ]
    },
    {
      "cell_type": "code",
      "metadata": {
        "id": "TFyGWGc5uNRR",
        "colab_type": "code",
        "colab": {}
      },
      "source": [
        "curso = 'Ecologia' "
      ],
      "execution_count": 0,
      "outputs": []
    },
    {
      "cell_type": "code",
      "metadata": {
        "id": "1qwwFC_NuWqY",
        "colab_type": "code",
        "colab": {}
      },
      "source": [
        "# Vamos tentar mudar a primeira letra para 'e'\n",
        "curso[0] = 'e' "
      ],
      "execution_count": 0,
      "outputs": []
    },
    {
      "cell_type": "markdown",
      "metadata": {
        "id": "SkOnhcHtuaTA",
        "colab_type": "text"
      },
      "source": [
        "O erro nos diz  que não podemos fazer, alterar a atribuição do item!\n",
        "\n",
        "No entanto podemos concatenar strings!"
      ]
    },
    {
      "cell_type": "code",
      "metadata": {
        "id": "sEf34sxCuYMl",
        "colab_type": "code",
        "colab": {}
      },
      "source": [
        "letra = 'Amo'"
      ],
      "execution_count": 0,
      "outputs": []
    },
    {
      "cell_type": "code",
      "metadata": {
        "id": "lYMiPaCQuc-w",
        "colab_type": "code",
        "outputId": "9e46ad1b-b36e-46b9-fbc2-087ff9d171e4",
        "colab": {
          "base_uri": "https://localhost:8080/",
          "height": 35
        }
      },
      "source": [
        "# Concatenar as strings\n",
        "letra + ' Ecologia'"
      ],
      "execution_count": 32,
      "outputs": [
        {
          "output_type": "execute_result",
          "data": {
            "text/plain": [
              "'Amo Ecologia'"
            ]
          },
          "metadata": {
            "tags": []
          },
          "execution_count": 32
        }
      ]
    },
    {
      "cell_type": "code",
      "metadata": {
        "id": "AmIjEBehuek2",
        "colab_type": "code",
        "outputId": "786981a1-2c7f-4468-e2f2-8a13e476ac16",
        "colab": {
          "base_uri": "https://localhost:8080/",
          "height": 35
        }
      },
      "source": [
        "# Assim podemos redefinir completamente \n",
        "frase = letra + ' Ecologia' \n",
        "print(frase)"
      ],
      "execution_count": 33,
      "outputs": [
        {
          "output_type": "stream",
          "text": [
            "Amo Ecologia\n"
          ],
          "name": "stdout"
        }
      ]
    },
    {
      "cell_type": "markdown",
      "metadata": {
        "id": "wbfTmIBzugHy",
        "colab_type": "text"
      },
      "source": [
        "Podemos usar o símbolo de multiplicação para criar repetições"
      ]
    },
    {
      "cell_type": "code",
      "metadata": {
        "id": "wCbeTK0nufy8",
        "colab_type": "code",
        "colab": {}
      },
      "source": [
        "palavra = 'ha'"
      ],
      "execution_count": 0,
      "outputs": []
    },
    {
      "cell_type": "code",
      "metadata": {
        "id": "9fI6bIzculE8",
        "colab_type": "code",
        "outputId": "00738fa5-df11-45d9-963e-b78bcabd0cbc",
        "colab": {
          "base_uri": "https://localhost:8080/",
          "height": 35
        }
      },
      "source": [
        "palavra * 10"
      ],
      "execution_count": 41,
      "outputs": [
        {
          "output_type": "execute_result",
          "data": {
            "text/plain": [
              "'hahahahahahahahahaha'"
            ]
          },
          "metadata": {
            "tags": []
          },
          "execution_count": 41
        }
      ]
    },
    {
      "cell_type": "code",
      "metadata": {
        "id": "hGdPslqeurJz",
        "colab_type": "code",
        "colab": {}
      },
      "source": [
        "disciplina = 'Filogenia' "
      ],
      "execution_count": 0,
      "outputs": []
    },
    {
      "cell_type": "code",
      "metadata": {
        "id": "YggjKsO8u2-D",
        "colab_type": "code",
        "outputId": "8abd6ba0-70be-4f5a-a0ac-37bc3fba8283",
        "colab": {
          "base_uri": "https://localhost:8080/",
          "height": 35
        }
      },
      "source": [
        "# Coloca toda string em caixa alta\n",
        "disciplina.upper() "
      ],
      "execution_count": 42,
      "outputs": [
        {
          "output_type": "execute_result",
          "data": {
            "text/plain": [
              "'FILOGENIA'"
            ]
          },
          "metadata": {
            "tags": []
          },
          "execution_count": 42
        }
      ]
    },
    {
      "cell_type": "code",
      "metadata": {
        "id": "XTxaK_SUu4KY",
        "colab_type": "code",
        "outputId": "be661442-d851-4086-d814-eac74c05f4fb",
        "colab": {
          "base_uri": "https://localhost:8080/",
          "height": 35
        }
      },
      "source": [
        "# Caixa baixa\n",
        "disciplina.lower()"
      ],
      "execution_count": 43,
      "outputs": [
        {
          "output_type": "execute_result",
          "data": {
            "text/plain": [
              "'filogenia'"
            ]
          },
          "metadata": {
            "tags": []
          },
          "execution_count": 43
        }
      ]
    },
    {
      "cell_type": "code",
      "metadata": {
        "id": "VA-lxqX2u5WN",
        "colab_type": "code",
        "outputId": "ab571dd5-db68-451e-a8fb-789e7aef91d5",
        "colab": {
          "base_uri": "https://localhost:8080/",
          "height": 35
        }
      },
      "source": [
        "disciplina.capitalize() "
      ],
      "execution_count": 45,
      "outputs": [
        {
          "output_type": "execute_result",
          "data": {
            "text/plain": [
              "'Filogenia'"
            ]
          },
          "metadata": {
            "tags": []
          },
          "execution_count": 45
        }
      ]
    },
    {
      "cell_type": "code",
      "metadata": {
        "id": "T7hwYL0Nu6h7",
        "colab_type": "code",
        "outputId": "c6c5e43b-7ddb-4362-ae62-b8f4183e5cbb",
        "colab": {
          "base_uri": "https://localhost:8080/",
          "height": 35
        }
      },
      "source": [
        "#contagem\n",
        "disciplina = 'Filogenia' \n",
        "disciplina.count('i')"
      ],
      "execution_count": 52,
      "outputs": [
        {
          "output_type": "execute_result",
          "data": {
            "text/plain": [
              "2"
            ]
          },
          "metadata": {
            "tags": []
          },
          "execution_count": 52
        }
      ]
    },
    {
      "cell_type": "code",
      "metadata": {
        "id": "8MRF-mtXu7xs",
        "colab_type": "code",
        "outputId": "404b1a59-31fc-4d34-9751-09185ac21d85",
        "colab": {
          "base_uri": "https://localhost:8080/",
          "height": 35
        }
      },
      "source": [
        "#localização\n",
        "disciplina.find('a') "
      ],
      "execution_count": 54,
      "outputs": [
        {
          "output_type": "execute_result",
          "data": {
            "text/plain": [
              "8"
            ]
          },
          "metadata": {
            "tags": []
          },
          "execution_count": 54
        }
      ]
    },
    {
      "cell_type": "code",
      "metadata": {
        "id": "PN4P99P8ERLx",
        "colab_type": "code",
        "colab": {
          "base_uri": "https://localhost:8080/",
          "height": 35
        },
        "outputId": "79537e72-003f-4610-d9bb-3f69713023f7"
      },
      "source": [
        "disciplina[8] "
      ],
      "execution_count": 48,
      "outputs": [
        {
          "output_type": "execute_result",
          "data": {
            "text/plain": [
              "'a'"
            ]
          },
          "metadata": {
            "tags": []
          },
          "execution_count": 48
        }
      ]
    },
    {
      "cell_type": "code",
      "metadata": {
        "id": "dIY7qkuhu9OO",
        "colab_type": "code",
        "colab": {}
      },
      "source": [
        "# Divide uma string  \n",
        "frase = \"Botânica uma disciplina cativante\" \n",
        "\n"
      ],
      "execution_count": 0,
      "outputs": []
    },
    {
      "cell_type": "code",
      "metadata": {
        "id": "KStgrn0IFjNF",
        "colab_type": "code",
        "colab": {
          "base_uri": "https://localhost:8080/",
          "height": 35
        },
        "outputId": "2a878713-69f3-431a-fe5e-3d8e31b5f30e"
      },
      "source": [
        "frase.split(\"na\") "
      ],
      "execution_count": 63,
      "outputs": [
        {
          "output_type": "execute_result",
          "data": {
            "text/plain": [
              "['Botânica uma discipli', ' cativante']"
            ]
          },
          "metadata": {
            "tags": []
          },
          "execution_count": 63
        }
      ]
    },
    {
      "cell_type": "code",
      "metadata": {
        "id": "xgIC8e0wu-UX",
        "colab_type": "code",
        "colab": {}
      },
      "source": [
        "# Divide em um elemento específico (não inclui o elemento que foi dividido)\n",
        "frase.split('a')"
      ],
      "execution_count": 0,
      "outputs": []
    },
    {
      "cell_type": "code",
      "metadata": {
        "id": "sqHeu9Z1u_oK",
        "colab_type": "code",
        "outputId": "e5ba523b-330d-420a-d452-a16a2f128ef8",
        "colab": {
          "base_uri": "https://localhost:8080/",
          "height": 35
        }
      },
      "source": [
        "frase.partition('a')"
      ],
      "execution_count": 64,
      "outputs": [
        {
          "output_type": "execute_result",
          "data": {
            "text/plain": [
              "('Botânic', 'a', ' uma disciplina cativante')"
            ]
          },
          "metadata": {
            "tags": []
          },
          "execution_count": 64
        }
      ]
    }
  ]
}