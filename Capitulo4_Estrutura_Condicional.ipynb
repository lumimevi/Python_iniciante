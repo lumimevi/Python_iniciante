{
  "nbformat": 4,
  "nbformat_minor": 0,
  "metadata": {
    "colab": {
      "name": "Capitulo4_Estrutura_Condicional.ipynb",
      "provenance": [],
      "toc_visible": true,
      "include_colab_link": true
    },
    "kernelspec": {
      "name": "python3",
      "display_name": "Python 3"
    }
  },
  "cells": [
    {
      "cell_type": "markdown",
      "metadata": {
        "id": "view-in-github",
        "colab_type": "text"
      },
      "source": [
        "<a href=\"https://colab.research.google.com/github/lumimevi/Python_iniciante/blob/master/Capitulo4_Estrutura_Condicional.ipynb\" target=\"_parent\"><img src=\"https://colab.research.google.com/assets/colab-badge.svg\" alt=\"Open In Colab\"/></a>"
      ]
    },
    {
      "cell_type": "markdown",
      "metadata": {
        "id": "oEBfFYSSgtx5",
        "colab_type": "text"
      },
      "source": [
        "#4. Estrutura Condicional"
      ]
    },
    {
      "cell_type": "markdown",
      "metadata": {
        "id": "6o4XbnRFD8TB",
        "colab_type": "text"
      },
      "source": [
        "### 4.1 If"
      ]
    },
    {
      "cell_type": "markdown",
      "metadata": {
        "id": "9qx4vrr_hhPf",
        "colab_type": "text"
      },
      "source": [
        "#### 4.1.1 Condicional if"
      ]
    },
    {
      "cell_type": "code",
      "metadata": {
        "id": "w9lGFrme8HGn",
        "colab_type": "code",
        "colab": {}
      },
      "source": [
        "# Condicional If\n",
        "if 10>5:\n",
        "   print(\"Parabéns você esta aprendendo python!\")  \n",
        " "
      ],
      "execution_count": 0,
      "outputs": []
    },
    {
      "cell_type": "code",
      "metadata": {
        "id": "tGNMWSjecxin",
        "colab_type": "code",
        "colab": {}
      },
      "source": [
        "preco = 20\n",
        "if preco > 100:\n",
        "  print(\"não vou comprar o produto\")\n",
        "if preco <  100:\n",
        "  print (\"vou comprar o produto\")\n",
        "if preco == 100:\n",
        "  print(\"talvez eu compro o produto\")  "
      ],
      "execution_count": 0,
      "outputs": []
    },
    {
      "cell_type": "code",
      "metadata": {
        "id": "6_8ApHamhvST",
        "colab_type": "code",
        "outputId": "ded57ce7-35ba-4435-bfec-12b32491b495",
        "colab": {
          "base_uri": "https://localhost:8080/",
          "height": 34
        }
      },
      "source": [
        "if 10 > 20:\n",
        "  print(\"Parabéns!\") \n",
        "else:\n",
        "   print(\"tente de novo!\")  "
      ],
      "execution_count": 11,
      "outputs": [
        {
          "output_type": "stream",
          "text": [
            "tente de novo!\n"
          ],
          "name": "stdout"
        }
      ]
    },
    {
      "cell_type": "markdown",
      "metadata": {
        "id": "FMJcGIdqid0L",
        "colab_type": "text"
      },
      "source": [
        "#### 4.1.2 Condicionais Aninhados"
      ]
    },
    {
      "cell_type": "code",
      "metadata": {
        "id": "hxDc2QLBwD5H",
        "colab_type": "code",
        "outputId": "80942aab-1c68-4259-b55d-e79555d99f48",
        "colab": {
          "base_uri": "https://localhost:8080/",
          "height": 34
        }
      },
      "source": [
        "preco = 100  \n",
        "if preco >= 100:\n",
        "  print(\"Não vou comprar o produto\")\n",
        "else:\n",
        "  if preco < 50:\n",
        "    print(\"produto muito barato\")\n",
        "  else:\n",
        "    print(\"vou pensar se compro o produto\")"
      ],
      "execution_count": 15,
      "outputs": [
        {
          "output_type": "stream",
          "text": [
            "Não vou comprar o produto\n"
          ],
          "name": "stdout"
        }
      ]
    },
    {
      "cell_type": "code",
      "metadata": {
        "id": "UjoB_0onihr_",
        "colab_type": "code",
        "outputId": "482b9bbb-d364-4447-a11f-a4ad9c80859a",
        "colab": {
          "base_uri": "https://localhost:8080/",
          "height": 34
        }
      },
      "source": [
        "#criamos uma variabel \"idade\"\n",
        "idade = 15 \n",
        "if idade > 17:\n",
        "  print(\"Hugo, Você pode ir para balada!\")\n",
        "else:\n",
        "  print(\"Hugo, não pode ir para balada\") "
      ],
      "execution_count": 18,
      "outputs": [
        {
          "output_type": "stream",
          "text": [
            "Hugo, não pode ir para balada\n"
          ],
          "name": "stdout"
        }
      ]
    },
    {
      "cell_type": "markdown",
      "metadata": {
        "id": "T_Q23ZFfs8JQ",
        "colab_type": "text"
      },
      "source": [
        "O if aninhado permite criar verificações adicionais \n",
        "somente se a primeira verificão foi verdadeira"
      ]
    },
    {
      "cell_type": "code",
      "metadata": {
        "id": "QRM4oyaRiqhc",
        "colab_type": "code",
        "outputId": "570f571c-39bc-4dfc-f722-6352f0c4b0d2",
        "colab": {
          "base_uri": "https://localhost:8080/",
          "height": 34
        }
      },
      "source": [
        "Nome = \"Paulo\"\n",
        "idade = 25\n",
        "if idade > 17:\n",
        " if Nome == \"Paulo\":\n",
        "   print(\"Ok Paulo, você está autorizado a entrar!\")\n",
        "else:\n",
        "   print(\"Desculpe Paulo, mas você não pode entrar!\")"
      ],
      "execution_count": 20,
      "outputs": [
        {
          "output_type": "stream",
          "text": [
            "Ok Paulo, você está autorizado a entrar!\n"
          ],
          "name": "stdout"
        }
      ]
    },
    {
      "cell_type": "markdown",
      "metadata": {
        "id": "ziijK2okxI_I",
        "colab_type": "text"
      },
      "source": [
        "O codigo de acima, também pode ser substituido por operadores logicos."
      ]
    },
    {
      "cell_type": "code",
      "metadata": {
        "id": "aAxqEHsFi7wN",
        "colab_type": "code",
        "outputId": "ca211f7c-50ac-4b15-ca37-4928b555d4ca",
        "colab": {
          "base_uri": "https://localhost:8080/",
          "height": 34
        }
      },
      "source": [
        "idade = 27\n",
        "Nome = \"Hugo\"\n",
        "if idade >= 17 and Nome == \"Paulo\":\n",
        "    print(\"Ok , você está autorizado a entrar!\")\n",
        "else:\n",
        "      print(\"ok, mas você não pode entrar\")"
      ],
      "execution_count": 24,
      "outputs": [
        {
          "output_type": "stream",
          "text": [
            "ok, mas você não pode entrar\n"
          ],
          "name": "stdout"
        }
      ]
    },
    {
      "cell_type": "code",
      "metadata": {
        "id": "6QDUpiLmC7up",
        "colab_type": "code",
        "outputId": "2bc76131-fb8a-4a01-b4c3-bf4a2b8df2e0",
        "colab": {
          "base_uri": "https://localhost:8080/",
          "height": 34
        }
      },
      "source": [
        "#se uma condição for verdadeira, ou a outra for verdadeira, então execute ação\n",
        "idade = 12\n",
        "Nome = \"tito\"\n",
        "if (idade >= 13) or (Nome == \"tito\"):  \n",
        "    print(\"Ok tito, você está autorizado a entrar!\")\n",
        "else:\n",
        "  print(\"Desculpe, mas você nao pode entrar\")"
      ],
      "execution_count": 25,
      "outputs": [
        {
          "output_type": "stream",
          "text": [
            "Ok tito, você está autorizado a entrar!\n"
          ],
          "name": "stdout"
        }
      ]
    },
    {
      "cell_type": "markdown",
      "metadata": {
        "id": "T33DzNeRDEMc",
        "colab_type": "text"
      },
      "source": [
        "#### 4.1.3 Elif"
      ]
    },
    {
      "cell_type": "markdown",
      "metadata": {
        "id": "hbNtcdWFy_l5",
        "colab_type": "text"
      },
      "source": [
        "O **elif** ajuda a evitar a escrita de varios **if** aninhados, isto é se existir mais de uma condição alternativa que precisa ser verificada, devemos utilizar o **elif** para avaliar as expressões intermediárias antes de usar o else, da seguinte forma:\n",
        "\n",
        "Na linha 2 definimos a primeira condição (idade < 12). Caso essa não seja atendida, o programa seguirá para a linha 4 e avaliará a próxima condição (elif), que se for verdadeira fará com que o bloco logo abaixo (a linha 5, nesse caso) seja executado. Caso essa condição ainda não seja atendida (elif), há uma outra alternativa na linha 6 que será avaliada e que fará com que o bloco logo abaixo seja executado se ela for atendida. Por fim, se nenhuma das condições for satisfeita, o programa seguirá para a linha 8, executando o que é definido pelo else."
      ]
    },
    {
      "cell_type": "code",
      "metadata": {
        "id": "TjjnYRALwyyb",
        "colab_type": "code",
        "outputId": "f8c1527c-afcb-4052-fb7c-c45bdd9eb6f8",
        "colab": {
          "base_uri": "https://localhost:8080/",
          "height": 34
        }
      },
      "source": [
        "preco = 100\n",
        "if preco > 100:\n",
        "  print(\"Não vou comprar o produto\") \n",
        "elif preco < 50:\n",
        "  print(\"preço menor do que 50\")\n",
        "elif preco < 100: \n",
        "  print('preço maior ou igual a 50 ou menor que 100')\n",
        "else: \n",
        "  print('vou pensar se compro o produto')"
      ],
      "execution_count": 26,
      "outputs": [
        {
          "output_type": "stream",
          "text": [
            "vou pensar se compro o produto\n"
          ],
          "name": "stdout"
        }
      ]
    },
    {
      "cell_type": "code",
      "metadata": {
        "id": "bL7x836m0On4",
        "colab_type": "code",
        "outputId": "0495c8a3-e98a-4908-f8de-f4bb7ee0fc8f",
        "colab": {
          "base_uri": "https://localhost:8080/",
          "height": 35
        }
      },
      "source": [
        "idade = 80\n",
        "if idade <= 12:\n",
        "    print('crianca')\n",
        "elif 12 < idade <18:\n",
        "    print('adolescente')\n",
        "elif idade < 60:\n",
        "    print('adulto')\n",
        "else:\n",
        "    print('idoso')"
      ],
      "execution_count": 0,
      "outputs": [
        {
          "output_type": "stream",
          "text": [
            "idoso\n"
          ],
          "name": "stdout"
        }
      ]
    },
    {
      "cell_type": "code",
      "metadata": {
        "id": "khyY38Kg2Raa",
        "colab_type": "code",
        "colab": {}
      },
      "source": [
        "nome = input(\"Qual seu nome?\") \n",
        "if nome == 'Felipe':\n",
        "  print(\"Que nome bonito\")\n",
        "elif nome =='Pedro' or nome == 'Maria' or nome == \"Tiago\":\n",
        "  print(\"Seu nome é bem popular no Brasil\")\n",
        "else:\n",
        "  print(\"Seu nome é bem normal\")\n",
        "print(\"tenha um bom dia, {}\". format(nome))"
      ],
      "execution_count": 0,
      "outputs": []
    },
    {
      "cell_type": "markdown",
      "metadata": {
        "id": "z3KWbPaJDtWA",
        "colab_type": "text"
      },
      "source": [
        "### 4.2 For"
      ]
    },
    {
      "cell_type": "markdown",
      "metadata": {
        "id": "fwXSs9IFEirU",
        "colab_type": "text"
      },
      "source": [
        "#### 4.2.1 Loop For\n",
        "\n"
      ]
    },
    {
      "cell_type": "markdown",
      "metadata": {
        "id": "W2bAu2-cfMu7",
        "colab_type": "text"
      },
      "source": [
        "Para realizar operações iterativas\n"
      ]
    },
    {
      "cell_type": "code",
      "metadata": {
        "id": "kycPdq5r8PhD",
        "colab_type": "code",
        "outputId": "3819bed3-ad8f-4764-f627-1a513e5eda99",
        "colab": {
          "base_uri": "https://localhost:8080/",
          "height": 51
        }
      },
      "source": [
        ""
      ],
      "execution_count": 0,
      "outputs": [
        {
          "output_type": "stream",
          "text": [
            "contando\n",
            "contando\n"
          ],
          "name": "stdout"
        }
      ]
    },
    {
      "cell_type": "code",
      "metadata": {
        "id": "GQHko8ykDnxS",
        "colab_type": "code",
        "colab": {
          "base_uri": "https://localhost:8080/",
          "height": 84
        },
        "outputId": "3eaeca7a-d684-4bb1-b89f-69f84a428f9b"
      },
      "source": [
        "# Criando uma tupla e imprimindo cada um dos valores \n",
        "tupla = (1,2,3,5) \n",
        "for i in tupla:\n",
        "    print(i) #imprimir cada elemento na tela "
      ],
      "execution_count": 27,
      "outputs": [
        {
          "output_type": "stream",
          "text": [
            "1\n",
            "2\n",
            "3\n",
            "5\n"
          ],
          "name": "stdout"
        }
      ]
    },
    {
      "cell_type": "code",
      "metadata": {
        "id": "EyBjWiWEErLr",
        "colab_type": "code",
        "outputId": "72c99ebc-dbb7-4b28-c0a8-f78e712ce017",
        "colab": {
          "base_uri": "https://localhost:8080/",
          "height": 67
        }
      },
      "source": [
        "# Criando uma lista e imprimindo cada um dos valores\n",
        "ListaDoMercado = [\"Leite\", \"Frutas\", \"Carne\"]\n",
        "for i in ListaDoMercado:\n",
        "    print(i)"
      ],
      "execution_count": 28,
      "outputs": [
        {
          "output_type": "stream",
          "text": [
            "Leite\n",
            "Frutas\n",
            "Carne\n"
          ],
          "name": "stdout"
        }
      ]
    },
    {
      "cell_type": "code",
      "metadata": {
        "id": "UIE43nSn6Rg9",
        "colab_type": "code",
        "outputId": "dd6caa57-7e63-4b76-8cb3-66b359041bc1",
        "colab": {
          "base_uri": "https://localhost:8080/",
          "height": 67
        }
      },
      "source": [
        "#criando um diccionario \n",
        "dicionario = {\"aaa\":10, \"bbb\":20, \"ccc\":30}\n",
        "for i in dicionario:\n",
        "    print(i)"
      ],
      "execution_count": 29,
      "outputs": [
        {
          "output_type": "stream",
          "text": [
            "aaa\n",
            "bbb\n",
            "ccc\n"
          ],
          "name": "stdout"
        }
      ]
    },
    {
      "cell_type": "code",
      "metadata": {
        "id": "yESlFgDp6_N4",
        "colab_type": "code",
        "outputId": "54e0ffbe-074f-4d45-ca07-1aaa106cc05b",
        "colab": {
          "base_uri": "https://localhost:8080/",
          "height": 67
        }
      },
      "source": [
        "dicionario = {\"aaa\":10, \"bbb\":20, \"ccc\":30}\n",
        "for i in dicionario.values():\n",
        "  print(i)"
      ],
      "execution_count": 30,
      "outputs": [
        {
          "output_type": "stream",
          "text": [
            "10\n",
            "20\n",
            "30\n"
          ],
          "name": "stdout"
        }
      ]
    },
    {
      "cell_type": "code",
      "metadata": {
        "id": "8h532OTt7GLw",
        "colab_type": "code",
        "outputId": "4043396c-4d56-4b6f-b11c-cd9b98aad2a4",
        "colab": {
          "base_uri": "https://localhost:8080/",
          "height": 72
        }
      },
      "source": [
        "dicionario = {\"aaa\":10, \"bbb\":20, \"ccc\":30}\n",
        "for i in dicionario:\n",
        "    print(i, dicionario[i])"
      ],
      "execution_count": 0,
      "outputs": [
        {
          "output_type": "stream",
          "text": [
            "aaa 10\n",
            "bbb 20\n",
            "ccc 30\n"
          ],
          "name": "stdout"
        }
      ]
    },
    {
      "cell_type": "markdown",
      "metadata": {
        "id": "gGzSn3Xtf4Uy",
        "colab_type": "text"
      },
      "source": [
        "A função range( ) retorna uma série numérica no intervalo enviado como argumento. "
      ]
    },
    {
      "cell_type": "code",
      "metadata": {
        "id": "BR2OqfwIEs88",
        "colab_type": "code",
        "colab": {
          "base_uri": "https://localhost:8080/",
          "height": 101
        },
        "outputId": "1a8075d9-655d-44b6-c083-886c8a04cf19"
      },
      "source": [
        "# Imprimindo os valores no intervalo entre 0 e 5 (exclusive)\n",
        "for i in range(0,5): \n",
        "    print(i)"
      ],
      "execution_count": 34,
      "outputs": [
        {
          "output_type": "stream",
          "text": [
            "0\n",
            "1\n",
            "2\n",
            "3\n",
            "4\n"
          ],
          "name": "stdout"
        }
      ]
    },
    {
      "cell_type": "code",
      "metadata": {
        "id": "GtRC7NgWyhwv",
        "colab_type": "code",
        "colab": {
          "base_uri": "https://localhost:8080/",
          "height": 50
        },
        "outputId": "d463e9fd-6ff0-4707-a9ea-4236522e7a70"
      },
      "source": [
        "for i in range(2):   #range(0,10,5) \n",
        "  print ('contando')"
      ],
      "execution_count": 35,
      "outputs": [
        {
          "output_type": "stream",
          "text": [
            "contando\n",
            "contando\n"
          ],
          "name": "stdout"
        }
      ]
    },
    {
      "cell_type": "code",
      "metadata": {
        "id": "T4KwTVD2EvW7",
        "colab_type": "code",
        "colab": {
          "base_uri": "https://localhost:8080/",
          "height": 101
        },
        "outputId": "5f02451c-70dc-40b3-dcc2-71585540b794"
      },
      "source": [
        "# Imprimindo na tela os números pares da lista de números\n",
        "lista = [1,2,3,4,5,6,7,8,9,10]\n",
        "for num in lista:\n",
        "    if num % 2 == 0:   #lembrando que % é o resto da divisão\n",
        "        print (num)"
      ],
      "execution_count": 36,
      "outputs": [
        {
          "output_type": "stream",
          "text": [
            "2\n",
            "4\n",
            "6\n",
            "8\n",
            "10\n"
          ],
          "name": "stdout"
        }
      ]
    },
    {
      "cell_type": "code",
      "metadata": {
        "id": "t36-mza9Ex3x",
        "colab_type": "code",
        "colab": {}
      },
      "source": [
        "# Listando os números no intervalo entre 0 e 50, incremento de  5\n",
        "for i in range(0,50,5):  \n",
        "    print(i)"
      ],
      "execution_count": 0,
      "outputs": []
    },
    {
      "cell_type": "code",
      "metadata": {
        "id": "vfCDv6clEzaV",
        "colab_type": "code",
        "colab": {}
      },
      "source": [
        "# Strings também são sequências\n",
        "for caracter in 'Python é legal':\n",
        "    print (caracter)"
      ],
      "execution_count": 0,
      "outputs": []
    },
    {
      "cell_type": "code",
      "metadata": {
        "id": "TwxlJ0Y_E9v2",
        "colab_type": "code",
        "outputId": "848f78de-f908-47da-dfcf-fe487204be8c",
        "colab": {
          "base_uri": "https://localhost:8080/",
          "height": 34
        }
      },
      "source": [
        "# Operando os valores de uma lista com loop for\n",
        "listaB = [1,2,3,4]\n",
        "soma = 0\n",
        "for i in listaB:\n",
        "    doble_i = i * 2\n",
        "    soma = soma + doble_i   #ou soma += doble_i\n",
        "\n",
        "print(soma)"
      ],
      "execution_count": 0,
      "outputs": [
        {
          "output_type": "stream",
          "text": [
            "20\n"
          ],
          "name": "stdout"
        }
      ]
    },
    {
      "cell_type": "code",
      "metadata": {
        "id": "WKyHE8d6E_Ql",
        "colab_type": "code",
        "outputId": "08071df3-5b18-42ea-de49-9969b0c15f41",
        "colab": {
          "base_uri": "https://localhost:8080/",
          "height": 68
        }
      },
      "source": [
        "# percorrer  lista de listas\n",
        "listas = [[1,2,3], [10,15,14], [10.1,8.7,2.3]]\n",
        "for valor in listas:\n",
        "    print(valor)"
      ],
      "execution_count": 0,
      "outputs": [
        {
          "output_type": "stream",
          "text": [
            "[1, 2, 3]\n",
            "[10, 15, 14]\n",
            "[10.1, 8.7, 2.3]\n"
          ],
          "name": "stdout"
        }
      ]
    },
    {
      "cell_type": "code",
      "metadata": {
        "id": "_cmUGDvS0Qwf",
        "colab_type": "code",
        "outputId": "8e7ca8a7-b7f6-440b-c67c-3d2472f6d6c1",
        "colab": {
          "base_uri": "https://localhost:8080/",
          "height": 51
        }
      },
      "source": [
        "#contando o numero de colunas\n",
        "lista = [[1,2,3], [10,15,14], [10.1,8.7]]\n",
        "primeira_linha = lista[2]\n",
        "count = 0\n",
        "for column in primeira_linha:\n",
        "    count = count+1\n",
        "    print(count)"
      ],
      "execution_count": 0,
      "outputs": [
        {
          "output_type": "stream",
          "text": [
            "1\n",
            "2\n"
          ],
          "name": "stdout"
        }
      ]
    },
    {
      "cell_type": "code",
      "metadata": {
        "id": "KpKPH62_FAwV",
        "colab_type": "code",
        "outputId": "cba3b8d1-afab-41f0-aa0f-d06e16b341bf",
        "colab": {
          "base_uri": "https://localhost:8080/",
          "height": 34
        }
      },
      "source": [
        "# Contando os itens de uma lista\n",
        "lista = [5,6,10,13,17]\n",
        "count = 0\n",
        "for item in lista:\n",
        "    count = count + 1   # count += 1\n",
        "    \n",
        "print(count)"
      ],
      "execution_count": 0,
      "outputs": [
        {
          "output_type": "stream",
          "text": [
            "5\n"
          ],
          "name": "stdout"
        }
      ]
    },
    {
      "cell_type": "code",
      "metadata": {
        "id": "L3tiYaozFDq_",
        "colab_type": "code",
        "outputId": "2f0d75bd-8a2e-43b7-aecd-08d67511d9e2",
        "colab": {
          "base_uri": "https://localhost:8080/",
          "height": 34
        }
      },
      "source": [
        "# Pesquisando em listas\n",
        "lista = [5, 6, 7, 10, 50]\n",
        "# Loop através da lista\n",
        "for item in lista:\n",
        "    if item == 7:\n",
        "      print(\"Número encontrado na lista!\")\n",
        "  "
      ],
      "execution_count": 0,
      "outputs": [
        {
          "output_type": "stream",
          "text": [
            "Número encontrado na lista!\n"
          ],
          "name": "stdout"
        }
      ]
    },
    {
      "cell_type": "code",
      "metadata": {
        "id": "HOy2k_NWNCEh",
        "colab_type": "code",
        "outputId": "3cf89615-fb3e-4c19-894b-8ffc8b140bcf",
        "colab": {
          "base_uri": "https://localhost:8080/",
          "height": 68
        }
      },
      "source": [
        "# Listando as chaves de um dicionário\n",
        "dict = {'k1':'Python','k2':'R','k3':'julia'}\n",
        "for item in dict:\n",
        "     print(item)"
      ],
      "execution_count": 0,
      "outputs": [
        {
          "output_type": "stream",
          "text": [
            "k1\n",
            "k2\n",
            "k3\n"
          ],
          "name": "stdout"
        }
      ]
    },
    {
      "cell_type": "code",
      "metadata": {
        "id": "ICcjHRkWFFDh",
        "colab_type": "code",
        "outputId": "d2d9583f-dd91-4cad-de05-ae746f90f90b",
        "colab": {
          "base_uri": "https://localhost:8080/",
          "height": 68
        }
      },
      "source": [
        "# Listando os valores de um dicionário\n",
        "dict = {'k1':'Python','k2':'R','k3':'julia'}\n",
        "for item in dict:\n",
        "     print(dict[item])"
      ],
      "execution_count": 0,
      "outputs": [
        {
          "output_type": "stream",
          "text": [
            "Python\n",
            "R\n",
            "julia\n"
          ],
          "name": "stdout"
        }
      ]
    },
    {
      "cell_type": "code",
      "metadata": {
        "id": "UkClW5NvFFjK",
        "colab_type": "code",
        "outputId": "317f7716-9686-4ca5-ffe2-b7b3f1426151",
        "colab": {
          "base_uri": "https://localhost:8080/",
          "height": 68
        }
      },
      "source": [
        "# Imprimindo chave e valor do dicionário. Usando o método items() para retornar os itens de um dicionário\n",
        "dict = {'k1':'Python','k2':'R','k3':'julia'}\n",
        "for a,b in dict.items():\n",
        "    print (a,b)"
      ],
      "execution_count": 0,
      "outputs": [
        {
          "output_type": "stream",
          "text": [
            "k1 Python\n",
            "k2 R\n",
            "k3 julia\n"
          ],
          "name": "stdout"
        }
      ]
    },
    {
      "cell_type": "markdown",
      "metadata": {
        "id": "njgbbgyZFIb1",
        "colab_type": "text"
      },
      "source": [
        "### 4.3 While"
      ]
    },
    {
      "cell_type": "code",
      "metadata": {
        "id": "guPVo4GiFWag",
        "colab_type": "code",
        "colab": {}
      },
      "source": [
        "# Usando o loop while para imprimir os valores de 0 a 9\n",
        "contador = 0\n",
        "while contador < 10:\n",
        "      print('vou seguir contando')\n",
        "      contador = contador + 1   #para finalizar o loop  # contador +=1"
      ],
      "execution_count": 0,
      "outputs": []
    },
    {
      "cell_type": "code",
      "metadata": {
        "id": "zIbveeNnyvIt",
        "colab_type": "code",
        "colab": {}
      },
      "source": [
        "contador = 0 \n",
        "while contador < 10:\n",
        "      print('vou seguir contando')\n",
        "      contador +=1"
      ],
      "execution_count": 0,
      "outputs": []
    },
    {
      "cell_type": "code",
      "metadata": {
        "id": "SRWVuCGtFeNq",
        "colab_type": "code",
        "colab": {}
      },
      "source": [
        "# Também é possível usar a claúsula else para encerrar o loop while\n",
        "contador = 0\n",
        "while (contador < 5):\n",
        "      print('contador')\n",
        "      contador = contador + 1\n",
        "else:\n",
        "      print(\"O loop while foi encerrado com sucesso!\")\n"
      ],
      "execution_count": 0,
      "outputs": []
    },
    {
      "cell_type": "code",
      "metadata": {
        "id": "hgpxO6v6lKVs",
        "colab_type": "code",
        "colab": {}
      },
      "source": [
        "y = 3 \n",
        "while y < 10:\n",
        "    print(y)\n",
        "    y = y + 1\n",
        "    if y == 5:\n",
        "        print(\"y é igual a 5\")\n",
        "        break  #interrumpe o loop, não executa mais o loop\n",
        "else:\n",
        "    print(\"fim do while\")\n",
        "    "
      ],
      "execution_count": 0,
      "outputs": []
    },
    {
      "cell_type": "markdown",
      "metadata": {
        "id": "GNKzjDsjGIuI",
        "colab_type": "text"
      },
      "source": [
        "### 4.4 Range"
      ]
    },
    {
      "cell_type": "code",
      "metadata": {
        "id": "KPDA_zLdGWQr",
        "colab_type": "code",
        "colab": {}
      },
      "source": [
        "for i in range(3, 6):\n",
        "    print (i)"
      ],
      "execution_count": 0,
      "outputs": []
    },
    {
      "cell_type": "code",
      "metadata": {
        "id": "S3jJaOFxGN6f",
        "colab_type": "code",
        "colab": {}
      },
      "source": [
        "# Imprimindo números pares entre 20 e 30\n",
        "for i in range(20, 30, 2):\n",
        "    print(i)"
      ],
      "execution_count": 0,
      "outputs": []
    },
    {
      "cell_type": "code",
      "metadata": {
        "id": "BirB5w3LGXi3",
        "colab_type": "code",
        "colab": {}
      },
      "source": [
        "for i in range(0, -10, -2):\n",
        "    print(i)"
      ],
      "execution_count": 0,
      "outputs": []
    },
    {
      "cell_type": "markdown",
      "metadata": {
        "id": "HCCXWFufGpwd",
        "colab_type": "text"
      },
      "source": [
        "### 4.5 Funções"
      ]
    },
    {
      "cell_type": "code",
      "metadata": {
        "id": "KPIWWoavGtX8",
        "colab_type": "code",
        "colab": {}
      },
      "source": [
        "# Definindo uma função\n",
        "def saludo():\n",
        "    print('Hello World')"
      ],
      "execution_count": 0,
      "outputs": []
    },
    {
      "cell_type": "code",
      "metadata": {
        "id": "5tfel5LsGyJY",
        "colab_type": "code",
        "colab": {}
      },
      "source": [
        "saludo()"
      ],
      "execution_count": 0,
      "outputs": []
    },
    {
      "cell_type": "code",
      "metadata": {
        "id": "IoZQpkCaG0Sv",
        "colab_type": "code",
        "colab": {}
      },
      "source": [
        "# Definindo função com parâmetro\n",
        "def NOME(nome):\n",
        "    print('Hello %s' %(nome))"
      ],
      "execution_count": 0,
      "outputs": []
    },
    {
      "cell_type": "code",
      "metadata": {
        "id": "qd5tUh9fG12Q",
        "colab_type": "code",
        "outputId": "2dff3d16-e76d-4c94-f359-5429e362e7c3",
        "colab": {
          "base_uri": "https://localhost:8080/",
          "height": 35
        }
      },
      "source": [
        "NOME('Claudia')"
      ],
      "execution_count": 0,
      "outputs": [
        {
          "output_type": "stream",
          "text": [
            "Hello Claudia\n"
          ],
          "name": "stdout"
        }
      ]
    },
    {
      "cell_type": "code",
      "metadata": {
        "id": "6RtsWgtPG3_K",
        "colab_type": "code",
        "colab": {}
      },
      "source": [
        "def funcao_2():\n",
        "    for i in range(0, 5):\n",
        "        print(\"Número \" + str(i))    "
      ],
      "execution_count": 0,
      "outputs": []
    },
    {
      "cell_type": "code",
      "metadata": {
        "id": "DOQWh-1isXQV",
        "colab_type": "code",
        "colab": {}
      },
      "source": [
        "funcao_2()"
      ],
      "execution_count": 0,
      "outputs": []
    },
    {
      "cell_type": "code",
      "metadata": {
        "id": "55-_sWmgszPo",
        "colab_type": "code",
        "colab": {}
      },
      "source": [
        "# Função para somar números\n",
        "def soma(x,y,z):\n",
        "     return x+y+z"
      ],
      "execution_count": 0,
      "outputs": []
    },
    {
      "cell_type": "code",
      "metadata": {
        "id": "Uy-pmVFKs4jT",
        "colab_type": "code",
        "colab": {}
      },
      "source": [
        "# Chamando a função e passando parâmetros\n",
        "soma(3,4,5)"
      ],
      "execution_count": 0,
      "outputs": []
    },
    {
      "cell_type": "code",
      "metadata": {
        "id": "z09lmjxM90hs",
        "colab_type": "code",
        "colab": {}
      },
      "source": [
        "def dob(a):\n",
        "  return a*2\n"
      ],
      "execution_count": 0,
      "outputs": []
    },
    {
      "cell_type": "code",
      "metadata": {
        "id": "JG38Vl4B959h",
        "colab_type": "code",
        "outputId": "abec6607-775a-4156-a73f-67b93d7a3722",
        "colab": {
          "base_uri": "https://localhost:8080/",
          "height": 35
        }
      },
      "source": [
        "dob(10)"
      ],
      "execution_count": 0,
      "outputs": [
        {
          "output_type": "execute_result",
          "data": {
            "text/plain": [
              "20"
            ]
          },
          "metadata": {
            "tags": []
          },
          "execution_count": 93
        }
      ]
    },
    {
      "cell_type": "markdown",
      "metadata": {
        "id": "LWKObjNl88zY",
        "colab_type": "text"
      },
      "source": [
        "### 4.6 Lambda"
      ]
    },
    {
      "cell_type": "markdown",
      "metadata": {
        "id": "ZigTBkap-FhK",
        "colab_type": "text"
      },
      "source": [
        "Declarando funções de forma mais facil, lambda é conhecido como uma função anónima."
      ]
    },
    {
      "cell_type": "code",
      "metadata": {
        "id": "QfPJ9BRH9AIE",
        "colab_type": "code",
        "colab": {}
      },
      "source": [
        "func = (lambda x,y,z: x+y+z)\n"
      ],
      "execution_count": 0,
      "outputs": []
    },
    {
      "cell_type": "code",
      "metadata": {
        "id": "JcZvCdYl9k3z",
        "colab_type": "code",
        "outputId": "e0de83e5-ec0f-4726-d12a-6519293b89ee",
        "colab": {
          "base_uri": "https://localhost:8080/",
          "height": 35
        }
      },
      "source": [
        "func(3,4,5)"
      ],
      "execution_count": 0,
      "outputs": [
        {
          "output_type": "execute_result",
          "data": {
            "text/plain": [
              "12"
            ]
          },
          "metadata": {
            "tags": []
          },
          "execution_count": 95
        }
      ]
    },
    {
      "cell_type": "code",
      "metadata": {
        "id": "wCJi3Ps998xV",
        "colab_type": "code",
        "colab": {}
      },
      "source": [
        "dobro = lambda b:b*2"
      ],
      "execution_count": 0,
      "outputs": []
    },
    {
      "cell_type": "code",
      "metadata": {
        "id": "TDRobVO6-BBm",
        "colab_type": "code",
        "outputId": "bb2e2a5b-c9db-4a4e-d9b1-c0b722adba4f",
        "colab": {
          "base_uri": "https://localhost:8080/",
          "height": 35
        }
      },
      "source": [
        "dobro(50)"
      ],
      "execution_count": 0,
      "outputs": [
        {
          "output_type": "execute_result",
          "data": {
            "text/plain": [
              "100"
            ]
          },
          "metadata": {
            "tags": []
          },
          "execution_count": 97
        }
      ]
    },
    {
      "cell_type": "code",
      "metadata": {
        "id": "X6PBbuvHITgk",
        "colab_type": "code",
        "colab": {}
      },
      "source": [
        "#lembre que operadores de comparação retornam boolean, verdadeiro ou falso\n",
        "par = lambda x:x%2 ==0 "
      ],
      "execution_count": 0,
      "outputs": []
    },
    {
      "cell_type": "code",
      "metadata": {
        "id": "lXoZJ0zuIglc",
        "colab_type": "code",
        "outputId": "97e52d47-2889-4bd5-fe96-5011506fa464",
        "colab": {
          "base_uri": "https://localhost:8080/",
          "height": 34
        }
      },
      "source": [
        "par(3)"
      ],
      "execution_count": 0,
      "outputs": [
        {
          "output_type": "execute_result",
          "data": {
            "text/plain": [
              "False"
            ]
          },
          "metadata": {
            "tags": []
          },
          "execution_count": 32
        }
      ]
    },
    {
      "cell_type": "code",
      "metadata": {
        "id": "Hl6xf3VaIiN_",
        "colab_type": "code",
        "outputId": "5bfa9323-0f2a-459a-a0cc-c43513e2ffe2",
        "colab": {
          "base_uri": "https://localhost:8080/",
          "height": 34
        }
      },
      "source": [
        "par(10)"
      ],
      "execution_count": 0,
      "outputs": [
        {
          "output_type": "execute_result",
          "data": {
            "text/plain": [
              "True"
            ]
          },
          "metadata": {
            "tags": []
          },
          "execution_count": 33
        }
      ]
    },
    {
      "cell_type": "code",
      "metadata": {
        "id": "Rix9L8wYI4LT",
        "colab_type": "code",
        "outputId": "2cfd8b2f-2fb0-4c92-f3ce-d15db1da2d00",
        "colab": {
          "base_uri": "https://localhost:8080/",
          "height": 35
        }
      },
      "source": [
        "listaB = [32,53,85,10,15,17,19]\n",
        "soma = 0\n",
        "for i in listaB:\n",
        "    double_i = i * 2\n",
        "    soma = soma + double_i\n",
        "\n",
        "print(soma)"
      ],
      "execution_count": 0,
      "outputs": [
        {
          "output_type": "stream",
          "text": [
            "462\n"
          ],
          "name": "stdout"
        }
      ]
    }
  ]
}