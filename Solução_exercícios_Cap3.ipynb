{
  "nbformat": 4,
  "nbformat_minor": 0,
  "metadata": {
    "colab": {
      "name": "Solução_exercícios_Cap3.ipynb",
      "provenance": [],
      "include_colab_link": true
    },
    "kernelspec": {
      "name": "python3",
      "display_name": "Python 3"
    }
  },
  "cells": [
    {
      "cell_type": "markdown",
      "metadata": {
        "id": "view-in-github",
        "colab_type": "text"
      },
      "source": [
        "<a href=\"https://colab.research.google.com/github/lumimevi/Python_iniciante/blob/master/Solu%C3%A7%C3%A3o_exerc%C3%ADcios_Cap3.ipynb\" target=\"_parent\"><img src=\"https://colab.research.google.com/assets/colab-badge.svg\" alt=\"Open In Colab\"/></a>"
      ]
    },
    {
      "cell_type": "code",
      "metadata": {
        "id": "Dvt8ZF32Vhl7",
        "colab_type": "code",
        "colab": {}
      },
      "source": [
        "# Exercício 1 - Imprima os números de 1 a 7. Use uma lista para armazenar os números.\n",
        "lista = [1,2,3,4,5,6,7]\n",
        "print(lista)"
      ],
      "execution_count": 0,
      "outputs": []
    },
    {
      "cell_type": "code",
      "metadata": {
        "id": "18g2mRlhVqIU",
        "colab_type": "code",
        "colab": {}
      },
      "source": [
        "# Exercício 2 - Crie uma lista de 4 objetos e imprima na tela\n",
        "lista = ['banana', 'abacaxi', 'uva', 'morango']\n",
        "print(lista)"
      ],
      "execution_count": 0,
      "outputs": []
    },
    {
      "cell_type": "code",
      "metadata": {
        "id": "7riz_e8BVw_A",
        "colab_type": "code",
        "colab": {}
      },
      "source": [
        "# Exercício 3 - Crie duas strings e concatene as duas \n",
        "frase1 = 'bom '\n",
        "frase2 = 'dia'\n",
        "frase_final = frase1 + frase2\n",
        "print(frase_final)"
      ],
      "execution_count": 0,
      "outputs": []
    },
    {
      "cell_type": "code",
      "metadata": {
        "id": "BTooZTDDWH0x",
        "colab_type": "code",
        "colab": {}
      },
      "source": [
        "\"\"\"\n",
        "Exercício 4 - \n",
        "Crie uma tupla com os seguintes elementos: 0, 1, 1, 3, 4, 4, 4, 8 e depois utilize \n",
        "a função count do objeto tupla para verificar quantas vezes o número 4 aparece na tupla\n",
        "\"\"\"\n",
        "\n",
        "tupla = (0, 1, 1, 3, 4, 4, 4, 8)\n",
        "tupla.count(4)"
      ],
      "execution_count": 0,
      "outputs": []
    },
    {
      "cell_type": "code",
      "metadata": {
        "id": "PkN71_1MWW_G",
        "colab_type": "code",
        "colab": {}
      },
      "source": [
        "#Exercício 5 - Crie um dicionário vazio e imprima na tela\n",
        "dicionario = {}\n",
        "print(dicionario)"
      ],
      "execution_count": 0,
      "outputs": []
    },
    {
      "cell_type": "code",
      "metadata": {
        "id": "p5UVePjfWfFH",
        "colab_type": "code",
        "colab": {}
      },
      "source": [
        "# Exercício 6 - Crie um dicionário com 4 chaves e 4 valores e imprima na tela\n",
        "dicionario1= {'chave1':'precipitação', 'chave 2':'temperatura', 'chave 3':'umidade'}\n",
        "print(dicionario1)"
      ],
      "execution_count": 0,
      "outputs": []
    },
    {
      "cell_type": "code",
      "metadata": {
        "id": "QHbQi9V5W6zV",
        "colab_type": "code",
        "colab": {}
      },
      "source": [
        "# Exercício 7 - Adicione mais um elemento ao dicionário criado no exercício anterior e imprima na tela \n",
        "dicionario1['chave 4'] = 'neve'\n",
        "print(dicionario1)"
      ],
      "execution_count": 0,
      "outputs": []
    },
    {
      "cell_type": "code",
      "metadata": {
        "id": "324Im6AbXK1J",
        "colab_type": "code",
        "colab": {}
      },
      "source": [
        "# Exercício 8 - Crie um dicionário com 3 chaves e 3 valores. Um dos valores deve ser uma lista \n",
        "#de 2 elementos numéricos. Imprima o dicionário na tela.\n",
        "dicionario2 = {'chave1':'Ecologia', 'chave2':'Biologia', 'chave3':[100, 90]}\n",
        "print(dicionario2)"
      ],
      "execution_count": 0,
      "outputs": []
    },
    {
      "cell_type": "code",
      "metadata": {
        "id": "_cBqXqJoXaSO",
        "colab_type": "code",
        "colab": {}
      },
      "source": [
        "# Exercício 9 - Crie uma lista de 4 elementos. O primeiro elemento deve ser uma string, \n",
        "# o segundo uma tupla de 2 elementos, o terceiro um dicionário com 2 chaves e 2 valores e \n",
        "# o quarto elemento um valor do tipo float.\n",
        "# Imprima a lista na tela.\n",
        "\n",
        "lista_nova = ['String1', (90, 92), {'chave':'valor1', 'chave':'valor2'}, 107.98]\n",
        "print(lista_nova)"
      ],
      "execution_count": 0,
      "outputs": []
    },
    {
      "cell_type": "code",
      "metadata": {
        "id": "QWJ78orwXpFq",
        "colab_type": "code",
        "colab": {}
      },
      "source": [
        "# Exercício 10 - Considere a string abaixo. Imprima na tela apenas os caracteres da posição 0 a 4.\n",
        "frase = 'Simposio'\n",
        "frase[0:4]"
      ],
      "execution_count": 0,
      "outputs": []
    }
  ]
}