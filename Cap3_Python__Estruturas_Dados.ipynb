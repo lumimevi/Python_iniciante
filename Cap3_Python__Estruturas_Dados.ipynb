{
  "nbformat": 4,
  "nbformat_minor": 0,
  "metadata": {
    "colab": {
      "name": "Cap3_Python_ Estruturas_Dados.ipynb",
      "provenance": [],
      "toc_visible": true,
      "include_colab_link": true
    },
    "kernelspec": {
      "name": "python3",
      "display_name": "Python 3"
    }
  },
  "cells": [
    {
      "cell_type": "markdown",
      "metadata": {
        "id": "view-in-github",
        "colab_type": "text"
      },
      "source": [
        "<a href=\"https://colab.research.google.com/github/lumimevi/Python_iniciante/blob/master/Cap3_Python__Estruturas_Dados.ipynb\" target=\"_parent\"><img src=\"https://colab.research.google.com/assets/colab-badge.svg\" alt=\"Open In Colab\"/></a>"
      ]
    },
    {
      "cell_type": "markdown",
      "metadata": {
        "id": "-Clj5F5UxwMi",
        "colab_type": "text"
      },
      "source": [
        "# **Capitulo 3 - Estruturas de Dados**"
      ]
    },
    {
      "cell_type": "markdown",
      "metadata": {
        "id": "F9vzVK4QzRiH",
        "colab_type": "text"
      },
      "source": [
        "### **3.1 Listas**\n",
        "\n",
        "As listas podem ser pensadas na versão mais geral de uma sequência em Python. Ao contrário das strings, eles são mutáveis, o que significa que os elementos dentro de uma lista podem ser alterados.\n",
        "\n",
        "Nesta seção, aprenderemos :\n",
        "\n",
        " 3.1.1) Criação de listas\n",
        "\n",
        " 3.1.2) Índice e corte de listas\n",
        "\n",
        " 3.1.3) Métodos básicos da lista\n",
        "\n",
        " 3.1.4) Listas aninhadas\n",
        "\n",
        "\n",
        "As listas são construídas com colchetes [ ] e vírgulas que separam cada elemento da lista."
      ]
    },
    {
      "cell_type": "markdown",
      "metadata": {
        "id": "R5En9UZfzv8K",
        "colab_type": "text"
      },
      "source": [
        "#### 3.1.1 Criação de listas"
      ]
    },
    {
      "cell_type": "code",
      "metadata": {
        "id": "RtZ5feQE5F_l",
        "colab_type": "code",
        "colab": {}
      },
      "source": [
        "lista = [] \n",
        "print(lista)"
      ],
      "execution_count": 0,
      "outputs": []
    },
    {
      "cell_type": "code",
      "metadata": {
        "id": "RGR0QtQ42ltX",
        "colab_type": "code",
        "colab": {}
      },
      "source": [
        "biomas_brasileiros = [\"Amazonia,Cerrado, Caatinga, Pantanal, Pampa\"] "
      ],
      "execution_count": 0,
      "outputs": []
    },
    {
      "cell_type": "code",
      "metadata": {
        "id": "tlEMv3Rx2yHG",
        "colab_type": "code",
        "colab": {}
      },
      "source": [
        "#Imprimindo a lista\n",
        "print(biomas_brasileiros)"
      ],
      "execution_count": 0,
      "outputs": []
    },
    {
      "cell_type": "code",
      "metadata": {
        "id": "vPivLLB722kN",
        "colab_type": "code",
        "colab": {}
      },
      "source": [
        "biomas_br = [\"Amazonia\",\"Cerrado\", \"Caatinga\", \"Mata Atlantica\", \"Pantanal\", \"Pampa\"]"
      ],
      "execution_count": 0,
      "outputs": []
    },
    {
      "cell_type": "code",
      "metadata": {
        "id": "GNSj9QXd28FL",
        "colab_type": "code",
        "colab": {}
      },
      "source": [
        "print(biomas_br)"
      ],
      "execution_count": 0,
      "outputs": []
    },
    {
      "cell_type": "code",
      "metadata": {
        "id": "XgmbOAUF2-DA",
        "colab_type": "code",
        "colab": {}
      },
      "source": [
        "biomas_brasileiros[0]"
      ],
      "execution_count": 0,
      "outputs": []
    },
    {
      "cell_type": "code",
      "metadata": {
        "id": "nZ_09oWZ3Lsy",
        "colab_type": "code",
        "colab": {}
      },
      "source": [
        "biomas_br[0]"
      ],
      "execution_count": 0,
      "outputs": []
    },
    {
      "cell_type": "code",
      "metadata": {
        "id": "QDZ-IiBh512I",
        "colab_type": "code",
        "colab": {}
      },
      "source": [
        "#imprimindo um item da lista\n",
        "biomas_br[2]"
      ],
      "execution_count": 0,
      "outputs": []
    },
    {
      "cell_type": "code",
      "metadata": {
        "id": "xePj4I7l6QEB",
        "colab_type": "code",
        "colab": {}
      },
      "source": [
        "#Atualizando o um intem da lista\n",
        "biomas_br[3]= \"Mata\""
      ],
      "execution_count": 0,
      "outputs": []
    },
    {
      "cell_type": "code",
      "metadata": {
        "id": "5BB0nu2B6c0K",
        "colab_type": "code",
        "colab": {}
      },
      "source": [
        "print(biomas_br)"
      ],
      "execution_count": 0,
      "outputs": []
    },
    {
      "cell_type": "code",
      "metadata": {
        "id": "-a8_96CA7eJ1",
        "colab_type": "code",
        "colab": {}
      },
      "source": [
        "biomas_br = [\"Amazonia\",\"Cerrado\", \"Caatinga\", \"Mata Atlantica\", \"Pantanal\", \"Pampa\"]\n",
        "del biomas_br[3]"
      ],
      "execution_count": 0,
      "outputs": []
    },
    {
      "cell_type": "code",
      "metadata": {
        "id": "LOP1IDln7m9_",
        "colab_type": "code",
        "colab": {}
      },
      "source": [
        "print(biomas_br)"
      ],
      "execution_count": 0,
      "outputs": []
    },
    {
      "cell_type": "code",
      "metadata": {
        "id": "y7DiNE734we9",
        "colab_type": "code",
        "colab": {}
      },
      "source": [
        "lista2 = [20, 50, 100]"
      ],
      "execution_count": 0,
      "outputs": []
    },
    {
      "cell_type": "code",
      "metadata": {
        "id": "8__i-ytf7zTM",
        "colab_type": "code",
        "colab": {}
      },
      "source": [
        "print(lista2)"
      ],
      "execution_count": 0,
      "outputs": []
    },
    {
      "cell_type": "markdown",
      "metadata": {
        "id": "IBJROGCoz9iO",
        "colab_type": "text"
      },
      "source": [
        "Acabamos de criar uma lista de números inteiros, mas as listas podem realmente armazenar diferentes tipos de objeto. Por exemplo:"
      ]
    },
    {
      "cell_type": "code",
      "metadata": {
        "id": "_hs67ZTAvIG7",
        "colab_type": "code",
        "colab": {}
      },
      "source": [
        "lista3 = ['mudanças climaticas',2019,'Brasil']\n",
        "lista3"
      ],
      "execution_count": 0,
      "outputs": []
    },
    {
      "cell_type": "markdown",
      "metadata": {
        "id": "Gi8ouHPg0Cin",
        "colab_type": "text"
      },
      "source": [
        "Assim como as strings, a função len() irá dizer-lhe quantos itens estão na sequência da lista."
      ]
    },
    {
      "cell_type": "code",
      "metadata": {
        "id": "PzL9gQho0BQQ",
        "colab_type": "code",
        "colab": {}
      },
      "source": [
        "len(lista3)"
      ],
      "execution_count": 0,
      "outputs": []
    },
    {
      "cell_type": "markdown",
      "metadata": {
        "id": "g77b63Nt0Jln",
        "colab_type": "text"
      },
      "source": [
        "#### 3.1.2 Indice e cortes de  listas\n",
        "\n",
        "Indexar e cortar funciona exatamente como em strings. Vamos fazer uma nova lista para nos lembrar de como isso funciona:"
      ]
    },
    {
      "cell_type": "code",
      "metadata": {
        "id": "N4cxGn2S0Fg6",
        "colab_type": "code",
        "colab": {}
      },
      "source": [
        "lista4 = [2018,2019,'chuva','temperatura','umidade', 'evaporação']"
      ],
      "execution_count": 0,
      "outputs": []
    },
    {
      "cell_type": "code",
      "metadata": {
        "id": "SXd8Sxyf0fHi",
        "colab_type": "code",
        "colab": {}
      },
      "source": [
        "# Pega o elemento de indice 0\n",
        "lista4[0]"
      ],
      "execution_count": 0,
      "outputs": []
    },
    {
      "cell_type": "code",
      "metadata": {
        "id": "a7wB2KNJ0gEd",
        "colab_type": "code",
        "colab": {}
      },
      "source": [
        "# Pegue o índice 1 e tudo depois\n",
        "lista4[1:]"
      ],
      "execution_count": 0,
      "outputs": []
    },
    {
      "cell_type": "code",
      "metadata": {
        "id": "Uoj5dcDC0hUg",
        "colab_type": "code",
        "colab": {}
      },
      "source": [
        "# Pega tudo até o elemento de índice 3\n",
        "lista4[:3]"
      ],
      "execution_count": 0,
      "outputs": []
    },
    {
      "cell_type": "markdown",
      "metadata": {
        "id": "w-swV7R-0ia4",
        "colab_type": "text"
      },
      "source": [
        "Nós também podemos usar + para concatenar listas, assim como fizemos por strings."
      ]
    },
    {
      "cell_type": "code",
      "metadata": {
        "id": "ChdU_EAy0lpJ",
        "colab_type": "code",
        "colab": {}
      },
      "source": [
        "lista4 + ['evapotranspiração'] "
      ],
      "execution_count": 0,
      "outputs": []
    },
    {
      "cell_type": "markdown",
      "metadata": {
        "id": "a3hBGNX70oSd",
        "colab_type": "text"
      },
      "source": [
        "Lembre que: Isso realmente não altera a lista original"
      ]
    },
    {
      "cell_type": "code",
      "metadata": {
        "id": "mne51ju90o9X",
        "colab_type": "code",
        "colab": {}
      },
      "source": [
        "print(lista4)"
      ],
      "execution_count": 0,
      "outputs": []
    },
    {
      "cell_type": "markdown",
      "metadata": {
        "id": "Bq0pOBMQ0rEh",
        "colab_type": "text"
      },
      "source": [
        "Você teria que reatribuir a lista para tornar a mudança permanente."
      ]
    },
    {
      "cell_type": "code",
      "metadata": {
        "id": "OQ19FJze0rpz",
        "colab_type": "code",
        "colab": {}
      },
      "source": [
        "# Reassignando\n",
        "lista4 = lista4 + ['evapotranspiração']\n",
        "print(lista4)"
      ],
      "execution_count": 0,
      "outputs": []
    },
    {
      "cell_type": "markdown",
      "metadata": {
        "id": "NKakTSBB0ugW",
        "colab_type": "text"
      },
      "source": [
        "Também podemos usar o * para um método de duplicação semelhante às strings:"
      ]
    },
    {
      "cell_type": "code",
      "metadata": {
        "id": "bBGL_Rv90s86",
        "colab_type": "code",
        "colab": {}
      },
      "source": [
        "# list double\n",
        "lista4 * 2"
      ],
      "execution_count": 0,
      "outputs": []
    },
    {
      "cell_type": "markdown",
      "metadata": {
        "id": "q2WzSeIZ00wK",
        "colab_type": "text"
      },
      "source": [
        "#### 3.1.3 Métodos de lista básico\n",
        "As listas em Python,  não têm tamanho fixo (o que significa que não precisamos especificar o tamanho de uma lista)\n",
        "\n",
        "Vamos prosseguir e explore alguns métodos mais especiais para listas:"
      ]
    },
    {
      "cell_type": "code",
      "metadata": {
        "id": "OqkMV3A_0wiC",
        "colab_type": "code",
        "colab": {}
      },
      "source": [
        "# Cria a lista\n",
        "lista5 = [\"banana\",\"tangerina\",\"laranja\",\"tomate\"]"
      ],
      "execution_count": 0,
      "outputs": []
    },
    {
      "cell_type": "markdown",
      "metadata": {
        "id": "8557syN71DPn",
        "colab_type": "text"
      },
      "source": [
        "Use o método append para adicionar permanentemente um item ao final de uma lista:"
      ]
    },
    {
      "cell_type": "code",
      "metadata": {
        "id": "oiq7QsQf1EaU",
        "colab_type": "code",
        "colab": {}
      },
      "source": [
        "# Append\n",
        "lista5.append(\"melão\")\n",
        "lista5"
      ],
      "execution_count": 0,
      "outputs": []
    },
    {
      "cell_type": "markdown",
      "metadata": {
        "id": "KFtD1NQz1G5c",
        "colab_type": "text"
      },
      "source": [
        "Use pop para \"retirar\" um item da lista. Por padrão, pop tira o último índice, mas também pode especificar qual índice aparecer. Vamos ver um exemplo:"
      ]
    },
    {
      "cell_type": "code",
      "metadata": {
        "id": "icSihHaY-PVs",
        "colab_type": "code",
        "colab": {}
      },
      "source": [
        "lista5 = [\"banana\",\"tangerina\",\"laranja\",\"tomate\"]\n",
        "lista5.pop()\n",
        "print(lista5)"
      ],
      "execution_count": 0,
      "outputs": []
    },
    {
      "cell_type": "code",
      "metadata": {
        "id": "FdNvUJ7W1HYc",
        "colab_type": "code",
        "colab": {}
      },
      "source": [
        "#pop remove pelo indice\n",
        "# Retira o item de índice 0 \n",
        "\n",
        "lista5 = [\"banana\",\"tangerina\",\"laranja\",\"tomate\"]\n",
        "lista5.pop(0)\n",
        "print(lista5)"
      ],
      "execution_count": 0,
      "outputs": []
    },
    {
      "cell_type": "code",
      "metadata": {
        "id": "_9rDaiuGUOej",
        "colab_type": "code",
        "colab": {}
      },
      "source": [
        "#removendo pelo elemento\n",
        "lista5 = [\"banana\",\"tangerina\",\"laranja\",\"tomate\"]\n",
        "lista5.remove(\"banana\")\n",
        "print(lista5)"
      ],
      "execution_count": 0,
      "outputs": []
    },
    {
      "cell_type": "markdown",
      "metadata": {
        "id": "Geb3L1RD1M-r",
        "colab_type": "text"
      },
      "source": [
        "Podemos usar o metodo sort e os metodos reverse para alterar suas listas"
      ]
    },
    {
      "cell_type": "code",
      "metadata": {
        "id": "atbPx8Fw1NjX",
        "colab_type": "code",
        "colab": {}
      },
      "source": [
        "frutas = [\"banana\",\"tangerina\",\"laranja\", \"melão\", \"manga\", \"morango\"]\n",
        "print(frutas)"
      ],
      "execution_count": 0,
      "outputs": []
    },
    {
      "cell_type": "code",
      "metadata": {
        "id": "aPDOZOQk1QbW",
        "colab_type": "code",
        "colab": {}
      },
      "source": [
        "# Use o reverse para reverter a ordem original\n",
        "frutas.reverse()\n"
      ],
      "execution_count": 0,
      "outputs": []
    },
    {
      "cell_type": "code",
      "metadata": {
        "id": "0-jxRu8_1R0w",
        "colab_type": "code",
        "colab": {}
      },
      "source": [
        "print(frutas)"
      ],
      "execution_count": 0,
      "outputs": []
    },
    {
      "cell_type": "code",
      "metadata": {
        "id": "d5X3jYuK1TQM",
        "colab_type": "code",
        "colab": {}
      },
      "source": [
        "# Use sort para classificar a lista em ordem crescente\n",
        "frutas.sort(reverse=False)\n",
        "frutas"
      ],
      "execution_count": 0,
      "outputs": []
    },
    {
      "cell_type": "code",
      "metadata": {
        "id": "2AIhtovu_lMb",
        "colab_type": "code",
        "colab": {}
      },
      "source": [
        "# Use sort para classificar a lista em ordem decrescente\n",
        "frutas.sort(reverse= True)"
      ],
      "execution_count": 0,
      "outputs": []
    },
    {
      "cell_type": "code",
      "metadata": {
        "id": "TCx7xO0B1U05",
        "colab_type": "code",
        "colab": {}
      },
      "source": [
        "frutas"
      ],
      "execution_count": 0,
      "outputs": []
    },
    {
      "cell_type": "markdown",
      "metadata": {
        "id": "_VNT0Vt31cj0",
        "colab_type": "text"
      },
      "source": [
        "#### 3.3.4 Listas aninhadas\n",
        "\n",
        "Uma ótima característica das estruturas de dados do Python é que eles suportam **aninhamento**. Isso significa que podemos ter estruturas de dados dentro das estruturas de dados. Por exemplo: uma lista dentro de uma lista."
      ]
    },
    {
      "cell_type": "code",
      "metadata": {
        "id": "X_kJkWKd1oO1",
        "colab_type": "code",
        "colab": {}
      },
      "source": [
        "# Começamos com 3 listas\n",
        "lst_1=[1,2,3]\n",
        "lst_2=[4,5,6]\n",
        "lst_3=[7,8,9]\n",
        "\n",
        "# Faça uma lista de listas para formar uma matriz\n",
        "matrix = [lst_1,lst_2,lst_3]"
      ],
      "execution_count": 0,
      "outputs": []
    },
    {
      "cell_type": "code",
      "metadata": {
        "id": "72UBJ8U_1t4w",
        "colab_type": "code",
        "colab": {}
      },
      "source": [
        "# Mostra\n",
        "matrix"
      ],
      "execution_count": 0,
      "outputs": []
    },
    {
      "cell_type": "markdown",
      "metadata": {
        "id": "M2OEIvii1vmW",
        "colab_type": "text"
      },
      "source": [
        "Agora, podemos usar novamente a indexação para pegar elementos, mas agora existem dois níveis para o índice. Os itens no objeto matriz e, em seguida, os itens dentro dessa lista!"
      ]
    },
    {
      "cell_type": "code",
      "metadata": {
        "id": "uw3_1r8-1wIS",
        "colab_type": "code",
        "colab": {}
      },
      "source": [
        "# Pegue o primeiro item no objeto da matriz\n",
        "matrix[0]"
      ],
      "execution_count": 0,
      "outputs": []
    },
    {
      "cell_type": "code",
      "metadata": {
        "id": "d-xokKCN1yVU",
        "colab_type": "code",
        "colab": {}
      },
      "source": [
        "# Pegue o primeiro item do primeiro item no objeto da matriz\n",
        "matrix[0][0]"
      ],
      "execution_count": 0,
      "outputs": []
    },
    {
      "cell_type": "code",
      "metadata": {
        "id": "wX5lwNEB99em",
        "colab_type": "code",
        "colab": {}
      },
      "source": [
        "matrix[0][0]+10"
      ],
      "execution_count": 0,
      "outputs": []
    },
    {
      "cell_type": "markdown",
      "metadata": {
        "id": "AXIh7-MwHaoJ",
        "colab_type": "text"
      },
      "source": [
        "Se queremos saber o indice de um determinado elemento"
      ]
    },
    {
      "cell_type": "code",
      "metadata": {
        "id": "JdZ4mK-gHeXI",
        "colab_type": "code",
        "colab": {}
      },
      "source": [
        "plantas = [\"bromélia\", \"Angico\", \"barriguda\", \"cacto\", \"carnaúba\", \"catingueira\"]"
      ],
      "execution_count": 0,
      "outputs": []
    },
    {
      "cell_type": "code",
      "metadata": {
        "id": "rx_-K8l4I46y",
        "colab_type": "code",
        "colab": {}
      },
      "source": [
        "print(plantas)"
      ],
      "execution_count": 0,
      "outputs": []
    },
    {
      "cell_type": "code",
      "metadata": {
        "id": "KwH7FnOOI-ae",
        "colab_type": "code",
        "colab": {}
      },
      "source": [
        "plantas.index('barriguda')"
      ],
      "execution_count": 0,
      "outputs": []
    },
    {
      "cell_type": "code",
      "metadata": {
        "id": "hItDnwrl-jVw",
        "colab_type": "code",
        "colab": {}
      },
      "source": [
        "#concatenando listas\n",
        "lista6= [20, 30,50]\n",
        "lista7=[90, 80,60]"
      ],
      "execution_count": 0,
      "outputs": []
    },
    {
      "cell_type": "code",
      "metadata": {
        "id": "ZuwJCj8d-zOf",
        "colab_type": "code",
        "colab": {}
      },
      "source": [
        "listatotal= lista6+lista7"
      ],
      "execution_count": 0,
      "outputs": []
    },
    {
      "cell_type": "code",
      "metadata": {
        "id": "eRXd-gqI-4fA",
        "colab_type": "code",
        "colab": {}
      },
      "source": [
        "print(listatotal)"
      ],
      "execution_count": 0,
      "outputs": []
    },
    {
      "cell_type": "markdown",
      "metadata": {
        "id": "WSO_UWhf_Vrq",
        "colab_type": "text"
      },
      "source": [
        "Vamo utilizar operado \"in\" que serve para verificar se existe um elemento dentro da lista."
      ]
    },
    {
      "cell_type": "code",
      "metadata": {
        "id": "rtflhb09_U2n",
        "colab_type": "code",
        "colab": {}
      },
      "source": [
        "plantas = [\"bromélia\", \"Angico\", \"barriguda\", \"cacto\", \"carnaúba\", \"catingueira\"]"
      ],
      "execution_count": 0,
      "outputs": []
    },
    {
      "cell_type": "code",
      "metadata": {
        "id": "U7s6egGV_ow4",
        "colab_type": "code",
        "colab": {}
      },
      "source": [
        "#verificamos se o valor 30 pertence a nossa lista\n",
        "print(\"bromélia\" in plantas)"
      ],
      "execution_count": 0,
      "outputs": []
    },
    {
      "cell_type": "code",
      "metadata": {
        "id": "WVYLnMDI_pAj",
        "colab_type": "code",
        "colab": {}
      },
      "source": [
        "print(\"girasol\" in plantas)"
      ],
      "execution_count": 0,
      "outputs": []
    },
    {
      "cell_type": "markdown",
      "metadata": {
        "id": "QHBEmo3GAVHx",
        "colab_type": "text"
      },
      "source": [
        "Utilizando  Funções Built-in, "
      ]
    },
    {
      "cell_type": "code",
      "metadata": {
        "id": "HSu1SNrJAeJL",
        "colab_type": "code",
        "colab": {}
      },
      "source": [
        "criandolista = [10,20,30,40,50,60,90]\n",
        "len(criandolista)"
      ],
      "execution_count": 0,
      "outputs": []
    },
    {
      "cell_type": "code",
      "metadata": {
        "id": "y9m6fSDnCXc8",
        "colab_type": "code",
        "colab": {}
      },
      "source": [
        "print(\"tamanho da lista : %d\" % len(criandolista))    # especificador de formato para numero inteiros ( %d %)"
      ],
      "execution_count": 0,
      "outputs": []
    },
    {
      "cell_type": "code",
      "metadata": {
        "id": "ULNt3H8_AgYg",
        "colab_type": "code",
        "colab": {}
      },
      "source": [
        "max(criandolista)"
      ],
      "execution_count": 0,
      "outputs": []
    },
    {
      "cell_type": "code",
      "metadata": {
        "id": "ToXQmwKlAiUO",
        "colab_type": "code",
        "colab": {}
      },
      "source": [
        "min(criandolista)"
      ],
      "execution_count": 0,
      "outputs": []
    },
    {
      "cell_type": "markdown",
      "metadata": {
        "id": "7jqAslpW8Zq-",
        "colab_type": "text"
      },
      "source": [
        "### 3.2 **Dicionarios**\n",
        "\n",
        "Nós temos aprendido sobre *sequências* em Python, mas agora vamos mudar de engrenagem e aprender sobre *mapeamentos* em Python. \n",
        "\n",
        "Esta seção servirá como uma breve introdução aos dicionários e consiste em:\n",
        "\n",
        "3.2.1) Construindo um Dicionário\n",
        "\n",
        "3.2.2) Acessando objetos de um dicionário\n",
        "\n",
        "3.2.3) Dicionários de assentamento\n",
        "\n",
        "3.2.3) Métodos básicos do dicionário\n",
        "\n",
        "\n",
        "Então, o que são os mapeamentos? Os mapeamentos são uma coleção de objetos que são armazenados por uma chave, ao contrário de uma seqüência que armazena objetos por sua posição relativa. Esta é uma distinção importante, uma vez que os mapeamentos não reterão a ordem, pois possuem objetos definidos por uma chave.\n",
        "\n",
        "Um dicionário de Python consiste em uma chave e depois em um valor associado. Esse valor pode ser quase qualquer objeto Python.\n"
      ]
    },
    {
      "cell_type": "markdown",
      "metadata": {
        "id": "B9BIbaArNZAU",
        "colab_type": "text"
      },
      "source": [
        "#### 3.2.1 Construindo um Dicionário"
      ]
    },
    {
      "cell_type": "code",
      "metadata": {
        "id": "uWF7caLwJhsF",
        "colab_type": "code",
        "colab": {}
      },
      "source": [
        "#Criamos uma lista\n",
        "estudantes_lista = [ \"Julia\", 18, \"Maria\", 20, \"João\", 25, \"David\", 24]"
      ],
      "execution_count": 0,
      "outputs": []
    },
    {
      "cell_type": "code",
      "metadata": {
        "id": "0MnqechDK3ii",
        "colab_type": "code",
        "colab": {}
      },
      "source": [
        "print(estudantes_lista)"
      ],
      "execution_count": 0,
      "outputs": []
    },
    {
      "cell_type": "code",
      "metadata": {
        "id": "iKtgSYxOK_oI",
        "colab_type": "code",
        "colab": {}
      },
      "source": [
        "estudantes_dic= {\"Julia\":24, \"Maria\":20, \"João\": 25, \"David\": 24}"
      ],
      "execution_count": 0,
      "outputs": []
    },
    {
      "cell_type": "code",
      "metadata": {
        "id": "1goaCQ42LUM0",
        "colab_type": "code",
        "colab": {}
      },
      "source": [
        "print(estudantes_dic)"
      ],
      "execution_count": 0,
      "outputs": []
    },
    {
      "cell_type": "code",
      "metadata": {
        "id": "4vjGB7mLLhZ8",
        "colab_type": "code",
        "colab": {}
      },
      "source": [
        "# Chamando valores pela chave\n",
        "estudantes_dic[\"Julia\"]"
      ],
      "execution_count": 0,
      "outputs": []
    },
    {
      "cell_type": "markdown",
      "metadata": {
        "id": "vJt2OHAhOIXg",
        "colab_type": "text"
      },
      "source": [
        "Também podemos  adicionar-lhe continuamente:"
      ]
    },
    {
      "cell_type": "code",
      "metadata": {
        "id": "gKlbJxFXMNiG",
        "colab_type": "code",
        "colab": {}
      },
      "source": [
        "estudantes_dic[\"Moises\"] = 18"
      ],
      "execution_count": 0,
      "outputs": []
    },
    {
      "cell_type": "code",
      "metadata": {
        "id": "vEszHcjQMVeK",
        "colab_type": "code",
        "colab": {}
      },
      "source": [
        "estudantes_dic"
      ],
      "execution_count": 0,
      "outputs": []
    },
    {
      "cell_type": "code",
      "metadata": {
        "id": "H2UnresYVaeM",
        "colab_type": "code",
        "colab": {}
      },
      "source": [
        "estudantes_dic2 = {\"Josue\":19, \"Mario\": 22}"
      ],
      "execution_count": 0,
      "outputs": []
    },
    {
      "cell_type": "code",
      "metadata": {
        "id": "iThgEPsTVjsq",
        "colab_type": "code",
        "colab": {}
      },
      "source": [
        "estudantes_dic.update(estudantes_dic2)"
      ],
      "execution_count": 0,
      "outputs": []
    },
    {
      "cell_type": "code",
      "metadata": {
        "id": "5m_IajyIV3E0",
        "colab_type": "code",
        "colab": {}
      },
      "source": [
        "print(estudantes_dic)"
      ],
      "execution_count": 0,
      "outputs": []
    },
    {
      "cell_type": "markdown",
      "metadata": {
        "id": "wSGquaXxN2Rb",
        "colab_type": "text"
      },
      "source": [
        "É importante notar que os dicionários são muito flexíveis com relação aos tipos de dados que eles podem conter. Por exemplo:"
      ]
    },
    {
      "cell_type": "code",
      "metadata": {
        "id": "6UFVBZ-uN3mm",
        "colab_type": "code",
        "colab": {}
      },
      "source": [
        "dic_1 = {'key1':123,'key2':[12,23,33],'key3':['item0','item1','item2']}"
      ],
      "execution_count": 0,
      "outputs": []
    },
    {
      "cell_type": "code",
      "metadata": {
        "id": "MvxgaYhAN6IC",
        "colab_type": "code",
        "colab": {}
      },
      "source": [
        "# Vamos chamar itens do dicionário\n",
        "dic_1['key3']"
      ],
      "execution_count": 0,
      "outputs": []
    },
    {
      "cell_type": "code",
      "metadata": {
        "id": "rQfwWXYIN71O",
        "colab_type": "code",
        "colab": {}
      },
      "source": [
        "# Podemos chamar itens de uma lista presente na posição referente à chave 'key3'\n",
        "dic_1['key3'][0]"
      ],
      "execution_count": 0,
      "outputs": []
    },
    {
      "cell_type": "code",
      "metadata": {
        "id": "w-RmFC9QN9oR",
        "colab_type": "code",
        "colab": {}
      },
      "source": [
        "# Podemos chamar métodos nos itens também\n",
        "dic_1['key3'][0].upper()"
      ],
      "execution_count": 0,
      "outputs": []
    },
    {
      "cell_type": "markdown",
      "metadata": {
        "id": "a1Abrt7fP2y4",
        "colab_type": "text"
      },
      "source": [
        "#### 3.2.2 Aninhamento de dicionários\n",
        "\n",
        "Vamos ver um dicionário aninhado dentro de um dicionário:"
      ]
    },
    {
      "cell_type": "code",
      "metadata": {
        "id": "j6G7M_VZP8DB",
        "colab_type": "code",
        "colab": {}
      },
      "source": [
        "dic2 = {'key1':{'nestkey':{'subnestkey':'value'}}}"
      ],
      "execution_count": 0,
      "outputs": []
    },
    {
      "cell_type": "code",
      "metadata": {
        "id": "lsG5ePL0QDDi",
        "colab_type": "code",
        "colab": {}
      },
      "source": [
        "# Continue chamando as chaves...\n",
        "dic2['key1']['nestkey']['subnestkey']"
      ],
      "execution_count": 0,
      "outputs": []
    },
    {
      "cell_type": "markdown",
      "metadata": {
        "id": "x5HWOHIKQHEL",
        "colab_type": "text"
      },
      "source": [
        "#### 3.2.3 Alguns métodos de dicionarios\n",
        "\n",
        "Existem alguns métodos que podemos chamar em um dicionário. Vamos começar uma breve introdução a alguns deles"
      ]
    },
    {
      "cell_type": "code",
      "metadata": {
        "id": "T7ZdziwVQNZA",
        "colab_type": "code",
        "colab": {}
      },
      "source": [
        "# Cria um dicionário típico\n",
        "dic = {'key1':1,'key2':2,'key3':3}"
      ],
      "execution_count": 0,
      "outputs": []
    },
    {
      "cell_type": "code",
      "metadata": {
        "id": "XB-rFIVJUPrC",
        "colab_type": "code",
        "colab": {}
      },
      "source": [
        "len(dic)"
      ],
      "execution_count": 0,
      "outputs": []
    },
    {
      "cell_type": "code",
      "metadata": {
        "id": "9vdkStmBQVar",
        "colab_type": "code",
        "colab": {}
      },
      "source": [
        "# Retorna uma lista de todas as chaves\n",
        "dic.keys()"
      ],
      "execution_count": 0,
      "outputs": []
    },
    {
      "cell_type": "code",
      "metadata": {
        "id": "6mgZz4j_QXJC",
        "colab_type": "code",
        "colab": {}
      },
      "source": [
        "# Pega todos os valores\n",
        "dic.values()"
      ],
      "execution_count": 0,
      "outputs": []
    },
    {
      "cell_type": "code",
      "metadata": {
        "id": "I51bi4TIQZek",
        "colab_type": "code",
        "colab": {}
      },
      "source": [
        "# Método para retornar todos os itens \n",
        "dic.items()"
      ],
      "execution_count": 0,
      "outputs": []
    },
    {
      "cell_type": "code",
      "metadata": {
        "id": "g8Uf97fSTJiO",
        "colab_type": "code",
        "colab": {}
      },
      "source": [
        "#limpando o dicionario \n",
        "dic.clear()"
      ],
      "execution_count": 0,
      "outputs": []
    },
    {
      "cell_type": "code",
      "metadata": {
        "id": "gHMEoE_2TL_8",
        "colab_type": "code",
        "colab": {}
      },
      "source": [
        "dic"
      ],
      "execution_count": 0,
      "outputs": []
    },
    {
      "cell_type": "code",
      "metadata": {
        "id": "Pb-4C_UmTsYt",
        "colab_type": "code",
        "colab": {}
      },
      "source": [
        "#Eliminando o dicionario\n",
        "del dic "
      ],
      "execution_count": 0,
      "outputs": []
    },
    {
      "cell_type": "code",
      "metadata": {
        "id": "e9z5TPw5T3ae",
        "colab_type": "code",
        "colab": {}
      },
      "source": [
        "#vamos a imprimir\n",
        "dic"
      ],
      "execution_count": 0,
      "outputs": []
    },
    {
      "cell_type": "code",
      "metadata": {
        "id": "zHYvf00HWP3S",
        "colab_type": "code",
        "colab": {}
      },
      "source": [
        "#Criando um dicionario vazio\n",
        "dic3 = {}"
      ],
      "execution_count": 0,
      "outputs": []
    },
    {
      "cell_type": "code",
      "metadata": {
        "id": "wmUjz98WWWKx",
        "colab_type": "code",
        "colab": {}
      },
      "source": [
        "dic3[\"chave\"]=1"
      ],
      "execution_count": 0,
      "outputs": []
    },
    {
      "cell_type": "code",
      "metadata": {
        "id": "P7qF2cHQWg59",
        "colab_type": "code",
        "colab": {}
      },
      "source": [
        "print(dic3)"
      ],
      "execution_count": 0,
      "outputs": []
    },
    {
      "cell_type": "code",
      "metadata": {
        "id": "L8pOyG3nWmGz",
        "colab_type": "code",
        "colab": {}
      },
      "source": [
        "dic3[20]=5"
      ],
      "execution_count": 0,
      "outputs": []
    },
    {
      "cell_type": "code",
      "metadata": {
        "id": "Mxn38ZxPW5e-",
        "colab_type": "code",
        "colab": {}
      },
      "source": [
        "print(dic3)"
      ],
      "execution_count": 0,
      "outputs": []
    },
    {
      "cell_type": "code",
      "metadata": {
        "id": "FrYJ8y1IW7l-",
        "colab_type": "code",
        "colab": {}
      },
      "source": [
        "dic3[8]=\"pandas\""
      ],
      "execution_count": 0,
      "outputs": []
    },
    {
      "cell_type": "code",
      "metadata": {
        "id": "JBr3gkljXEWO",
        "colab_type": "code",
        "colab": {}
      },
      "source": [
        "print(dic3)"
      ],
      "execution_count": 0,
      "outputs": []
    },
    {
      "cell_type": "code",
      "metadata": {
        "id": "WIE8j-t1XiDs",
        "colab_type": "code",
        "colab": {}
      },
      "source": [
        "dic4= {}"
      ],
      "execution_count": 0,
      "outputs": []
    },
    {
      "cell_type": "code",
      "metadata": {
        "id": "ZYRwpC8MXl09",
        "colab_type": "code",
        "colab": {}
      },
      "source": [
        "dic4[\"nome\"]= \"Claudia\"\n",
        "dic4[\"idade\"]= 19\n",
        "dic4[\"curso\"]= \"letras\""
      ],
      "execution_count": 0,
      "outputs": []
    },
    {
      "cell_type": "code",
      "metadata": {
        "id": "BnFesn-WYMw2",
        "colab_type": "code",
        "colab": {}
      },
      "source": [
        "print(dic4)"
      ],
      "execution_count": 0,
      "outputs": []
    },
    {
      "cell_type": "markdown",
      "metadata": {
        "id": "ZPQ6DY41YiMJ",
        "colab_type": "text"
      },
      "source": [
        "Dicionário de Listas"
      ]
    },
    {
      "cell_type": "code",
      "metadata": {
        "id": "64avV5QiYkcs",
        "colab_type": "code",
        "colab": {}
      },
      "source": [
        "dic5 = {\"chave1\": 123,  \"chave2\": [52,12,10],\"chave3\": [\"Algebra\",\"Aritmetica\", \"Fisica\"]}"
      ],
      "execution_count": 0,
      "outputs": []
    },
    {
      "cell_type": "code",
      "metadata": {
        "id": "l9ruJsPeZJ_F",
        "colab_type": "code",
        "colab": {}
      },
      "source": [
        "print(dic5)"
      ],
      "execution_count": 0,
      "outputs": []
    },
    {
      "cell_type": "code",
      "metadata": {
        "id": "VWC234RIZMVJ",
        "colab_type": "code",
        "colab": {}
      },
      "source": [
        "dic5['chave2']"
      ],
      "execution_count": 0,
      "outputs": []
    },
    {
      "cell_type": "markdown",
      "metadata": {
        "id": "huAMu7ZUZYyX",
        "colab_type": "text"
      },
      "source": [
        "Acessando um item da lista, dentro de um dicionário"
      ]
    },
    {
      "cell_type": "code",
      "metadata": {
        "id": "rPKxiUkxZenK",
        "colab_type": "code",
        "colab": {}
      },
      "source": [
        "dic5[\"chave3\"][0].upper()"
      ],
      "execution_count": 0,
      "outputs": []
    },
    {
      "cell_type": "code",
      "metadata": {
        "id": "bssxyOr8aPK5",
        "colab_type": "code",
        "colab": {}
      },
      "source": [
        "# Duas operações no mesmo comando, para atualizar um item dentro da lista\n",
        "dic5['chave2'][0] - = 2    # dic5[\"chave2\"][0] = dic5['chave][0] - 2"
      ],
      "execution_count": 0,
      "outputs": []
    },
    {
      "cell_type": "code",
      "metadata": {
        "id": "nrTLtae9a-sv",
        "colab_type": "code",
        "colab": {}
      },
      "source": [
        "print(dic5)"
      ],
      "execution_count": 0,
      "outputs": []
    },
    {
      "cell_type": "markdown",
      "metadata": {
        "id": "5R-LO2nC8pDk",
        "colab_type": "text"
      },
      "source": [
        "### **3.3 Tuplas**\n",
        "\n",
        "As tuplas são muito semelhantes às listas, no entanto, ao contrário das listas, elas são imutáveis, o que significa que elas não podem ser alteradas.\n",
        "\n",
        "Nesta seção, obteremos uma breve visão geral do seguinte:\n",
        "\n",
        " 1.) Construindo Tuplas\n",
        "\n",
        " 2.) Métodos básicos das Tuplas\n",
        " \n",
        " 3.) Imutabilidade\n",
        " \n",
        " 4.) Quando usar Tuplas\n",
        "\n",
        "\n"
      ]
    },
    {
      "cell_type": "markdown",
      "metadata": {
        "id": "iD0XZuJaRt1I",
        "colab_type": "text"
      },
      "source": [
        "#### 3.3.1 Construindo Tuplas\n",
        "\n",
        "A construção de tuplas usa ( ) com elementos separados por vírgulas. Por exemplo:"
      ]
    },
    {
      "cell_type": "code",
      "metadata": {
        "id": "xQvaQx6i8lLN",
        "colab_type": "code",
        "colab": {}
      },
      "source": [
        "# Pode-se criar uma tupla com múltiplos elementos\n",
        "tupla = (1,2,3)"
      ],
      "execution_count": 0,
      "outputs": []
    },
    {
      "cell_type": "code",
      "metadata": {
        "id": "DZ4MFTM9R2nC",
        "colab_type": "code",
        "colab": {}
      },
      "source": [
        "# O método len() funciona também para tuplas\n",
        "len(tupla)"
      ],
      "execution_count": 0,
      "outputs": []
    },
    {
      "cell_type": "code",
      "metadata": {
        "id": "auPXQ2rtR43j",
        "colab_type": "code",
        "colab": {}
      },
      "source": [
        "# Você também pode variar os tipos de dados\n",
        "tupla = ('dois',2)"
      ],
      "execution_count": 0,
      "outputs": []
    },
    {
      "cell_type": "code",
      "metadata": {
        "id": "P6cUof73R89P",
        "colab_type": "code",
        "colab": {}
      },
      "source": [
        "# Mostra\n",
        "tupla"
      ],
      "execution_count": 0,
      "outputs": []
    },
    {
      "cell_type": "code",
      "metadata": {
        "id": "mbWnJQyBR92n",
        "colab_type": "code",
        "colab": {}
      },
      "source": [
        "# E a indexação funciona exatamente como nas listas\n",
        "tupla[0]"
      ],
      "execution_count": 0,
      "outputs": []
    },
    {
      "cell_type": "code",
      "metadata": {
        "id": "DnTnNaprSBci",
        "colab_type": "code",
        "colab": {}
      },
      "source": [
        "# Corte de dados também...\n",
        "tupla[-1]"
      ],
      "execution_count": 0,
      "outputs": []
    },
    {
      "cell_type": "markdown",
      "metadata": {
        "id": "97tVZ8etSD9k",
        "colab_type": "text"
      },
      "source": [
        "#### 3.3.2 Métodos básicos da Tupla\n",
        "\n",
        "As tuplas têm métodos internos, mas não tantas quanto listas. "
      ]
    },
    {
      "cell_type": "code",
      "metadata": {
        "id": "ryM7LtbvSJLr",
        "colab_type": "code",
        "colab": {}
      },
      "source": [
        "# Use .index com o valor de parâmetro para retornar o índice do mesmo\n",
        "tupla = ('dois',2)\n",
        "tupla.index('dois')"
      ],
      "execution_count": 0,
      "outputs": []
    },
    {
      "cell_type": "code",
      "metadata": {
        "id": "OesMc5I4SRAx",
        "colab_type": "code",
        "colab": {}
      },
      "source": [
        "# Use .count() para saber quantas vezes determinado elemento apareceu na tupla\n",
        "tupla.count('dois')"
      ],
      "execution_count": 0,
      "outputs": []
    },
    {
      "cell_type": "markdown",
      "metadata": {
        "id": "0UYtXZEWSTK_",
        "colab_type": "text"
      },
      "source": [
        "#### 3.3.3 Imutabilidade\n",
        "\n",
        "Como mencionado anteriormente, tuplas são imutáveis"
      ]
    },
    {
      "cell_type": "code",
      "metadata": {
        "id": "0o2jhSedSYGB",
        "colab_type": "code",
        "colab": {}
      },
      "source": [
        "tupla[0]= 'change'"
      ],
      "execution_count": 0,
      "outputs": []
    },
    {
      "cell_type": "markdown",
      "metadata": {
        "id": "OC4oBvzmSdih",
        "colab_type": "text"
      },
      "source": [
        "Por causa dessa imutabilidade, as tuplas não podem crescer. Uma vez que uma tupla é feita, não podemos adicionar a ela."
      ]
    },
    {
      "cell_type": "code",
      "metadata": {
        "id": "7SV6SFIISeES",
        "colab_type": "code",
        "colab": {}
      },
      "source": [
        "tupla.append('nope')"
      ],
      "execution_count": 0,
      "outputs": []
    },
    {
      "cell_type": "code",
      "metadata": {
        "id": "5joAdNs9nDRs",
        "colab_type": "code",
        "colab": {}
      },
      "source": [
        "del tupla['dois']"
      ],
      "execution_count": 0,
      "outputs": []
    },
    {
      "cell_type": "code",
      "metadata": {
        "id": "EaA0BGOveFcN",
        "colab_type": "code",
        "colab": {}
      },
      "source": [
        "# Usando a função list() para converter uma tupla para lista\n",
        "lista_tupla = list(tupla) "
      ],
      "execution_count": 0,
      "outputs": []
    },
    {
      "cell_type": "code",
      "metadata": {
        "id": "9jWS_95ceY9R",
        "colab_type": "code",
        "colab": {}
      },
      "source": [
        "lista_tupla"
      ],
      "execution_count": 0,
      "outputs": []
    },
    {
      "cell_type": "code",
      "metadata": {
        "id": "xAYALrhylppq",
        "colab_type": "code",
        "colab": {}
      },
      "source": [
        "lista_tupla.append('D')"
      ],
      "execution_count": 0,
      "outputs": []
    },
    {
      "cell_type": "code",
      "metadata": {
        "id": "O3ZVVYJGn8Bg",
        "colab_type": "code",
        "colab": {}
      },
      "source": [
        "#convertento lista para tupla\n",
        "tupla2 = tuple(lista_tupla)"
      ],
      "execution_count": 0,
      "outputs": []
    },
    {
      "cell_type": "code",
      "metadata": {
        "id": "Ra0ezMfBoDqV",
        "colab_type": "code",
        "colab": {}
      },
      "source": [
        "print(tupla2)"
      ],
      "execution_count": 0,
      "outputs": []
    },
    {
      "cell_type": "markdown",
      "metadata": {
        "id": "fUk4CNPjblqS",
        "colab_type": "text"
      },
      "source": [
        "# Exercicios"
      ]
    },
    {
      "cell_type": "code",
      "metadata": {
        "id": "59Rz5lUCbq1_",
        "colab_type": "code",
        "colab": {}
      },
      "source": [
        "# Exercício 1 - Imprima os números de 1 a 7. Use uma lista para armazenar os números.\n"
      ],
      "execution_count": 0,
      "outputs": []
    },
    {
      "cell_type": "code",
      "metadata": {
        "id": "A9mZy6embxvj",
        "colab_type": "code",
        "colab": {}
      },
      "source": [
        "# Exercício 2 - Crie uma lista de 4 objetos e imprima na tela\n"
      ],
      "execution_count": 0,
      "outputs": []
    },
    {
      "cell_type": "code",
      "metadata": {
        "id": "QqL1dysNcbLl",
        "colab_type": "code",
        "colab": {}
      },
      "source": [
        "# Exercício 3 - Crie duas strings e concatene as duas \n"
      ],
      "execution_count": 0,
      "outputs": []
    },
    {
      "cell_type": "code",
      "metadata": {
        "id": "1QNoPTB2cflI",
        "colab_type": "code",
        "colab": {}
      },
      "source": [
        "\"\"\"\n",
        "Exercício 4 - \n",
        "Crie uma tupla com os seguintes elementos: 0, 1, 1, 3, 4, 4, 4, 8 e depois utilize \n",
        "a função count do objeto tupla para verificar quantas vezes o número 4 aparece na tupla\n",
        "\"\"\"\n"
      ],
      "execution_count": 0,
      "outputs": []
    },
    {
      "cell_type": "code",
      "metadata": {
        "id": "ysNydeAzc3OE",
        "colab_type": "code",
        "colab": {}
      },
      "source": [
        "#Exercício 5 - Crie um dicionário vazio e imprima na tela\n"
      ],
      "execution_count": 0,
      "outputs": []
    },
    {
      "cell_type": "code",
      "metadata": {
        "id": "xdFMlITwc6F8",
        "colab_type": "code",
        "colab": {}
      },
      "source": [
        "# Exercício 6 - Crie um dicionário com 4 chaves e 4 valores e imprima na tela\n"
      ],
      "execution_count": 0,
      "outputs": []
    },
    {
      "cell_type": "code",
      "metadata": {
        "id": "dSe986Iqc-vC",
        "colab_type": "code",
        "colab": {}
      },
      "source": [
        "# Exercício 7 - Adicione mais um elemento ao dicionário criado no exercício anterior e imprima na tela \n"
      ],
      "execution_count": 0,
      "outputs": []
    },
    {
      "cell_type": "code",
      "metadata": {
        "id": "vmzgndUmdF0j",
        "colab_type": "code",
        "colab": {}
      },
      "source": [
        "# Exercício 8 - Crie um dicionário com 3 chaves e 3 valores. Um dos valores deve ser uma lista \n",
        "#de 2 elementos numéricos. Imprima o dicionário na tela.\n"
      ],
      "execution_count": 0,
      "outputs": []
    },
    {
      "cell_type": "code",
      "metadata": {
        "id": "oama9EmydP5Q",
        "colab_type": "code",
        "colab": {}
      },
      "source": [
        "# Exercício 9 - Crie uma lista de 4 elementos. O primeiro elemento deve ser uma string, \n",
        "# o segundo uma tupla de 2 elementos, o terceiro um dicionário com 2 chaves e 2 valores e \n",
        "# o quarto elemento um valor do tipo float.\n",
        "# Imprima a lista na tela.\n",
        "\n"
      ],
      "execution_count": 0,
      "outputs": []
    },
    {
      "cell_type": "code",
      "metadata": {
        "id": "-53FBk3AdRHb",
        "colab_type": "code",
        "colab": {}
      },
      "source": [
        "# Exercício 10 - Considere a string abaixo. Imprima na tela apenas os caracteres da posição 0 a 4.\n",
        "frase = 'Simposio'\n"
      ],
      "execution_count": 0,
      "outputs": []
    }
  ]
}