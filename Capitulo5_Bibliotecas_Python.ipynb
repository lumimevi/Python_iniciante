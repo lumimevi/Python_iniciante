{
  "nbformat": 4,
  "nbformat_minor": 0,
  "metadata": {
    "colab": {
      "name": "Capitulo5_Bibliotecas Python.ipynb",
      "provenance": [],
      "toc_visible": true,
      "include_colab_link": true
    },
    "kernelspec": {
      "name": "python3",
      "display_name": "Python 3"
    }
  },
  "cells": [
    {
      "cell_type": "markdown",
      "metadata": {
        "id": "view-in-github",
        "colab_type": "text"
      },
      "source": [
        "<a href=\"https://colab.research.google.com/github/lumimevi/Python_iniciante/blob/master/Capitulo5_Bibliotecas_Python.ipynb\" target=\"_parent\"><img src=\"https://colab.research.google.com/assets/colab-badge.svg\" alt=\"Open In Colab\"/></a>"
      ]
    },
    {
      "cell_type": "markdown",
      "metadata": {
        "id": "5C4PiJwi0s3E",
        "colab_type": "text"
      },
      "source": [
        "# 5.Bibliotecas Python para análise de dados"
      ]
    },
    {
      "cell_type": "markdown",
      "metadata": {
        "id": "iQfX1Sqp07ng",
        "colab_type": "text"
      },
      "source": [
        "## 5.1 Numpy\n",
        "\n",
        "* Numpy, um acronimo para Numerical Python, é um pacote fundamental para computação  matemática em Python.\n",
        "\n",
        "* Numpy fornece suporte para arrays e matrizes, além de funções matemáticas para operações com esses objetos.\n",
        "\n",
        "* Numpy oferece, um rápido e eficiente array multidimensional e operações de algebra linear.\n",
        "\n",
        "* Além da alta capacidade de processamento de arrays, Numpy auxilia em Python, para analises de dados.\n",
        "\n",
        "\n"
      ]
    },
    {
      "cell_type": "code",
      "metadata": {
        "id": "fLrooMWnx1xp",
        "colab_type": "code",
        "colab": {}
      },
      "source": [
        "# Importando o NumPy para poder usar o pacote \n",
        "import numpy as np"
      ],
      "execution_count": 0,
      "outputs": []
    },
    {
      "cell_type": "markdown",
      "metadata": {
        "id": "n2PPL2fd2Pq1",
        "colab_type": "text"
      },
      "source": [
        "### 5.1.1 Arrays\n",
        "\n",
        "Um array Numpy é um conjunto de valores, todos do mesmo tipo e indexados por uma tupla de valores não negativos,"
      ]
    },
    {
      "cell_type": "code",
      "metadata": {
        "id": "DsVZRoy5CRuP",
        "colab_type": "code",
        "colab": {}
      },
      "source": [
        "#Se quiser mais informação\n",
        "help(np.array) "
      ],
      "execution_count": 0,
      "outputs": []
    },
    {
      "cell_type": "code",
      "metadata": {
        "id": "-tX3ylcD1DTL",
        "colab_type": "code",
        "colab": {}
      },
      "source": [
        "# criando array a partir de uma lista\n",
        "#também conhecido como vetor\n",
        "vetor1 = np.array([0, 1, 2, 3, 4, 5, 6, 7, 8])"
      ],
      "execution_count": 0,
      "outputs": []
    },
    {
      "cell_type": "code",
      "metadata": {
        "id": "fyPceO84ClCo",
        "colab_type": "code",
        "outputId": "124a0776-d39a-476b-c088-90a3971ee78c",
        "colab": {
          "base_uri": "https://localhost:8080/",
          "height": 35
        }
      },
      "source": [
        "type(vetor1)"
      ],
      "execution_count": 0,
      "outputs": [
        {
          "output_type": "execute_result",
          "data": {
            "text/plain": [
              "numpy.ndarray"
            ]
          },
          "metadata": {
            "tags": []
          },
          "execution_count": 13
        }
      ]
    },
    {
      "cell_type": "code",
      "metadata": {
        "id": "BEIayvbt1Ur1",
        "colab_type": "code",
        "outputId": "e9927473-9716-4753-b76c-06306219d421",
        "colab": {
          "base_uri": "https://localhost:8080/",
          "height": 35
        }
      },
      "source": [
        "# Imprimindo um elemento específico no array\n",
        "vetor1[0]"
      ],
      "execution_count": 0,
      "outputs": [
        {
          "output_type": "execute_result",
          "data": {
            "text/plain": [
              "0"
            ]
          },
          "metadata": {
            "tags": []
          },
          "execution_count": 14
        }
      ]
    },
    {
      "cell_type": "code",
      "metadata": {
        "id": "IR4r_ZT21XOj",
        "colab_type": "code",
        "colab": {}
      },
      "source": [
        "# Alterando um elemento do array\n",
        "vetor1[0] = 100"
      ],
      "execution_count": 0,
      "outputs": []
    },
    {
      "cell_type": "code",
      "metadata": {
        "id": "4SDMqlGi1Z2f",
        "colab_type": "code",
        "outputId": "9bbad05a-7225-4afc-b4e1-04fba262fcab",
        "colab": {
          "base_uri": "https://localhost:8080/",
          "height": 35
        }
      },
      "source": [
        "print(vetor1)"
      ],
      "execution_count": 0,
      "outputs": [
        {
          "output_type": "stream",
          "text": [
            "[100   1   2   3   4   5   6   7   8]\n"
          ],
          "name": "stdout"
        }
      ]
    },
    {
      "cell_type": "code",
      "metadata": {
        "id": "z80M1ZAa1M75",
        "colab_type": "code",
        "outputId": "968b2f3e-1af3-45df-af37-275e230ddbd2",
        "colab": {
          "base_uri": "https://localhost:8080/",
          "height": 35
        }
      },
      "source": [
        "# Usando métodos do array NumPy\n",
        "vetor1.cumsum()   #soma acumulada do vetor"
      ],
      "execution_count": 0,
      "outputs": [
        {
          "output_type": "execute_result",
          "data": {
            "text/plain": [
              "array([100, 101, 103, 106, 110, 115, 121, 128, 136])"
            ]
          },
          "metadata": {
            "tags": []
          },
          "execution_count": 17
        }
      ]
    },
    {
      "cell_type": "code",
      "metadata": {
        "id": "Mj0iL0OO1i7x",
        "colab_type": "code",
        "colab": {}
      },
      "source": [
        "# A função arange cria um vetor contendo uma progressão aritmética a partir de um intervalo - start, stop, step\n",
        "vetor2 = np.arange(0, 5, 2)"
      ],
      "execution_count": 0,
      "outputs": []
    },
    {
      "cell_type": "code",
      "metadata": {
        "id": "LVmQLMzf1opJ",
        "colab_type": "code",
        "outputId": "739cbb95-6f93-4d5f-fd7e-015e60472b15",
        "colab": {
          "base_uri": "https://localhost:8080/",
          "height": 35
        }
      },
      "source": [
        "print(vetor2)"
      ],
      "execution_count": 0,
      "outputs": [
        {
          "output_type": "stream",
          "text": [
            "[0 2 4]\n"
          ],
          "name": "stdout"
        }
      ]
    },
    {
      "cell_type": "code",
      "metadata": {
        "id": "BkquywgrDUdl",
        "colab_type": "code",
        "outputId": "fa3b038d-723b-42b3-d04c-b7c0e789e61a",
        "colab": {
          "base_uri": "https://localhost:8080/",
          "height": 35
        }
      },
      "source": [
        "#para saber a dimensão de nosso vetor\n",
        "print(vetor2.shape)"
      ],
      "execution_count": 0,
      "outputs": [
        {
          "output_type": "stream",
          "text": [
            "(3,)\n"
          ],
          "name": "stdout"
        }
      ]
    },
    {
      "cell_type": "code",
      "metadata": {
        "id": "S6YW1RVB1rbE",
        "colab_type": "code",
        "outputId": "c97d382e-d1ba-4b97-85e0-c932ab9a85ec",
        "colab": {
          "base_uri": "https://localhost:8080/",
          "height": 108
        }
      },
      "source": [
        "x = np.arange(1, 15, 0.25)\n",
        "print(x) "
      ],
      "execution_count": 0,
      "outputs": [
        {
          "output_type": "stream",
          "text": [
            "[ 1.    1.25  1.5   1.75  2.    2.25  2.5   2.75  3.    3.25  3.5   3.75\n",
            "  4.    4.25  4.5   4.75  5.    5.25  5.5   5.75  6.    6.25  6.5   6.75\n",
            "  7.    7.25  7.5   7.75  8.    8.25  8.5   8.75  9.    9.25  9.5   9.75\n",
            " 10.   10.25 10.5  10.75 11.   11.25 11.5  11.75 12.   12.25 12.5  12.75\n",
            " 13.   13.25 13.5  13.75 14.   14.25 14.5  14.75]\n"
          ],
          "name": "stdout"
        }
      ]
    },
    {
      "cell_type": "code",
      "metadata": {
        "id": "lGmwCj3O10Ch",
        "colab_type": "code",
        "outputId": "22a7d5f9-6167-4773-c2cb-c967ae059db0",
        "colab": {
          "base_uri": "https://localhost:8080/",
          "height": 34
        }
      },
      "source": [
        "print(np.zeros(10))"
      ],
      "execution_count": 0,
      "outputs": [
        {
          "output_type": "stream",
          "text": [
            "[0. 0. 0. 0. 0. 0. 0. 0. 0. 0.]\n"
          ],
          "name": "stdout"
        }
      ]
    },
    {
      "cell_type": "code",
      "metadata": {
        "id": "kOyillN2130x",
        "colab_type": "code",
        "colab": {}
      },
      "source": [
        "# Retorna 1 nas posições em diagonal e 0 no restante\n",
        "z = np.eye(3)"
      ],
      "execution_count": 0,
      "outputs": []
    },
    {
      "cell_type": "code",
      "metadata": {
        "id": "4f2Uy1kq16Gj",
        "colab_type": "code",
        "outputId": "6df027a8-f75f-4ca3-e81f-753777045dd0",
        "colab": {
          "base_uri": "https://localhost:8080/",
          "height": 68
        }
      },
      "source": [
        "z"
      ],
      "execution_count": 0,
      "outputs": [
        {
          "output_type": "execute_result",
          "data": {
            "text/plain": [
              "array([[1., 0., 0.],\n",
              "       [0., 1., 0.],\n",
              "       [0., 0., 1.]])"
            ]
          },
          "metadata": {
            "tags": []
          },
          "execution_count": 14
        }
      ]
    },
    {
      "cell_type": "code",
      "metadata": {
        "id": "r28o3FX72BNE",
        "colab_type": "code",
        "colab": {}
      },
      "source": [
        "# Os valores passados como parâmetro, formam uma diagonal\n",
        "d = np.diag(np.array([1, 2, 3, 4]))"
      ],
      "execution_count": 0,
      "outputs": []
    },
    {
      "cell_type": "code",
      "metadata": {
        "id": "O9hJNAVh2DQf",
        "colab_type": "code",
        "colab": {}
      },
      "source": [
        "d"
      ],
      "execution_count": 0,
      "outputs": []
    },
    {
      "cell_type": "markdown",
      "metadata": {
        "id": "AupGOLob2VxG",
        "colab_type": "text"
      },
      "source": [
        "### 5.1.2 Matrizes"
      ]
    },
    {
      "cell_type": "code",
      "metadata": {
        "id": "IQAqhLHr2FaL",
        "colab_type": "code",
        "colab": {}
      },
      "source": [
        "# Criando uma matriz\n",
        "matriz = np.array([[1,2,3],[4,5,6]])"
      ],
      "execution_count": 0,
      "outputs": []
    },
    {
      "cell_type": "code",
      "metadata": {
        "id": "sGrBCLyU2b8c",
        "colab_type": "code",
        "outputId": "6be9ffd6-bec0-4b59-d230-f4c93b621719",
        "colab": {
          "base_uri": "https://localhost:8080/",
          "height": 54
        }
      },
      "source": [
        "print(matriz)"
      ],
      "execution_count": 0,
      "outputs": [
        {
          "output_type": "stream",
          "text": [
            "[[1 2 3]\n",
            " [4 5 6]]\n"
          ],
          "name": "stdout"
        }
      ]
    },
    {
      "cell_type": "code",
      "metadata": {
        "id": "zDa8u1Ai2doG",
        "colab_type": "code",
        "outputId": "14f44be2-8664-4aea-ac1b-e2c761e8bcd1",
        "colab": {
          "base_uri": "https://localhost:8080/",
          "height": 35
        }
      },
      "source": [
        "print(matriz.shape)"
      ],
      "execution_count": 0,
      "outputs": [
        {
          "output_type": "stream",
          "text": [
            "(2, 3)\n"
          ],
          "name": "stdout"
        }
      ]
    },
    {
      "cell_type": "code",
      "metadata": {
        "id": "nkKyiXMQ2g8q",
        "colab_type": "code",
        "colab": {}
      },
      "source": [
        "# Criando uma matriz 2x3 apenas com números \"1\"\n",
        "matriz1 = np.ones((2,3))"
      ],
      "execution_count": 0,
      "outputs": []
    },
    {
      "cell_type": "code",
      "metadata": {
        "id": "YGI16Tzg2jOH",
        "colab_type": "code",
        "outputId": "598d5d7d-7566-49bb-88f0-9ce72ad36a25",
        "colab": {
          "base_uri": "https://localhost:8080/",
          "height": 51
        }
      },
      "source": [
        "print(matriz1)"
      ],
      "execution_count": 0,
      "outputs": [
        {
          "output_type": "stream",
          "text": [
            "[[1. 1. 1.]\n",
            " [1. 1. 1.]]\n"
          ],
          "name": "stdout"
        }
      ]
    },
    {
      "cell_type": "code",
      "metadata": {
        "id": "j4r8MhfQ2z9Y",
        "colab_type": "code",
        "colab": {}
      },
      "source": [
        "# Criando uma matriz a partir de uma lista de listas\n",
        "lista = [[13,81,22], [0, 34, 59], [21, 48, 94]]\n",
        "lista"
      ],
      "execution_count": 0,
      "outputs": []
    },
    {
      "cell_type": "code",
      "metadata": {
        "id": "YqhvQGMh2rCf",
        "colab_type": "code",
        "colab": {}
      },
      "source": [
        "# A função matrix cria uma matria a partir de uma sequência\n",
        "matriz2 = np.matrix(lista)"
      ],
      "execution_count": 0,
      "outputs": []
    },
    {
      "cell_type": "code",
      "metadata": {
        "id": "balR_Knc2vPu",
        "colab_type": "code",
        "colab": {}
      },
      "source": [
        "matriz2"
      ],
      "execution_count": 0,
      "outputs": []
    },
    {
      "cell_type": "code",
      "metadata": {
        "id": "pM4fUQeO29KQ",
        "colab_type": "code",
        "outputId": "5c4693c3-f060-46e9-ce1a-97df6c26909a",
        "colab": {
          "base_uri": "https://localhost:8080/",
          "height": 34
        }
      },
      "source": [
        "# Formato da matriz\n",
        "np.shape(matriz2)"
      ],
      "execution_count": 0,
      "outputs": [
        {
          "output_type": "execute_result",
          "data": {
            "text/plain": [
              "(3, 3)"
            ]
          },
          "metadata": {
            "tags": []
          },
          "execution_count": 53
        }
      ]
    },
    {
      "cell_type": "code",
      "metadata": {
        "id": "hKwC0bdc2_0W",
        "colab_type": "code",
        "colab": {}
      },
      "source": [
        "# Alterando um elemento da matriz\n",
        "matriz2[1,0] = 100"
      ],
      "execution_count": 0,
      "outputs": []
    },
    {
      "cell_type": "code",
      "metadata": {
        "id": "JpZQ9CL63Brx",
        "colab_type": "code",
        "outputId": "ce00d487-10d5-4637-edb2-5ffe97b86f12",
        "colab": {
          "base_uri": "https://localhost:8080/",
          "height": 68
        }
      },
      "source": [
        "matriz2"
      ],
      "execution_count": 0,
      "outputs": [
        {
          "output_type": "execute_result",
          "data": {
            "text/plain": [
              "matrix([[ 13,  81,  22],\n",
              "        [100,  34,  59],\n",
              "        [ 21,  48,  94]])"
            ]
          },
          "metadata": {
            "tags": []
          },
          "execution_count": 31
        }
      ]
    },
    {
      "cell_type": "code",
      "metadata": {
        "id": "iLp5Zx_BW9Rc",
        "colab_type": "code",
        "outputId": "f35351de-3d0d-498f-e99b-d85930999085",
        "colab": {
          "base_uri": "https://localhost:8080/",
          "height": 90
        }
      },
      "source": [
        "import numpy as np\n",
        "array2 = np.array(((6, 12, 93, 2),\n",
        "                 (5, 26, 78, 90),\n",
        "                     (3, 12, 16, 22),\n",
        "                     (5, 3, 1, 16)))\n",
        " \n",
        "print(array2)"
      ],
      "execution_count": 0,
      "outputs": [
        {
          "output_type": "stream",
          "text": [
            "[[ 6 12 93  2]\n",
            " [ 5 26 78 90]\n",
            " [ 3 12 16 22]\n",
            " [ 5  3  1 16]]\n"
          ],
          "name": "stdout"
        }
      ]
    },
    {
      "cell_type": "code",
      "metadata": {
        "id": "H_BQvuVcXE-T",
        "colab_type": "code",
        "outputId": "8ef028a0-23c7-4d5a-99e1-b6e7692118fa",
        "colab": {
          "base_uri": "https://localhost:8080/",
          "height": 163
        }
      },
      "source": [
        "array2_reshaped = np.reshape(array2, (8,2))\n",
        "print(array2_reshaped)"
      ],
      "execution_count": 0,
      "outputs": [
        {
          "output_type": "stream",
          "text": [
            "[[ 6 12]\n",
            " [93  2]\n",
            " [ 5 26]\n",
            " [78 90]\n",
            " [ 3 12]\n",
            " [16 22]\n",
            " [ 5  3]\n",
            " [ 1 16]]\n"
          ],
          "name": "stdout"
        }
      ]
    },
    {
      "cell_type": "markdown",
      "metadata": {
        "id": "FWWPvxTb3Nwd",
        "colab_type": "text"
      },
      "source": [
        "### 5.1.3Usando o Método random() do NumPy"
      ]
    },
    {
      "cell_type": "code",
      "metadata": {
        "id": "KQboTRCz3Qpv",
        "colab_type": "code",
        "outputId": "af5e6b2c-ba5b-4666-8b7e-a2c9d1bb9bb4",
        "colab": {
          "base_uri": "https://localhost:8080/",
          "height": 54
        }
      },
      "source": [
        "print(np.random.rand(10))"
      ],
      "execution_count": 0,
      "outputs": [
        {
          "output_type": "stream",
          "text": [
            "[0.72459291 0.29911556 0.66437654 0.25109736 0.27748047 0.53068274\n",
            " 0.24374832 0.4881828  0.92751681 0.57979431]\n"
          ],
          "name": "stdout"
        }
      ]
    },
    {
      "cell_type": "markdown",
      "metadata": {
        "id": "DqYFmYwe3vNL",
        "colab_type": "text"
      },
      "source": [
        "### 5.1.4 Estatisticas"
      ]
    },
    {
      "cell_type": "code",
      "metadata": {
        "id": "RTh35LrQ3s8Q",
        "colab_type": "code",
        "colab": {}
      },
      "source": [
        "# Criando um array\n",
        "A = np.array([15, 23, 63, 94, 75])"
      ],
      "execution_count": 0,
      "outputs": []
    },
    {
      "cell_type": "code",
      "metadata": {
        "id": "nXS2YeZC31AR",
        "colab_type": "code",
        "outputId": "208728ec-054e-47dd-c5a0-fb7816b18a7d",
        "colab": {
          "base_uri": "https://localhost:8080/",
          "height": 35
        }
      },
      "source": [
        "# Em estatística a média é o valor que aponta para onde mais se concentram os dados de uma distribuição.\n",
        "np.mean(A)"
      ],
      "execution_count": 0,
      "outputs": [
        {
          "output_type": "execute_result",
          "data": {
            "text/plain": [
              "54.0"
            ]
          },
          "metadata": {
            "tags": []
          },
          "execution_count": 35
        }
      ]
    },
    {
      "cell_type": "code",
      "metadata": {
        "id": "PMpah8Dt4DRU",
        "colab_type": "code",
        "outputId": "8bafd975-410e-4041-f9cb-8aa7dc9a0f05",
        "colab": {
          "base_uri": "https://localhost:8080/",
          "height": 35
        }
      },
      "source": [
        "# O desvio padrão mostra o quanto de variação ou \"dispersão\" existe em \n",
        "# relação à média (ou valor esperado). \n",
        "# Um baixo desvio padrão indica que os dados tendem a estar próximos da média.\n",
        "# Um desvio padrão alto indica que os dados estão espalhados por uma gama de valores.\n",
        "np.std(A)"
      ],
      "execution_count": 0,
      "outputs": [
        {
          "output_type": "execute_result",
          "data": {
            "text/plain": [
              "30.34468652004828"
            ]
          },
          "metadata": {
            "tags": []
          },
          "execution_count": 36
        }
      ]
    },
    {
      "cell_type": "code",
      "metadata": {
        "id": "TDynNWGa4FtX",
        "colab_type": "code",
        "outputId": "a8f0b88a-8263-44e4-c886-fbb4629c3a9c",
        "colab": {
          "base_uri": "https://localhost:8080/",
          "height": 35
        }
      },
      "source": [
        "# Variância de uma variável aleatória é uma medida da sua dispersão \n",
        "# estatística, indicando \"o quão longe\" em geral os seus valores se \n",
        "# encontram do valor esperado\n",
        "np.var(A)"
      ],
      "execution_count": 0,
      "outputs": [
        {
          "output_type": "execute_result",
          "data": {
            "text/plain": [
              "920.8"
            ]
          },
          "metadata": {
            "tags": []
          },
          "execution_count": 37
        }
      ]
    },
    {
      "cell_type": "code",
      "metadata": {
        "id": "G0FFHmVA4H_K",
        "colab_type": "code",
        "colab": {}
      },
      "source": [
        "d = np.arange(1, 10)"
      ],
      "execution_count": 0,
      "outputs": []
    },
    {
      "cell_type": "code",
      "metadata": {
        "id": "XJysL4XX4Kbu",
        "colab_type": "code",
        "colab": {}
      },
      "source": [
        "d"
      ],
      "execution_count": 0,
      "outputs": []
    },
    {
      "cell_type": "code",
      "metadata": {
        "id": "4HJnHS7d4Mf8",
        "colab_type": "code",
        "outputId": "0ff321ab-e300-43ed-f322-c73e5954c6d1",
        "colab": {
          "base_uri": "https://localhost:8080/",
          "height": 35
        }
      },
      "source": [
        "np.sum(d)"
      ],
      "execution_count": 0,
      "outputs": [
        {
          "output_type": "execute_result",
          "data": {
            "text/plain": [
              "45"
            ]
          },
          "metadata": {
            "tags": []
          },
          "execution_count": 41
        }
      ]
    },
    {
      "cell_type": "code",
      "metadata": {
        "id": "p71sH3ku4Pav",
        "colab_type": "code",
        "outputId": "bca23552-c64b-45e2-ed63-2f2361ccde95",
        "colab": {
          "base_uri": "https://localhost:8080/",
          "height": 34
        }
      },
      "source": [
        "# Retorna o produto dos elementos\n",
        "np.prod(d)"
      ],
      "execution_count": 0,
      "outputs": [
        {
          "output_type": "execute_result",
          "data": {
            "text/plain": [
              "362880"
            ]
          },
          "metadata": {
            "tags": []
          },
          "execution_count": 46
        }
      ]
    },
    {
      "cell_type": "code",
      "metadata": {
        "id": "xRTyM-x-4RiR",
        "colab_type": "code",
        "outputId": "8474f03d-833e-46f2-80bd-ec78a990ddec",
        "colab": {
          "base_uri": "https://localhost:8080/",
          "height": 34
        }
      },
      "source": [
        "# Soma acumulada dos elementos\n",
        "np.cumsum(d)"
      ],
      "execution_count": 0,
      "outputs": [
        {
          "output_type": "execute_result",
          "data": {
            "text/plain": [
              "array([ 1,  3,  6, 10, 15, 21, 28, 36, 45])"
            ]
          },
          "metadata": {
            "tags": []
          },
          "execution_count": 47
        }
      ]
    },
    {
      "cell_type": "markdown",
      "metadata": {
        "id": "zDGqOG7I3LeK",
        "colab_type": "text"
      },
      "source": [
        "## 5.2 Pandas\n",
        "\n",
        "Para poder trabalhar com Pandas, você deve conhecer bem estas duas estruturas: Series e DataFrame.\n",
        "\n",
        "Para importar o pandas, utilize: import pandas as pd"
      ]
    },
    {
      "cell_type": "markdown",
      "metadata": {
        "id": "-Pw8gsEh9Eic",
        "colab_type": "text"
      },
      "source": [
        "#### 5.2.1 Series"
      ]
    },
    {
      "cell_type": "code",
      "metadata": {
        "id": "CUngeAYW5LoE",
        "colab_type": "code",
        "colab": {}
      },
      "source": [
        "from pandas import Series"
      ],
      "execution_count": 0,
      "outputs": []
    },
    {
      "cell_type": "code",
      "metadata": {
        "id": "o6bKayOE3OVk",
        "colab_type": "code",
        "colab": {}
      },
      "source": [
        "#importando pandas\n",
        "import pandas as pd"
      ],
      "execution_count": 0,
      "outputs": []
    },
    {
      "cell_type": "code",
      "metadata": {
        "id": "rhsnLpHc9J_Z",
        "colab_type": "code",
        "outputId": "b5534fe6-a988-431d-a029-58e5247d47fb",
        "colab": {
          "base_uri": "https://localhost:8080/",
          "height": 108
        }
      },
      "source": [
        "# Criando uma série sem especificar os índices\n",
        "Objeto1 = Series([67, 78, -56, 13])\n",
        "Objeto1 "
      ],
      "execution_count": 0,
      "outputs": [
        {
          "output_type": "execute_result",
          "data": {
            "text/plain": [
              "0    67\n",
              "1    78\n",
              "2   -56\n",
              "3    13\n",
              "dtype: int64"
            ]
          },
          "metadata": {
            "tags": []
          },
          "execution_count": 44
        }
      ]
    },
    {
      "cell_type": "code",
      "metadata": {
        "id": "SKHuZOG99QT_",
        "colab_type": "code",
        "outputId": "8b19bdaa-cd1d-4761-8984-c8a6228ce6b0",
        "colab": {
          "base_uri": "https://localhost:8080/",
          "height": 35
        }
      },
      "source": [
        "type(Objeto1)    "
      ],
      "execution_count": 0,
      "outputs": [
        {
          "output_type": "execute_result",
          "data": {
            "text/plain": [
              "pandas.core.series.Series"
            ]
          },
          "metadata": {
            "tags": []
          },
          "execution_count": 46
        }
      ]
    },
    {
      "cell_type": "code",
      "metadata": {
        "id": "_vN_tXbu9Stm",
        "colab_type": "code",
        "outputId": "c370b24b-2fa8-4d86-cd62-fd98e72db541",
        "colab": {
          "base_uri": "https://localhost:8080/",
          "height": 35
        }
      },
      "source": [
        "Objeto1.values"
      ],
      "execution_count": 0,
      "outputs": [
        {
          "output_type": "execute_result",
          "data": {
            "text/plain": [
              "array([ 67,  78, -56,  13])"
            ]
          },
          "metadata": {
            "tags": []
          },
          "execution_count": 47
        }
      ]
    },
    {
      "cell_type": "code",
      "metadata": {
        "id": "0jcjgycv9W2t",
        "colab_type": "code",
        "colab": {}
      },
      "source": [
        "# Criando uma série e especificando os índices\n",
        "Objeto2 = Series([67, 78, -56, 13], index = ['a', 'b', 'c', 'd'])"
      ],
      "execution_count": 0,
      "outputs": []
    },
    {
      "cell_type": "code",
      "metadata": {
        "id": "LQ2qiA0R9Y14",
        "colab_type": "code",
        "outputId": "e761f327-3317-424b-f2e1-7408f6afc055",
        "colab": {
          "base_uri": "https://localhost:8080/",
          "height": 108
        }
      },
      "source": [
        "Objeto2"
      ],
      "execution_count": 0,
      "outputs": [
        {
          "output_type": "execute_result",
          "data": {
            "text/plain": [
              "a    67\n",
              "b    78\n",
              "c   -56\n",
              "d    13\n",
              "dtype: int64"
            ]
          },
          "metadata": {
            "tags": []
          },
          "execution_count": 49
        }
      ]
    },
    {
      "cell_type": "code",
      "metadata": {
        "id": "NIJV1TIN9cfh",
        "colab_type": "code",
        "colab": {}
      },
      "source": [
        "Objeto2[Objeto2 > 3]"
      ],
      "execution_count": 0,
      "outputs": []
    },
    {
      "cell_type": "code",
      "metadata": {
        "id": "lZLIn0fV9gTv",
        "colab_type": "code",
        "outputId": "61f0e5ef-852f-4301-868f-ad5960df9cc2",
        "colab": {
          "base_uri": "https://localhost:8080/",
          "height": 35
        }
      },
      "source": [
        "Objeto2['b']"
      ],
      "execution_count": 0,
      "outputs": [
        {
          "output_type": "execute_result",
          "data": {
            "text/plain": [
              "78"
            ]
          },
          "metadata": {
            "tags": []
          },
          "execution_count": 51
        }
      ]
    },
    {
      "cell_type": "code",
      "metadata": {
        "id": "ZgyUec2HAO8S",
        "colab_type": "code",
        "colab": {}
      },
      "source": [
        "\"d\" in Objeto2"
      ],
      "execution_count": 0,
      "outputs": []
    },
    {
      "cell_type": "code",
      "metadata": {
        "id": "13lYTrWT9ipH",
        "colab_type": "code",
        "colab": {}
      },
      "source": [
        "# Criando uma série de dados passando um dicionário como parâmetro\n",
        "import pandas as pd\n",
        "from pandas import Series\n",
        "dict = {'Futebol':200, 'Tenis': 500, 'Natação':150, 'Volleyball':250}"
      ],
      "execution_count": 0,
      "outputs": []
    },
    {
      "cell_type": "code",
      "metadata": {
        "id": "LPFmey9e9lIF",
        "colab_type": "code",
        "colab": {}
      },
      "source": [
        "Objeto3 = Series(dict)"
      ],
      "execution_count": 0,
      "outputs": []
    },
    {
      "cell_type": "code",
      "metadata": {
        "id": "LnFZsx5f9nTR",
        "colab_type": "code",
        "outputId": "8a675891-2080-4eb8-fd36-8cdb205f72fe",
        "colab": {
          "base_uri": "https://localhost:8080/",
          "height": 108
        }
      },
      "source": [
        "Objeto3"
      ],
      "execution_count": 0,
      "outputs": [
        {
          "output_type": "execute_result",
          "data": {
            "text/plain": [
              "Futebol       200\n",
              "Tenis         500\n",
              "Natação       150\n",
              "Volleyball    250\n",
              "dtype: int64"
            ]
          },
          "metadata": {
            "tags": []
          },
          "execution_count": 56
        }
      ]
    },
    {
      "cell_type": "code",
      "metadata": {
        "id": "vpfeBI4X9qk5",
        "colab_type": "code",
        "colab": {}
      },
      "source": [
        "# Criando uma lista\n",
        "esportes = ['Futebol', 'Tenis', 'Natação', 'Basktetball']"
      ],
      "execution_count": 0,
      "outputs": []
    },
    {
      "cell_type": "code",
      "metadata": {
        "id": "Vaf81A009sYh",
        "colab_type": "code",
        "colab": {}
      },
      "source": [
        "# Criando uma serie e usando uma lista como índice\n",
        "Objeto4 = Series(dict, index=esportes)"
      ],
      "execution_count": 0,
      "outputs": []
    },
    {
      "cell_type": "code",
      "metadata": {
        "id": "zV1pK2-p9vrA",
        "colab_type": "code",
        "colab": {}
      },
      "source": [
        "Objeto4\n"
      ],
      "execution_count": 0,
      "outputs": []
    },
    {
      "cell_type": "code",
      "metadata": {
        "id": "AoFLcAwO95cH",
        "colab_type": "code",
        "outputId": "27b8fd41-cb32-45d7-a30c-f0a084c0e5a1",
        "colab": {
          "base_uri": "https://localhost:8080/",
          "height": 108
        }
      },
      "source": [
        "pd.isnull(Objeto4)"
      ],
      "execution_count": 0,
      "outputs": [
        {
          "output_type": "execute_result",
          "data": {
            "text/plain": [
              "Futebol        False\n",
              "Tenis          False\n",
              "Natação        False\n",
              "Basktetball     True\n",
              "dtype: bool"
            ]
          },
          "metadata": {
            "tags": []
          },
          "execution_count": 61
        }
      ]
    },
    {
      "cell_type": "code",
      "metadata": {
        "id": "fijO5YLq98J_",
        "colab_type": "code",
        "outputId": "a887c46a-9ed2-49e1-b35b-f051c59eede8",
        "colab": {
          "base_uri": "https://localhost:8080/",
          "height": 108
        }
      },
      "source": [
        "pd.notnull(Objeto4)"
      ],
      "execution_count": 0,
      "outputs": [
        {
          "output_type": "execute_result",
          "data": {
            "text/plain": [
              "Futebol         True\n",
              "Tenis           True\n",
              "Natação         True\n",
              "Basktetball    False\n",
              "dtype: bool"
            ]
          },
          "metadata": {
            "tags": []
          },
          "execution_count": 62
        }
      ]
    },
    {
      "cell_type": "code",
      "metadata": {
        "id": "7ZQ9KnZC9-cv",
        "colab_type": "code",
        "outputId": "b02d60ef-b0aa-4f52-f22d-91b663e945ac",
        "colab": {
          "base_uri": "https://localhost:8080/",
          "height": 108
        }
      },
      "source": [
        "Objeto4.isnull()"
      ],
      "execution_count": 0,
      "outputs": [
        {
          "output_type": "execute_result",
          "data": {
            "text/plain": [
              "Futebol        False\n",
              "Tenis          False\n",
              "Natação        False\n",
              "Basktetball     True\n",
              "dtype: bool"
            ]
          },
          "metadata": {
            "tags": []
          },
          "execution_count": 63
        }
      ]
    },
    {
      "cell_type": "code",
      "metadata": {
        "id": "7zgMLpvz-ATR",
        "colab_type": "code",
        "outputId": "93cd4c47-0d05-4cfe-9545-2e9beee95fc3",
        "colab": {
          "base_uri": "https://localhost:8080/",
          "height": 119
        }
      },
      "source": [
        "# Concatenando Series\n",
        "Objeto3 + Objeto4"
      ],
      "execution_count": 0,
      "outputs": [
        {
          "output_type": "execute_result",
          "data": {
            "text/plain": [
              "Basktetball       NaN\n",
              "Futebol         400.0\n",
              "Natação         300.0\n",
              "Tenis          1000.0\n",
              "Volleyball        NaN\n",
              "dtype: float64"
            ]
          },
          "metadata": {
            "tags": []
          },
          "execution_count": 28
        }
      ]
    },
    {
      "cell_type": "markdown",
      "metadata": {
        "id": "tySdOd8JCVIJ",
        "colab_type": "text"
      },
      "source": [
        "### 5.2.2 Dataframes\n",
        "\n",
        "Dataframes representam uma estrutura tabular semelhante a estrutura de uma planilha do Excel, contendo uma coleção de colunas em que cada uma pode ser um diferente tipo de valor (número, string, etc...). Os Dataframes possuem index e linhas e esta estrutura é muito semelhante a um dataframe em R. Os dados de um dataframe são armazenados e um ou mais blocos bidimensionais, ao invés de listas, dicionários ou alguma outra estrutura de array."
      ]
    },
    {
      "cell_type": "code",
      "metadata": {
        "id": "dpoVynpGCaVi",
        "colab_type": "code",
        "colab": {}
      },
      "source": [
        "import pandas as pd "
      ],
      "execution_count": 0,
      "outputs": []
    },
    {
      "cell_type": "code",
      "metadata": {
        "id": "tAXkZbfagCAG",
        "colab_type": "code",
        "colab": {}
      },
      "source": [
        "#Podemos construir um dataframe juntando diversas séries:\n",
        "aluno_1 = pd.Series({'Nome': 'João', 'Matemática': 6, 'Português': 7})\n",
        " \n",
        "aluno_2 = pd.Series({'Nome': 'Maria', 'Matemática': 8, 'Português': 8})\n",
        " \n",
        "aluno_3 = pd.Series({'Nome': 'Pedro', 'Matemática': 4, 'Português': 5.3})\n",
        " \n",
        "aluno_4 = pd.Series({'Nome': 'Suzana', 'Matemática': 5.8, 'Português': 6.5})"
      ],
      "execution_count": 0,
      "outputs": []
    },
    {
      "cell_type": "code",
      "metadata": {
        "id": "PsSnCGQBgGNA",
        "colab_type": "code",
        "outputId": "e8c4647e-fa8a-4f11-869f-8f7d607e746e",
        "colab": {
          "base_uri": "https://localhost:8080/",
          "height": 173
        }
      },
      "source": [
        "df = pd.DataFrame([aluno_1, aluno_2, aluno_3, aluno_4])\n",
        "df"
      ],
      "execution_count": 0,
      "outputs": [
        {
          "output_type": "execute_result",
          "data": {
            "text/html": [
              "<div>\n",
              "<style scoped>\n",
              "    .dataframe tbody tr th:only-of-type {\n",
              "        vertical-align: middle;\n",
              "    }\n",
              "\n",
              "    .dataframe tbody tr th {\n",
              "        vertical-align: top;\n",
              "    }\n",
              "\n",
              "    .dataframe thead th {\n",
              "        text-align: right;\n",
              "    }\n",
              "</style>\n",
              "<table border=\"1\" class=\"dataframe\">\n",
              "  <thead>\n",
              "    <tr style=\"text-align: right;\">\n",
              "      <th></th>\n",
              "      <th>Nome</th>\n",
              "      <th>Matemática</th>\n",
              "      <th>Português</th>\n",
              "    </tr>\n",
              "  </thead>\n",
              "  <tbody>\n",
              "    <tr>\n",
              "      <th>0</th>\n",
              "      <td>João</td>\n",
              "      <td>6.0</td>\n",
              "      <td>7.0</td>\n",
              "    </tr>\n",
              "    <tr>\n",
              "      <th>1</th>\n",
              "      <td>Maria</td>\n",
              "      <td>8.0</td>\n",
              "      <td>8.0</td>\n",
              "    </tr>\n",
              "    <tr>\n",
              "      <th>2</th>\n",
              "      <td>Pedro</td>\n",
              "      <td>4.0</td>\n",
              "      <td>5.3</td>\n",
              "    </tr>\n",
              "    <tr>\n",
              "      <th>3</th>\n",
              "      <td>Suzana</td>\n",
              "      <td>5.8</td>\n",
              "      <td>6.5</td>\n",
              "    </tr>\n",
              "  </tbody>\n",
              "</table>\n",
              "</div>"
            ],
            "text/plain": [
              "     Nome  Matemática  Português\n",
              "0    João         6.0        7.0\n",
              "1   Maria         8.0        8.0\n",
              "2   Pedro         4.0        5.3\n",
              "3  Suzana         5.8        6.5"
            ]
          },
          "metadata": {
            "tags": []
          },
          "execution_count": 31
        }
      ]
    },
    {
      "cell_type": "markdown",
      "metadata": {
        "id": "CpPGuJSBgUal",
        "colab_type": "text"
      },
      "source": [
        "Pronto, o dataframe está criado para que a gente prossiga com os exemplos. Claro, você provavelmente não vai ter que escrever suas tabelas do zero. O que você normalmente faria, seria importar um arquivo qualquer. Com um arquivo no formato csv, utilizando o pd.read_csv do Python, você já terá um arquivo em formato csv. Se tivéssemos um arquivo com as notas dos alunos, faríamos o seguinte: \n",
        "\n",
        "df = pd.read_csv('nota_dos_alunos.csv')"
      ]
    },
    {
      "cell_type": "code",
      "metadata": {
        "id": "5eEXz8Dygq2t",
        "colab_type": "code",
        "outputId": "a8fa58d2-6142-43a4-a162-23465c340acd",
        "colab": {
          "base_uri": "https://localhost:8080/",
          "height": 34
        }
      },
      "source": [
        "type(df)"
      ],
      "execution_count": 0,
      "outputs": [
        {
          "output_type": "execute_result",
          "data": {
            "text/plain": [
              "pandas.core.frame.DataFrame"
            ]
          },
          "metadata": {
            "tags": []
          },
          "execution_count": 32
        }
      ]
    },
    {
      "cell_type": "code",
      "metadata": {
        "id": "CQN6PxNNgtaR",
        "colab_type": "code",
        "outputId": "05095536-4abf-494b-a055-bf84f96a4da9",
        "colab": {
          "base_uri": "https://localhost:8080/",
          "height": 102
        }
      },
      "source": [
        "#SELECIONANDO ELEMENTOS\n",
        "df['Nome']"
      ],
      "execution_count": 0,
      "outputs": [
        {
          "output_type": "execute_result",
          "data": {
            "text/plain": [
              "0      João\n",
              "1     Maria\n",
              "2     Pedro\n",
              "3    Suzana\n",
              "Name: Nome, dtype: object"
            ]
          },
          "metadata": {
            "tags": []
          },
          "execution_count": 33
        }
      ]
    },
    {
      "cell_type": "code",
      "metadata": {
        "id": "4mcbSgK7gzCD",
        "colab_type": "code",
        "outputId": "837487d2-9a87-4716-aefc-0aeb3dc3fbe1",
        "colab": {
          "base_uri": "https://localhost:8080/",
          "height": 102
        }
      },
      "source": [
        "df['Matemática']"
      ],
      "execution_count": 0,
      "outputs": [
        {
          "output_type": "execute_result",
          "data": {
            "text/plain": [
              "0    6.0\n",
              "1    8.0\n",
              "2    4.0\n",
              "3    5.8\n",
              "Name: Matemática, dtype: float64"
            ]
          },
          "metadata": {
            "tags": []
          },
          "execution_count": 34
        }
      ]
    },
    {
      "cell_type": "code",
      "metadata": {
        "id": "Z8dfkMDPg1DR",
        "colab_type": "code",
        "outputId": "6265ce4b-9b79-403b-aaef-01e013faa284",
        "colab": {
          "base_uri": "https://localhost:8080/",
          "height": 85
        }
      },
      "source": [
        "#Agora, se você quiser selecionar alguma linha específica, utilize o loc:\n",
        "df.loc[1]"
      ],
      "execution_count": 0,
      "outputs": [
        {
          "output_type": "execute_result",
          "data": {
            "text/plain": [
              "Nome          Maria\n",
              "Matemática        8\n",
              "Português         8\n",
              "Name: 1, dtype: object"
            ]
          },
          "metadata": {
            "tags": []
          },
          "execution_count": 35
        }
      ]
    },
    {
      "cell_type": "code",
      "metadata": {
        "id": "NgcKdNnug52P",
        "colab_type": "code",
        "outputId": "a070eed4-df27-4e07-9563-2c525ead9832",
        "colab": {
          "base_uri": "https://localhost:8080/",
          "height": 34
        }
      },
      "source": [
        "#Você pode ainda apontar para a linha e a coluna, escolhendo assim somente o elemento que você deseja:\n",
        "\n",
        "df.loc[1,'Nome']\n"
      ],
      "execution_count": 0,
      "outputs": [
        {
          "output_type": "execute_result",
          "data": {
            "text/plain": [
              "'Maria'"
            ]
          },
          "metadata": {
            "tags": []
          },
          "execution_count": 36
        }
      ]
    },
    {
      "cell_type": "code",
      "metadata": {
        "id": "3s8bkVoag9uD",
        "colab_type": "code",
        "outputId": "c3195bc7-dfa8-4668-ddf8-c770ecf0fd88",
        "colab": {
          "base_uri": "https://localhost:8080/",
          "height": 85
        }
      },
      "source": [
        "#Ou ainda passar um conjunto de linhas:\n",
        "df.loc[1:3,'Nome']"
      ],
      "execution_count": 0,
      "outputs": [
        {
          "output_type": "execute_result",
          "data": {
            "text/plain": [
              "1     Maria\n",
              "2     Pedro\n",
              "3    Suzana\n",
              "Name: Nome, dtype: object"
            ]
          },
          "metadata": {
            "tags": []
          },
          "execution_count": 37
        }
      ]
    },
    {
      "cell_type": "code",
      "metadata": {
        "id": "Zu7Kn5hThBSY",
        "colab_type": "code",
        "outputId": "d5d77c45-3864-4584-f747-cb6b09fea339",
        "colab": {
          "base_uri": "https://localhost:8080/",
          "height": 173
        }
      },
      "source": [
        "#ALTERANDO ELEMENTOS\n",
        "df.loc[1,'Nome']= \"Ana Maria\"\n",
        "df"
      ],
      "execution_count": 0,
      "outputs": [
        {
          "output_type": "execute_result",
          "data": {
            "text/html": [
              "<div>\n",
              "<style scoped>\n",
              "    .dataframe tbody tr th:only-of-type {\n",
              "        vertical-align: middle;\n",
              "    }\n",
              "\n",
              "    .dataframe tbody tr th {\n",
              "        vertical-align: top;\n",
              "    }\n",
              "\n",
              "    .dataframe thead th {\n",
              "        text-align: right;\n",
              "    }\n",
              "</style>\n",
              "<table border=\"1\" class=\"dataframe\">\n",
              "  <thead>\n",
              "    <tr style=\"text-align: right;\">\n",
              "      <th></th>\n",
              "      <th>Nome</th>\n",
              "      <th>Matemática</th>\n",
              "      <th>Português</th>\n",
              "    </tr>\n",
              "  </thead>\n",
              "  <tbody>\n",
              "    <tr>\n",
              "      <th>0</th>\n",
              "      <td>João</td>\n",
              "      <td>6.0</td>\n",
              "      <td>7.0</td>\n",
              "    </tr>\n",
              "    <tr>\n",
              "      <th>1</th>\n",
              "      <td>Ana Maria</td>\n",
              "      <td>8.0</td>\n",
              "      <td>8.0</td>\n",
              "    </tr>\n",
              "    <tr>\n",
              "      <th>2</th>\n",
              "      <td>Pedro</td>\n",
              "      <td>4.0</td>\n",
              "      <td>5.3</td>\n",
              "    </tr>\n",
              "    <tr>\n",
              "      <th>3</th>\n",
              "      <td>Suzana</td>\n",
              "      <td>5.8</td>\n",
              "      <td>6.5</td>\n",
              "    </tr>\n",
              "  </tbody>\n",
              "</table>\n",
              "</div>"
            ],
            "text/plain": [
              "        Nome  Matemática  Português\n",
              "0       João         6.0        7.0\n",
              "1  Ana Maria         8.0        8.0\n",
              "2      Pedro         4.0        5.3\n",
              "3     Suzana         5.8        6.5"
            ]
          },
          "metadata": {
            "tags": []
          },
          "execution_count": 38
        }
      ]
    },
    {
      "cell_type": "code",
      "metadata": {
        "id": "hI-8EW5vhP8M",
        "colab_type": "code",
        "outputId": "92163aa5-ec10-41cf-b2e9-65d98d08bcc5",
        "colab": {
          "base_uri": "https://localhost:8080/",
          "height": 173
        }
      },
      "source": [
        "#RENOMEAR COLUNAS\n",
        "df.columns = \"Nome.\", \"Matemática.\", \"Português.\" \n",
        "df"
      ],
      "execution_count": 0,
      "outputs": [
        {
          "output_type": "execute_result",
          "data": {
            "text/html": [
              "<div>\n",
              "<style scoped>\n",
              "    .dataframe tbody tr th:only-of-type {\n",
              "        vertical-align: middle;\n",
              "    }\n",
              "\n",
              "    .dataframe tbody tr th {\n",
              "        vertical-align: top;\n",
              "    }\n",
              "\n",
              "    .dataframe thead th {\n",
              "        text-align: right;\n",
              "    }\n",
              "</style>\n",
              "<table border=\"1\" class=\"dataframe\">\n",
              "  <thead>\n",
              "    <tr style=\"text-align: right;\">\n",
              "      <th></th>\n",
              "      <th>Nome.</th>\n",
              "      <th>Matemática.</th>\n",
              "      <th>Português.</th>\n",
              "    </tr>\n",
              "  </thead>\n",
              "  <tbody>\n",
              "    <tr>\n",
              "      <th>0</th>\n",
              "      <td>João</td>\n",
              "      <td>6.0</td>\n",
              "      <td>7.0</td>\n",
              "    </tr>\n",
              "    <tr>\n",
              "      <th>1</th>\n",
              "      <td>Ana Maria</td>\n",
              "      <td>8.0</td>\n",
              "      <td>8.0</td>\n",
              "    </tr>\n",
              "    <tr>\n",
              "      <th>2</th>\n",
              "      <td>Pedro</td>\n",
              "      <td>4.0</td>\n",
              "      <td>5.3</td>\n",
              "    </tr>\n",
              "    <tr>\n",
              "      <th>3</th>\n",
              "      <td>Suzana</td>\n",
              "      <td>5.8</td>\n",
              "      <td>6.5</td>\n",
              "    </tr>\n",
              "  </tbody>\n",
              "</table>\n",
              "</div>"
            ],
            "text/plain": [
              "       Nome.  Matemática.  Português.\n",
              "0       João          6.0         7.0\n",
              "1  Ana Maria          8.0         8.0\n",
              "2      Pedro          4.0         5.3\n",
              "3     Suzana          5.8         6.5"
            ]
          },
          "metadata": {
            "tags": []
          },
          "execution_count": 39
        }
      ]
    },
    {
      "cell_type": "markdown",
      "metadata": {
        "id": "fagnnovthYvu",
        "colab_type": "text"
      },
      "source": [
        "Outra opção, é utilizar a função rename, apontando o nome atual da coluna e qual deve ser o novo nome. Vamos retirar os pontos adicionados nos nomes:"
      ]
    },
    {
      "cell_type": "code",
      "metadata": {
        "id": "B8V-s_zehVZr",
        "colab_type": "code",
        "outputId": "121ada9d-e41f-44d9-9b80-d227de7599eb",
        "colab": {
          "base_uri": "https://localhost:8080/",
          "height": 173
        }
      },
      "source": [
        "df = df.rename(columns={'Nome.': 'Nome', 'Matemática.': 'Matemática','Português.': 'Português'})\n",
        "df"
      ],
      "execution_count": 0,
      "outputs": [
        {
          "output_type": "execute_result",
          "data": {
            "text/html": [
              "<div>\n",
              "<style scoped>\n",
              "    .dataframe tbody tr th:only-of-type {\n",
              "        vertical-align: middle;\n",
              "    }\n",
              "\n",
              "    .dataframe tbody tr th {\n",
              "        vertical-align: top;\n",
              "    }\n",
              "\n",
              "    .dataframe thead th {\n",
              "        text-align: right;\n",
              "    }\n",
              "</style>\n",
              "<table border=\"1\" class=\"dataframe\">\n",
              "  <thead>\n",
              "    <tr style=\"text-align: right;\">\n",
              "      <th></th>\n",
              "      <th>Nome</th>\n",
              "      <th>Matemática</th>\n",
              "      <th>Português</th>\n",
              "    </tr>\n",
              "  </thead>\n",
              "  <tbody>\n",
              "    <tr>\n",
              "      <th>0</th>\n",
              "      <td>João</td>\n",
              "      <td>6.0</td>\n",
              "      <td>7.0</td>\n",
              "    </tr>\n",
              "    <tr>\n",
              "      <th>1</th>\n",
              "      <td>Ana Maria</td>\n",
              "      <td>8.0</td>\n",
              "      <td>8.0</td>\n",
              "    </tr>\n",
              "    <tr>\n",
              "      <th>2</th>\n",
              "      <td>Pedro</td>\n",
              "      <td>4.0</td>\n",
              "      <td>5.3</td>\n",
              "    </tr>\n",
              "    <tr>\n",
              "      <th>3</th>\n",
              "      <td>Suzana</td>\n",
              "      <td>5.8</td>\n",
              "      <td>6.5</td>\n",
              "    </tr>\n",
              "  </tbody>\n",
              "</table>\n",
              "</div>"
            ],
            "text/plain": [
              "        Nome  Matemática  Português\n",
              "0       João         6.0        7.0\n",
              "1  Ana Maria         8.0        8.0\n",
              "2      Pedro         4.0        5.3\n",
              "3     Suzana         5.8        6.5"
            ]
          },
          "metadata": {
            "tags": []
          },
          "execution_count": 41
        }
      ]
    },
    {
      "cell_type": "code",
      "metadata": {
        "id": "YQmxMFythbhr",
        "colab_type": "code",
        "outputId": "4f7064e7-3259-4b9a-c412-acbcd2861f2f",
        "colab": {
          "base_uri": "https://localhost:8080/",
          "height": 111
        }
      },
      "source": [
        "#REALIZANDO FILTROS \n",
        "\n",
        "df.loc[df['Matemática'] < 6] "
      ],
      "execution_count": 0,
      "outputs": [
        {
          "output_type": "execute_result",
          "data": {
            "text/html": [
              "<div>\n",
              "<style scoped>\n",
              "    .dataframe tbody tr th:only-of-type {\n",
              "        vertical-align: middle;\n",
              "    }\n",
              "\n",
              "    .dataframe tbody tr th {\n",
              "        vertical-align: top;\n",
              "    }\n",
              "\n",
              "    .dataframe thead th {\n",
              "        text-align: right;\n",
              "    }\n",
              "</style>\n",
              "<table border=\"1\" class=\"dataframe\">\n",
              "  <thead>\n",
              "    <tr style=\"text-align: right;\">\n",
              "      <th></th>\n",
              "      <th>Nome</th>\n",
              "      <th>Matemática</th>\n",
              "      <th>Português</th>\n",
              "    </tr>\n",
              "  </thead>\n",
              "  <tbody>\n",
              "    <tr>\n",
              "      <th>2</th>\n",
              "      <td>Pedro</td>\n",
              "      <td>4.0</td>\n",
              "      <td>5.3</td>\n",
              "    </tr>\n",
              "    <tr>\n",
              "      <th>3</th>\n",
              "      <td>Suzana</td>\n",
              "      <td>5.8</td>\n",
              "      <td>6.5</td>\n",
              "    </tr>\n",
              "  </tbody>\n",
              "</table>\n",
              "</div>"
            ],
            "text/plain": [
              "     Nome  Matemática  Português\n",
              "2   Pedro         4.0        5.3\n",
              "3  Suzana         5.8        6.5"
            ]
          },
          "metadata": {
            "tags": []
          },
          "execution_count": 42
        }
      ]
    },
    {
      "cell_type": "code",
      "metadata": {
        "id": "NXo9BcQ6hq8q",
        "colab_type": "code",
        "outputId": "09a72270-b1ae-42de-cb35-34c031770223",
        "colab": {
          "base_uri": "https://localhost:8080/",
          "height": 80
        }
      },
      "source": [
        "# filtra aluno que nas foi reprovado em ambas as materias\n",
        "df[(df['Matemática'] < 6) & (df['Português'] < 6)]"
      ],
      "execution_count": 0,
      "outputs": [
        {
          "output_type": "execute_result",
          "data": {
            "text/html": [
              "<div>\n",
              "<style scoped>\n",
              "    .dataframe tbody tr th:only-of-type {\n",
              "        vertical-align: middle;\n",
              "    }\n",
              "\n",
              "    .dataframe tbody tr th {\n",
              "        vertical-align: top;\n",
              "    }\n",
              "\n",
              "    .dataframe thead th {\n",
              "        text-align: right;\n",
              "    }\n",
              "</style>\n",
              "<table border=\"1\" class=\"dataframe\">\n",
              "  <thead>\n",
              "    <tr style=\"text-align: right;\">\n",
              "      <th></th>\n",
              "      <th>Nome</th>\n",
              "      <th>Matemática</th>\n",
              "      <th>Português</th>\n",
              "    </tr>\n",
              "  </thead>\n",
              "  <tbody>\n",
              "    <tr>\n",
              "      <th>2</th>\n",
              "      <td>Pedro</td>\n",
              "      <td>4.0</td>\n",
              "      <td>5.3</td>\n",
              "    </tr>\n",
              "  </tbody>\n",
              "</table>\n",
              "</div>"
            ],
            "text/plain": [
              "    Nome  Matemática  Português\n",
              "2  Pedro         4.0        5.3"
            ]
          },
          "metadata": {
            "tags": []
          },
          "execution_count": 43
        }
      ]
    },
    {
      "cell_type": "code",
      "metadata": {
        "id": "hlF6U66kh3Bh",
        "colab_type": "code",
        "outputId": "ce74643b-8777-45bc-bdce-35d48cfeae5e",
        "colab": {
          "base_uri": "https://localhost:8080/",
          "height": 111
        }
      },
      "source": [
        "# filtra o aluno que foi reprovado em pelo menos uma materia\n",
        " \n",
        "df[(df['Matemática'] < 6) | (df['Português'] < 6)]"
      ],
      "execution_count": 0,
      "outputs": [
        {
          "output_type": "execute_result",
          "data": {
            "text/html": [
              "<div>\n",
              "<style scoped>\n",
              "    .dataframe tbody tr th:only-of-type {\n",
              "        vertical-align: middle;\n",
              "    }\n",
              "\n",
              "    .dataframe tbody tr th {\n",
              "        vertical-align: top;\n",
              "    }\n",
              "\n",
              "    .dataframe thead th {\n",
              "        text-align: right;\n",
              "    }\n",
              "</style>\n",
              "<table border=\"1\" class=\"dataframe\">\n",
              "  <thead>\n",
              "    <tr style=\"text-align: right;\">\n",
              "      <th></th>\n",
              "      <th>Nome</th>\n",
              "      <th>Matemática</th>\n",
              "      <th>Português</th>\n",
              "    </tr>\n",
              "  </thead>\n",
              "  <tbody>\n",
              "    <tr>\n",
              "      <th>2</th>\n",
              "      <td>Pedro</td>\n",
              "      <td>4.0</td>\n",
              "      <td>5.3</td>\n",
              "    </tr>\n",
              "    <tr>\n",
              "      <th>3</th>\n",
              "      <td>Suzana</td>\n",
              "      <td>5.8</td>\n",
              "      <td>6.5</td>\n",
              "    </tr>\n",
              "  </tbody>\n",
              "</table>\n",
              "</div>"
            ],
            "text/plain": [
              "     Nome  Matemática  Português\n",
              "2   Pedro         4.0        5.3\n",
              "3  Suzana         5.8        6.5"
            ]
          },
          "metadata": {
            "tags": []
          },
          "execution_count": 44
        }
      ]
    },
    {
      "cell_type": "markdown",
      "metadata": {
        "id": "Arz4UWAniESt",
        "colab_type": "text"
      },
      "source": [
        "Se quiser transpor de forma definitiva, ou atribui a transposição ao antigo dataframe ou crie um novo dataframe com um nome de fácil identificação. Eu recomendo mais esta segunda opção."
      ]
    },
    {
      "cell_type": "code",
      "metadata": {
        "id": "IuKPB9GRh6y2",
        "colab_type": "code",
        "outputId": "bffd205d-cca0-4de0-ac60-89d32f145086",
        "colab": {
          "base_uri": "https://localhost:8080/",
          "height": 142
        }
      },
      "source": [
        "#TRANSPOSIÇÃO\n",
        "df.T"
      ],
      "execution_count": 0,
      "outputs": [
        {
          "output_type": "execute_result",
          "data": {
            "text/html": [
              "<div>\n",
              "<style scoped>\n",
              "    .dataframe tbody tr th:only-of-type {\n",
              "        vertical-align: middle;\n",
              "    }\n",
              "\n",
              "    .dataframe tbody tr th {\n",
              "        vertical-align: top;\n",
              "    }\n",
              "\n",
              "    .dataframe thead th {\n",
              "        text-align: right;\n",
              "    }\n",
              "</style>\n",
              "<table border=\"1\" class=\"dataframe\">\n",
              "  <thead>\n",
              "    <tr style=\"text-align: right;\">\n",
              "      <th></th>\n",
              "      <th>0</th>\n",
              "      <th>1</th>\n",
              "      <th>2</th>\n",
              "      <th>3</th>\n",
              "    </tr>\n",
              "  </thead>\n",
              "  <tbody>\n",
              "    <tr>\n",
              "      <th>Nome</th>\n",
              "      <td>João</td>\n",
              "      <td>Ana Maria</td>\n",
              "      <td>Pedro</td>\n",
              "      <td>Suzana</td>\n",
              "    </tr>\n",
              "    <tr>\n",
              "      <th>Matemática</th>\n",
              "      <td>6</td>\n",
              "      <td>8</td>\n",
              "      <td>4</td>\n",
              "      <td>5.8</td>\n",
              "    </tr>\n",
              "    <tr>\n",
              "      <th>Português</th>\n",
              "      <td>7</td>\n",
              "      <td>8</td>\n",
              "      <td>5.3</td>\n",
              "      <td>6.5</td>\n",
              "    </tr>\n",
              "  </tbody>\n",
              "</table>\n",
              "</div>"
            ],
            "text/plain": [
              "               0          1      2       3\n",
              "Nome        João  Ana Maria  Pedro  Suzana\n",
              "Matemática     6          8      4     5.8\n",
              "Português      7          8    5.3     6.5"
            ]
          },
          "metadata": {
            "tags": []
          },
          "execution_count": 45
        }
      ]
    },
    {
      "cell_type": "code",
      "metadata": {
        "id": "v_MjN3l7iFgf",
        "colab_type": "code",
        "outputId": "5874a252-03fd-4c6e-b703-0e98f2d4a58d",
        "colab": {
          "base_uri": "https://localhost:8080/",
          "height": 173
        }
      },
      "source": [
        "#EXCLUINDO COLUNAS\n",
        "df.drop(columns=['Nome'])"
      ],
      "execution_count": 0,
      "outputs": [
        {
          "output_type": "execute_result",
          "data": {
            "text/html": [
              "<div>\n",
              "<style scoped>\n",
              "    .dataframe tbody tr th:only-of-type {\n",
              "        vertical-align: middle;\n",
              "    }\n",
              "\n",
              "    .dataframe tbody tr th {\n",
              "        vertical-align: top;\n",
              "    }\n",
              "\n",
              "    .dataframe thead th {\n",
              "        text-align: right;\n",
              "    }\n",
              "</style>\n",
              "<table border=\"1\" class=\"dataframe\">\n",
              "  <thead>\n",
              "    <tr style=\"text-align: right;\">\n",
              "      <th></th>\n",
              "      <th>Matemática</th>\n",
              "      <th>Português</th>\n",
              "    </tr>\n",
              "  </thead>\n",
              "  <tbody>\n",
              "    <tr>\n",
              "      <th>0</th>\n",
              "      <td>6.0</td>\n",
              "      <td>7.0</td>\n",
              "    </tr>\n",
              "    <tr>\n",
              "      <th>1</th>\n",
              "      <td>8.0</td>\n",
              "      <td>8.0</td>\n",
              "    </tr>\n",
              "    <tr>\n",
              "      <th>2</th>\n",
              "      <td>4.0</td>\n",
              "      <td>5.3</td>\n",
              "    </tr>\n",
              "    <tr>\n",
              "      <th>3</th>\n",
              "      <td>5.8</td>\n",
              "      <td>6.5</td>\n",
              "    </tr>\n",
              "  </tbody>\n",
              "</table>\n",
              "</div>"
            ],
            "text/plain": [
              "   Matemática  Português\n",
              "0         6.0        7.0\n",
              "1         8.0        8.0\n",
              "2         4.0        5.3\n",
              "3         5.8        6.5"
            ]
          },
          "metadata": {
            "tags": []
          },
          "execution_count": 46
        }
      ]
    },
    {
      "cell_type": "code",
      "metadata": {
        "id": "3-lh9DKyh-rd",
        "colab_type": "code",
        "outputId": "469a7a88-41ed-4f9f-cfc0-4ab50205fe3f",
        "colab": {
          "base_uri": "https://localhost:8080/",
          "height": 173
        }
      },
      "source": [
        "#Note que o drop não é definitivo:\n",
        "# exclui a coluna nome\n",
        " \n",
        "df.drop(columns=['Nome'])\n",
        "df"
      ],
      "execution_count": 0,
      "outputs": [
        {
          "output_type": "execute_result",
          "data": {
            "text/html": [
              "<div>\n",
              "<style scoped>\n",
              "    .dataframe tbody tr th:only-of-type {\n",
              "        vertical-align: middle;\n",
              "    }\n",
              "\n",
              "    .dataframe tbody tr th {\n",
              "        vertical-align: top;\n",
              "    }\n",
              "\n",
              "    .dataframe thead th {\n",
              "        text-align: right;\n",
              "    }\n",
              "</style>\n",
              "<table border=\"1\" class=\"dataframe\">\n",
              "  <thead>\n",
              "    <tr style=\"text-align: right;\">\n",
              "      <th></th>\n",
              "      <th>Nome</th>\n",
              "      <th>Matemática</th>\n",
              "      <th>Português</th>\n",
              "    </tr>\n",
              "  </thead>\n",
              "  <tbody>\n",
              "    <tr>\n",
              "      <th>0</th>\n",
              "      <td>João</td>\n",
              "      <td>6.0</td>\n",
              "      <td>7.0</td>\n",
              "    </tr>\n",
              "    <tr>\n",
              "      <th>1</th>\n",
              "      <td>Ana Maria</td>\n",
              "      <td>8.0</td>\n",
              "      <td>8.0</td>\n",
              "    </tr>\n",
              "    <tr>\n",
              "      <th>2</th>\n",
              "      <td>Pedro</td>\n",
              "      <td>4.0</td>\n",
              "      <td>5.3</td>\n",
              "    </tr>\n",
              "    <tr>\n",
              "      <th>3</th>\n",
              "      <td>Suzana</td>\n",
              "      <td>5.8</td>\n",
              "      <td>6.5</td>\n",
              "    </tr>\n",
              "  </tbody>\n",
              "</table>\n",
              "</div>"
            ],
            "text/plain": [
              "        Nome  Matemática  Português\n",
              "0       João         6.0        7.0\n",
              "1  Ana Maria         8.0        8.0\n",
              "2      Pedro         4.0        5.3\n",
              "3     Suzana         5.8        6.5"
            ]
          },
          "metadata": {
            "tags": []
          },
          "execution_count": 47
        }
      ]
    },
    {
      "cell_type": "code",
      "metadata": {
        "id": "shA8qWf4iw5S",
        "colab_type": "code",
        "outputId": "bdbd8d41-b9eb-47b9-b0b4-f4c6f3c01720",
        "colab": {
          "base_uri": "https://localhost:8080/",
          "height": 142
        }
      },
      "source": [
        "#EXCLUINDO LINHAS\n",
        "\t\n",
        "df.drop(1)"
      ],
      "execution_count": 0,
      "outputs": [
        {
          "output_type": "execute_result",
          "data": {
            "text/html": [
              "<div>\n",
              "<style scoped>\n",
              "    .dataframe tbody tr th:only-of-type {\n",
              "        vertical-align: middle;\n",
              "    }\n",
              "\n",
              "    .dataframe tbody tr th {\n",
              "        vertical-align: top;\n",
              "    }\n",
              "\n",
              "    .dataframe thead th {\n",
              "        text-align: right;\n",
              "    }\n",
              "</style>\n",
              "<table border=\"1\" class=\"dataframe\">\n",
              "  <thead>\n",
              "    <tr style=\"text-align: right;\">\n",
              "      <th></th>\n",
              "      <th>Nome</th>\n",
              "      <th>Matemática</th>\n",
              "      <th>Português</th>\n",
              "    </tr>\n",
              "  </thead>\n",
              "  <tbody>\n",
              "    <tr>\n",
              "      <th>0</th>\n",
              "      <td>João</td>\n",
              "      <td>6.0</td>\n",
              "      <td>7.0</td>\n",
              "    </tr>\n",
              "    <tr>\n",
              "      <th>2</th>\n",
              "      <td>Pedro</td>\n",
              "      <td>4.0</td>\n",
              "      <td>5.3</td>\n",
              "    </tr>\n",
              "    <tr>\n",
              "      <th>3</th>\n",
              "      <td>Suzana</td>\n",
              "      <td>5.8</td>\n",
              "      <td>6.5</td>\n",
              "    </tr>\n",
              "  </tbody>\n",
              "</table>\n",
              "</div>"
            ],
            "text/plain": [
              "     Nome  Matemática  Português\n",
              "0    João         6.0        7.0\n",
              "2   Pedro         4.0        5.3\n",
              "3  Suzana         5.8        6.5"
            ]
          },
          "metadata": {
            "tags": []
          },
          "execution_count": 48
        }
      ]
    },
    {
      "cell_type": "code",
      "metadata": {
        "id": "D4syT-b9i5jJ",
        "colab_type": "code",
        "outputId": "dcd6cb99-de15-4e5b-d987-47ac644b5940",
        "colab": {
          "base_uri": "https://localhost:8080/",
          "height": 173
        }
      },
      "source": [
        "#ORDENANDO OS DADOS\n",
        "# ordena pela nota de matematica\n",
        " \n",
        "df.sort_values(by='Matemática')"
      ],
      "execution_count": 0,
      "outputs": [
        {
          "output_type": "execute_result",
          "data": {
            "text/html": [
              "<div>\n",
              "<style scoped>\n",
              "    .dataframe tbody tr th:only-of-type {\n",
              "        vertical-align: middle;\n",
              "    }\n",
              "\n",
              "    .dataframe tbody tr th {\n",
              "        vertical-align: top;\n",
              "    }\n",
              "\n",
              "    .dataframe thead th {\n",
              "        text-align: right;\n",
              "    }\n",
              "</style>\n",
              "<table border=\"1\" class=\"dataframe\">\n",
              "  <thead>\n",
              "    <tr style=\"text-align: right;\">\n",
              "      <th></th>\n",
              "      <th>Nome</th>\n",
              "      <th>Matemática</th>\n",
              "      <th>Português</th>\n",
              "    </tr>\n",
              "  </thead>\n",
              "  <tbody>\n",
              "    <tr>\n",
              "      <th>2</th>\n",
              "      <td>Pedro</td>\n",
              "      <td>4.0</td>\n",
              "      <td>5.3</td>\n",
              "    </tr>\n",
              "    <tr>\n",
              "      <th>3</th>\n",
              "      <td>Suzana</td>\n",
              "      <td>5.8</td>\n",
              "      <td>6.5</td>\n",
              "    </tr>\n",
              "    <tr>\n",
              "      <th>0</th>\n",
              "      <td>João</td>\n",
              "      <td>6.0</td>\n",
              "      <td>7.0</td>\n",
              "    </tr>\n",
              "    <tr>\n",
              "      <th>1</th>\n",
              "      <td>Ana Maria</td>\n",
              "      <td>8.0</td>\n",
              "      <td>8.0</td>\n",
              "    </tr>\n",
              "  </tbody>\n",
              "</table>\n",
              "</div>"
            ],
            "text/plain": [
              "        Nome  Matemática  Português\n",
              "2      Pedro         4.0        5.3\n",
              "3     Suzana         5.8        6.5\n",
              "0       João         6.0        7.0\n",
              "1  Ana Maria         8.0        8.0"
            ]
          },
          "metadata": {
            "tags": []
          },
          "execution_count": 49
        }
      ]
    },
    {
      "cell_type": "code",
      "metadata": {
        "id": "1FWZyKRyi8RT",
        "colab_type": "code",
        "outputId": "544d77c2-31a4-4d4a-f6cc-5bbfc35836ea",
        "colab": {
          "base_uri": "https://localhost:8080/",
          "height": 173
        }
      },
      "source": [
        "# ordena pelos nomes\n",
        " \n",
        "df.sort_values(by='Nome')"
      ],
      "execution_count": 0,
      "outputs": [
        {
          "output_type": "execute_result",
          "data": {
            "text/html": [
              "<div>\n",
              "<style scoped>\n",
              "    .dataframe tbody tr th:only-of-type {\n",
              "        vertical-align: middle;\n",
              "    }\n",
              "\n",
              "    .dataframe tbody tr th {\n",
              "        vertical-align: top;\n",
              "    }\n",
              "\n",
              "    .dataframe thead th {\n",
              "        text-align: right;\n",
              "    }\n",
              "</style>\n",
              "<table border=\"1\" class=\"dataframe\">\n",
              "  <thead>\n",
              "    <tr style=\"text-align: right;\">\n",
              "      <th></th>\n",
              "      <th>Nome</th>\n",
              "      <th>Matemática</th>\n",
              "      <th>Português</th>\n",
              "    </tr>\n",
              "  </thead>\n",
              "  <tbody>\n",
              "    <tr>\n",
              "      <th>1</th>\n",
              "      <td>Ana Maria</td>\n",
              "      <td>8.0</td>\n",
              "      <td>8.0</td>\n",
              "    </tr>\n",
              "    <tr>\n",
              "      <th>0</th>\n",
              "      <td>João</td>\n",
              "      <td>6.0</td>\n",
              "      <td>7.0</td>\n",
              "    </tr>\n",
              "    <tr>\n",
              "      <th>2</th>\n",
              "      <td>Pedro</td>\n",
              "      <td>4.0</td>\n",
              "      <td>5.3</td>\n",
              "    </tr>\n",
              "    <tr>\n",
              "      <th>3</th>\n",
              "      <td>Suzana</td>\n",
              "      <td>5.8</td>\n",
              "      <td>6.5</td>\n",
              "    </tr>\n",
              "  </tbody>\n",
              "</table>\n",
              "</div>"
            ],
            "text/plain": [
              "        Nome  Matemática  Português\n",
              "1  Ana Maria         8.0        8.0\n",
              "0       João         6.0        7.0\n",
              "2      Pedro         4.0        5.3\n",
              "3     Suzana         5.8        6.5"
            ]
          },
          "metadata": {
            "tags": []
          },
          "execution_count": 150
        }
      ]
    },
    {
      "cell_type": "code",
      "metadata": {
        "id": "-mEPZIaji-JK",
        "colab_type": "code",
        "outputId": "d703a464-fafb-4ac0-b542-fb37f0cf85c9",
        "colab": {
          "base_uri": "https://localhost:8080/",
          "height": 173
        }
      },
      "source": [
        "# ordena de forma decrescente pela nota de portugues\n",
        " \n",
        "df.sort_values(by='Português', ascending=False)"
      ],
      "execution_count": 0,
      "outputs": [
        {
          "output_type": "execute_result",
          "data": {
            "text/html": [
              "<div>\n",
              "<style scoped>\n",
              "    .dataframe tbody tr th:only-of-type {\n",
              "        vertical-align: middle;\n",
              "    }\n",
              "\n",
              "    .dataframe tbody tr th {\n",
              "        vertical-align: top;\n",
              "    }\n",
              "\n",
              "    .dataframe thead th {\n",
              "        text-align: right;\n",
              "    }\n",
              "</style>\n",
              "<table border=\"1\" class=\"dataframe\">\n",
              "  <thead>\n",
              "    <tr style=\"text-align: right;\">\n",
              "      <th></th>\n",
              "      <th>Nome</th>\n",
              "      <th>Matemática</th>\n",
              "      <th>Português</th>\n",
              "    </tr>\n",
              "  </thead>\n",
              "  <tbody>\n",
              "    <tr>\n",
              "      <th>1</th>\n",
              "      <td>Ana Maria</td>\n",
              "      <td>8.0</td>\n",
              "      <td>8.0</td>\n",
              "    </tr>\n",
              "    <tr>\n",
              "      <th>0</th>\n",
              "      <td>João</td>\n",
              "      <td>6.0</td>\n",
              "      <td>7.0</td>\n",
              "    </tr>\n",
              "    <tr>\n",
              "      <th>3</th>\n",
              "      <td>Suzana</td>\n",
              "      <td>5.8</td>\n",
              "      <td>6.5</td>\n",
              "    </tr>\n",
              "    <tr>\n",
              "      <th>2</th>\n",
              "      <td>Pedro</td>\n",
              "      <td>4.0</td>\n",
              "      <td>5.3</td>\n",
              "    </tr>\n",
              "  </tbody>\n",
              "</table>\n",
              "</div>"
            ],
            "text/plain": [
              "        Nome  Matemática  Português\n",
              "1  Ana Maria         8.0        8.0\n",
              "0       João         6.0        7.0\n",
              "3     Suzana         5.8        6.5\n",
              "2      Pedro         4.0        5.3"
            ]
          },
          "metadata": {
            "tags": []
          },
          "execution_count": 151
        }
      ]
    },
    {
      "cell_type": "code",
      "metadata": {
        "id": "Ek7h2u-yodCS",
        "colab_type": "code",
        "colab": {}
      },
      "source": [
        "# Criando um Dataframe\n",
        "import pandas as pd\n",
        "import numpy as np\n",
        "\n",
        "dates = pd.date_range('20180101', periods = 10)\n",
        "df = pd.DataFrame(np.random.randn(10,4), index = dates, columns = list('ABCD'))"
      ],
      "execution_count": 0,
      "outputs": []
    },
    {
      "cell_type": "code",
      "metadata": {
        "id": "-PGMxofHpSpb",
        "colab_type": "code",
        "colab": {}
      },
      "source": [
        "df.info()"
      ],
      "execution_count": 0,
      "outputs": []
    },
    {
      "cell_type": "code",
      "metadata": {
        "id": "98Icuj_YpXP1",
        "colab_type": "code",
        "outputId": "c7da4264-31f0-4a32-f862-e42c22d97df4",
        "colab": {
          "base_uri": "https://localhost:8080/",
          "height": 204
        }
      },
      "source": [
        "df.head()"
      ],
      "execution_count": 0,
      "outputs": [
        {
          "output_type": "execute_result",
          "data": {
            "text/html": [
              "<div>\n",
              "<style scoped>\n",
              "    .dataframe tbody tr th:only-of-type {\n",
              "        vertical-align: middle;\n",
              "    }\n",
              "\n",
              "    .dataframe tbody tr th {\n",
              "        vertical-align: top;\n",
              "    }\n",
              "\n",
              "    .dataframe thead th {\n",
              "        text-align: right;\n",
              "    }\n",
              "</style>\n",
              "<table border=\"1\" class=\"dataframe\">\n",
              "  <thead>\n",
              "    <tr style=\"text-align: right;\">\n",
              "      <th></th>\n",
              "      <th>A</th>\n",
              "      <th>B</th>\n",
              "      <th>C</th>\n",
              "      <th>D</th>\n",
              "    </tr>\n",
              "  </thead>\n",
              "  <tbody>\n",
              "    <tr>\n",
              "      <th>2018-01-01</th>\n",
              "      <td>-1.574629</td>\n",
              "      <td>-0.710554</td>\n",
              "      <td>0.298279</td>\n",
              "      <td>-1.461970</td>\n",
              "    </tr>\n",
              "    <tr>\n",
              "      <th>2018-01-02</th>\n",
              "      <td>1.508930</td>\n",
              "      <td>0.764841</td>\n",
              "      <td>0.364723</td>\n",
              "      <td>-0.008957</td>\n",
              "    </tr>\n",
              "    <tr>\n",
              "      <th>2018-01-03</th>\n",
              "      <td>-0.151765</td>\n",
              "      <td>1.177505</td>\n",
              "      <td>0.546133</td>\n",
              "      <td>0.970522</td>\n",
              "    </tr>\n",
              "    <tr>\n",
              "      <th>2018-01-04</th>\n",
              "      <td>1.297140</td>\n",
              "      <td>0.448505</td>\n",
              "      <td>0.521403</td>\n",
              "      <td>-1.633759</td>\n",
              "    </tr>\n",
              "    <tr>\n",
              "      <th>2018-01-05</th>\n",
              "      <td>-0.306057</td>\n",
              "      <td>-0.699920</td>\n",
              "      <td>1.187243</td>\n",
              "      <td>-0.558874</td>\n",
              "    </tr>\n",
              "  </tbody>\n",
              "</table>\n",
              "</div>"
            ],
            "text/plain": [
              "                   A         B         C         D\n",
              "2018-01-01 -1.574629 -0.710554  0.298279 -1.461970\n",
              "2018-01-02  1.508930  0.764841  0.364723 -0.008957\n",
              "2018-01-03 -0.151765  1.177505  0.546133  0.970522\n",
              "2018-01-04  1.297140  0.448505  0.521403 -1.633759\n",
              "2018-01-05 -0.306057 -0.699920  1.187243 -0.558874"
            ]
          },
          "metadata": {
            "tags": []
          },
          "execution_count": 56
        }
      ]
    },
    {
      "cell_type": "code",
      "metadata": {
        "id": "ku2AIFbqpZ_G",
        "colab_type": "code",
        "outputId": "d30157b2-3c1b-482f-984d-2a220a738c28",
        "colab": {
          "base_uri": "https://localhost:8080/",
          "height": 297
        }
      },
      "source": [
        "# quick data summary\n",
        "df.describe()"
      ],
      "execution_count": 0,
      "outputs": [
        {
          "output_type": "execute_result",
          "data": {
            "text/html": [
              "<div>\n",
              "<style scoped>\n",
              "    .dataframe tbody tr th:only-of-type {\n",
              "        vertical-align: middle;\n",
              "    }\n",
              "\n",
              "    .dataframe tbody tr th {\n",
              "        vertical-align: top;\n",
              "    }\n",
              "\n",
              "    .dataframe thead th {\n",
              "        text-align: right;\n",
              "    }\n",
              "</style>\n",
              "<table border=\"1\" class=\"dataframe\">\n",
              "  <thead>\n",
              "    <tr style=\"text-align: right;\">\n",
              "      <th></th>\n",
              "      <th>A</th>\n",
              "      <th>B</th>\n",
              "      <th>C</th>\n",
              "      <th>D</th>\n",
              "    </tr>\n",
              "  </thead>\n",
              "  <tbody>\n",
              "    <tr>\n",
              "      <th>count</th>\n",
              "      <td>10.000000</td>\n",
              "      <td>10.000000</td>\n",
              "      <td>10.000000</td>\n",
              "      <td>10.000000</td>\n",
              "    </tr>\n",
              "    <tr>\n",
              "      <th>mean</th>\n",
              "      <td>0.487562</td>\n",
              "      <td>0.068846</td>\n",
              "      <td>0.415449</td>\n",
              "      <td>-0.175742</td>\n",
              "    </tr>\n",
              "    <tr>\n",
              "      <th>std</th>\n",
              "      <td>1.072660</td>\n",
              "      <td>0.773890</td>\n",
              "      <td>0.487450</td>\n",
              "      <td>0.952998</td>\n",
              "    </tr>\n",
              "    <tr>\n",
              "      <th>min</th>\n",
              "      <td>-1.574629</td>\n",
              "      <td>-0.999314</td>\n",
              "      <td>-0.342093</td>\n",
              "      <td>-1.633759</td>\n",
              "    </tr>\n",
              "    <tr>\n",
              "      <th>25%</th>\n",
              "      <td>-0.177541</td>\n",
              "      <td>-0.595404</td>\n",
              "      <td>0.063667</td>\n",
              "      <td>-0.779111</td>\n",
              "    </tr>\n",
              "    <tr>\n",
              "      <th>50%</th>\n",
              "      <td>0.591324</td>\n",
              "      <td>-0.023721</td>\n",
              "      <td>0.443063</td>\n",
              "      <td>-0.167758</td>\n",
              "    </tr>\n",
              "    <tr>\n",
              "      <th>75%</th>\n",
              "      <td>1.238911</td>\n",
              "      <td>0.685757</td>\n",
              "      <td>0.777523</td>\n",
              "      <td>0.677405</td>\n",
              "    </tr>\n",
              "    <tr>\n",
              "      <th>max</th>\n",
              "      <td>2.041260</td>\n",
              "      <td>1.177505</td>\n",
              "      <td>1.187243</td>\n",
              "      <td>0.970522</td>\n",
              "    </tr>\n",
              "  </tbody>\n",
              "</table>\n",
              "</div>"
            ],
            "text/plain": [
              "               A          B          C          D\n",
              "count  10.000000  10.000000  10.000000  10.000000\n",
              "mean    0.487562   0.068846   0.415449  -0.175742\n",
              "std     1.072660   0.773890   0.487450   0.952998\n",
              "min    -1.574629  -0.999314  -0.342093  -1.633759\n",
              "25%    -0.177541  -0.595404   0.063667  -0.779111\n",
              "50%     0.591324  -0.023721   0.443063  -0.167758\n",
              "75%     1.238911   0.685757   0.777523   0.677405\n",
              "max     2.041260   1.177505   1.187243   0.970522"
            ]
          },
          "metadata": {
            "tags": []
          },
          "execution_count": 57
        }
      ]
    },
    {
      "cell_type": "code",
      "metadata": {
        "id": "X1I7agD_pcyf",
        "colab_type": "code",
        "outputId": "9bb6828a-d7e6-4ee7-9472-0380dee0c0a0",
        "colab": {
          "base_uri": "https://localhost:8080/",
          "height": 102
        }
      },
      "source": [
        "# Calculando a média\n",
        "df.mean()"
      ],
      "execution_count": 0,
      "outputs": [
        {
          "output_type": "execute_result",
          "data": {
            "text/plain": [
              "A    0.487562\n",
              "B    0.068846\n",
              "C    0.415449\n",
              "D   -0.175742\n",
              "dtype: float64"
            ]
          },
          "metadata": {
            "tags": []
          },
          "execution_count": 58
        }
      ]
    },
    {
      "cell_type": "code",
      "metadata": {
        "id": "I3gHuwJ-peqE",
        "colab_type": "code",
        "outputId": "f3be52ac-c71c-466a-b14a-f077f91000d7",
        "colab": {
          "base_uri": "https://localhost:8080/",
          "height": 204
        }
      },
      "source": [
        "\n",
        "# Pivot e cálculo da média\n",
        "df.mean(1)"
      ],
      "execution_count": 0,
      "outputs": [
        {
          "output_type": "execute_result",
          "data": {
            "text/plain": [
              "2018-01-01   -0.862219\n",
              "2018-01-02    0.657384\n",
              "2018-01-03    0.635598\n",
              "2018-01-04    0.158322\n",
              "2018-01-05   -0.094402\n",
              "2018-01-06   -0.086160\n",
              "2018-01-07    0.200403\n",
              "2018-01-08    1.179019\n",
              "2018-01-09    0.322612\n",
              "2018-01-10   -0.120268\n",
              "Freq: D, dtype: float64"
            ]
          },
          "metadata": {
            "tags": []
          },
          "execution_count": 59
        }
      ]
    },
    {
      "cell_type": "code",
      "metadata": {
        "id": "A3_qTqV9phTL",
        "colab_type": "code",
        "outputId": "7173e094-4443-4e5b-d10c-f1464842372a",
        "colab": {
          "base_uri": "https://localhost:8080/",
          "height": 359
        }
      },
      "source": [
        "# Usando métodos\n",
        "df.apply(np.cumsum)"
      ],
      "execution_count": 0,
      "outputs": [
        {
          "output_type": "execute_result",
          "data": {
            "text/html": [
              "<div>\n",
              "<style scoped>\n",
              "    .dataframe tbody tr th:only-of-type {\n",
              "        vertical-align: middle;\n",
              "    }\n",
              "\n",
              "    .dataframe tbody tr th {\n",
              "        vertical-align: top;\n",
              "    }\n",
              "\n",
              "    .dataframe thead th {\n",
              "        text-align: right;\n",
              "    }\n",
              "</style>\n",
              "<table border=\"1\" class=\"dataframe\">\n",
              "  <thead>\n",
              "    <tr style=\"text-align: right;\">\n",
              "      <th></th>\n",
              "      <th>A</th>\n",
              "      <th>B</th>\n",
              "      <th>C</th>\n",
              "      <th>D</th>\n",
              "    </tr>\n",
              "  </thead>\n",
              "  <tbody>\n",
              "    <tr>\n",
              "      <th>2018-01-01</th>\n",
              "      <td>-1.574629</td>\n",
              "      <td>-0.710554</td>\n",
              "      <td>0.298279</td>\n",
              "      <td>-1.461970</td>\n",
              "    </tr>\n",
              "    <tr>\n",
              "      <th>2018-01-02</th>\n",
              "      <td>-0.065700</td>\n",
              "      <td>0.054286</td>\n",
              "      <td>0.663002</td>\n",
              "      <td>-1.470927</td>\n",
              "    </tr>\n",
              "    <tr>\n",
              "      <th>2018-01-03</th>\n",
              "      <td>-0.217465</td>\n",
              "      <td>1.231791</td>\n",
              "      <td>1.209134</td>\n",
              "      <td>-0.500406</td>\n",
              "    </tr>\n",
              "    <tr>\n",
              "      <th>2018-01-04</th>\n",
              "      <td>1.079674</td>\n",
              "      <td>1.680296</td>\n",
              "      <td>1.730538</td>\n",
              "      <td>-2.134165</td>\n",
              "    </tr>\n",
              "    <tr>\n",
              "      <th>2018-01-05</th>\n",
              "      <td>0.773618</td>\n",
              "      <td>0.980376</td>\n",
              "      <td>2.917781</td>\n",
              "      <td>-2.693039</td>\n",
              "    </tr>\n",
              "    <tr>\n",
              "      <th>2018-01-06</th>\n",
              "      <td>0.587485</td>\n",
              "      <td>0.698519</td>\n",
              "      <td>2.575687</td>\n",
              "      <td>-2.227598</td>\n",
              "    </tr>\n",
              "    <tr>\n",
              "      <th>2018-01-07</th>\n",
              "      <td>1.651710</td>\n",
              "      <td>0.433778</td>\n",
              "      <td>3.430340</td>\n",
              "      <td>-3.080122</td>\n",
              "    </tr>\n",
              "    <tr>\n",
              "      <th>2018-01-08</th>\n",
              "      <td>3.692970</td>\n",
              "      <td>1.470475</td>\n",
              "      <td>4.320398</td>\n",
              "      <td>-2.332062</td>\n",
              "    </tr>\n",
              "    <tr>\n",
              "      <th>2018-01-09</th>\n",
              "      <td>4.016281</td>\n",
              "      <td>1.687775</td>\n",
              "      <td>4.169030</td>\n",
              "      <td>-1.430858</td>\n",
              "    </tr>\n",
              "    <tr>\n",
              "      <th>2018-01-10</th>\n",
              "      <td>4.875619</td>\n",
              "      <td>0.688461</td>\n",
              "      <td>4.154493</td>\n",
              "      <td>-1.757417</td>\n",
              "    </tr>\n",
              "  </tbody>\n",
              "</table>\n",
              "</div>"
            ],
            "text/plain": [
              "                   A         B         C         D\n",
              "2018-01-01 -1.574629 -0.710554  0.298279 -1.461970\n",
              "2018-01-02 -0.065700  0.054286  0.663002 -1.470927\n",
              "2018-01-03 -0.217465  1.231791  1.209134 -0.500406\n",
              "2018-01-04  1.079674  1.680296  1.730538 -2.134165\n",
              "2018-01-05  0.773618  0.980376  2.917781 -2.693039\n",
              "2018-01-06  0.587485  0.698519  2.575687 -2.227598\n",
              "2018-01-07  1.651710  0.433778  3.430340 -3.080122\n",
              "2018-01-08  3.692970  1.470475  4.320398 -2.332062\n",
              "2018-01-09  4.016281  1.687775  4.169030 -1.430858\n",
              "2018-01-10  4.875619  0.688461  4.154493 -1.757417"
            ]
          },
          "metadata": {
            "tags": []
          },
          "execution_count": 60
        }
      ]
    },
    {
      "cell_type": "markdown",
      "metadata": {
        "id": "bg8EkqDPqxYM",
        "colab_type": "text"
      },
      "source": [
        "## 5.3 Matplottlib\n",
        "\n",
        "Matplotlib é a biblioteca python mais popular para visualização de dados e geração de gráficos. "
      ]
    },
    {
      "cell_type": "markdown",
      "metadata": {
        "id": "mtac541Jq-yQ",
        "colab_type": "text"
      },
      "source": [
        "#### 5.3.1 Construindo Plots"
      ]
    },
    {
      "cell_type": "code",
      "metadata": {
        "id": "y7ajqQIe5CH6",
        "colab_type": "code",
        "colab": {}
      },
      "source": [
        "# O matplotlib.pyplot é uma coleção de funções e estilos que fazem com que o Matplotlib funcione como o Matlab.\n",
        "import matplotlib as mpl  \n",
        "import matplotlib.pyplot as plt\n",
        "#%matplotlib inline  "
      ],
      "execution_count": 0,
      "outputs": []
    },
    {
      "cell_type": "code",
      "metadata": {
        "id": "sbLW6DwMrFmz",
        "colab_type": "code",
        "outputId": "90c27345-72f4-4f28-dcf5-f47aff3e850b",
        "colab": {
          "base_uri": "https://localhost:8080/",
          "height": 265
        }
      },
      "source": [
        "# O método plot() define os eixos do gráfico \n",
        "plt.plot([1, 4, 8], [2, 5, 10])\n",
        "plt.show()"
      ],
      "execution_count": 0,
      "outputs": [
        {
          "output_type": "display_data",
          "data": {
            "image/png": "[encoded data removed]",
            "text/plain": [
              "<Figure size 432x288 with 1 Axes>"
            ]
          },
          "metadata": {
            "tags": []
          }
        }
      ]
    },
    {
      "cell_type": "code",
      "metadata": {
        "id": "dg4hsukhrIfP",
        "colab_type": "code",
        "colab": {}
      },
      "source": [
        "x = [1, 4, 5]\n",
        "y = [3, 9, 1]"
      ],
      "execution_count": 0,
      "outputs": []
    },
    {
      "cell_type": "code",
      "metadata": {
        "id": "QVjBEI2VrNF9",
        "colab_type": "code",
        "outputId": "ed45c67a-3317-4c5c-f7ce-199aa3309172",
        "colab": {
          "base_uri": "https://localhost:8080/",
          "height": 295
        }
      },
      "source": [
        "plt.plot(x, y)\n",
        "plt.xlabel('Variável 1')\n",
        "plt.ylabel('Variável 2')\n",
        "plt.title('Teste Plot')\n",
        "plt.show()"
      ],
      "execution_count": 0,
      "outputs": [
        {
          "output_type": "display_data",
          "data": {
            "image/png": "[encoded data removed]",
            "text/plain": [
              "<Figure size 432x288 with 1 Axes>"
            ]
          },
          "metadata": {
            "tags": []
          }
        }
      ]
    },
    {
      "cell_type": "code",
      "metadata": {
        "id": "TUuZ8j5MrR8L",
        "colab_type": "code",
        "colab": {}
      },
      "source": [
        "x2 = [1, 2, 3]\n",
        "y2 = [11, 12, 15]"
      ],
      "execution_count": 0,
      "outputs": []
    },
    {
      "cell_type": "code",
      "metadata": {
        "id": "xjqg689CrVuY",
        "colab_type": "code",
        "outputId": "db6f1cd9-4ce2-4d16-d047-4a1dd165bc1f",
        "colab": {
          "base_uri": "https://localhost:8080/",
          "height": 295
        }
      },
      "source": [
        "plt.plot(x2, y2, label = 'Primeira Linha')\n",
        "plt.legend()\n",
        "plt.xlabel('Variável 1')\n",
        "plt.ylabel('Variável 2')\n",
        "plt.title('Teste Plot')\n",
        "plt.show()"
      ],
      "execution_count": 0,
      "outputs": [
        {
          "output_type": "display_data",
          "data": {
            "image/png": "[encoded data removed]",
            "text/plain": [
              "<Figure size 432x288 with 1 Axes>"
            ]
          },
          "metadata": {
            "tags": []
          }
        }
      ]
    },
    {
      "cell_type": "markdown",
      "metadata": {
        "id": "680FFuC2raoE",
        "colab_type": "text"
      },
      "source": [
        "#### 5.3.2 Gráficos de Barras"
      ]
    },
    {
      "cell_type": "code",
      "metadata": {
        "id": "la49pD5Rrc69",
        "colab_type": "code",
        "colab": {}
      },
      "source": [
        "x = [2,4,6,8,10]\n",
        "y = [6,7,8,2,4]"
      ],
      "execution_count": 0,
      "outputs": []
    },
    {
      "cell_type": "code",
      "metadata": {
        "id": "_WjTMZBSrYC2",
        "colab_type": "code",
        "outputId": "3b8b3be1-873f-4f72-ef3a-a29c26ea1136",
        "colab": {
          "base_uri": "https://localhost:8080/",
          "height": 295
        }
      },
      "source": [
        "plt.bar(x, y, label = 'Barras', color = 'r')\n",
        "plt.legend()\n",
        "plt.xlabel('Variável 1')\n",
        "plt.ylabel('Variável 2')\n",
        "plt.title('Gráfico de Barras')\n",
        "plt.show()"
      ],
      "execution_count": 0,
      "outputs": [
        {
          "output_type": "display_data",
          "data": {
            "image/png": "[encoded data removed]",
            "text/plain": [
              "<Figure size 432x288 with 1 Axes>"
            ]
          },
          "metadata": {
            "tags": []
          }
        }
      ]
    },
    {
      "cell_type": "code",
      "metadata": {
        "id": "deMpzMDBr2Io",
        "colab_type": "code",
        "colab": {}
      },
      "source": [
        "x = [2,4,6,8,10]\n",
        "y = [6,7,8,2,4]\n",
        "x2 = [1,3,5,7,9]\n",
        "y2 = [7,8,2,4,2]"
      ],
      "execution_count": 0,
      "outputs": []
    },
    {
      "cell_type": "code",
      "metadata": {
        "id": "42tBTzfOr4hx",
        "colab_type": "code",
        "outputId": "0f654846-52cd-4672-cfb9-532d55504345",
        "colab": {
          "base_uri": "https://localhost:8080/",
          "height": 265
        }
      },
      "source": [
        "plt.bar(x, y, label = 'Barras1', color = 'r')\n",
        "plt.bar(x2, y2, label = 'Barras2', color = 'y')\n",
        "plt.legend()\n",
        "plt.show()"
      ],
      "execution_count": 0,
      "outputs": [
        {
          "output_type": "display_data",
          "data": {
            "image/png": "[encoded data removed]",
            "text/plain": [
              "<Figure size 432x288 with 1 Axes>"
            ]
          },
          "metadata": {
            "tags": []
          }
        }
      ]
    },
    {
      "cell_type": "code",
      "metadata": {
        "id": "o5T8gTrgr7Dw",
        "colab_type": "code",
        "colab": {}
      },
      "source": [
        "#Lista\n",
        "idades = [22,65,45,55,21,22,34,42,41,4,99,101,120,122,130,111,115,80,75,54,44,64,13,18,48]"
      ],
      "execution_count": 0,
      "outputs": []
    },
    {
      "cell_type": "code",
      "metadata": {
        "id": "P2Vs1rcDr-Ac",
        "colab_type": "code",
        "colab": {}
      },
      "source": [
        "# para cada idade um id\n",
        "ids = [x for x in range(len(idades))]"
      ],
      "execution_count": 0,
      "outputs": []
    },
    {
      "cell_type": "code",
      "metadata": {
        "id": "2SuncpqfsAtj",
        "colab_type": "code",
        "outputId": "971255f7-f826-4542-c572-94518dbc0a41",
        "colab": {
          "base_uri": "https://localhost:8080/",
          "height": 279
        }
      },
      "source": [
        "plt.bar(ids, idades)\n",
        "plt.xlabel('ids')\n",
        "plt.ylabel('idades')\n",
        "plt.show()"
      ],
      "execution_count": 0,
      "outputs": [
        {
          "output_type": "display_data",
          "data": {
            "image/png": "[encoded data removed]",
            "text/plain": [
              "<Figure size 432x288 with 1 Axes>"
            ]
          },
          "metadata": {
            "tags": []
          }
        }
      ]
    },
    {
      "cell_type": "markdown",
      "metadata": {
        "id": "U7g2G3MMtF-Q",
        "colab_type": "text"
      },
      "source": [
        "#### 5.3.3 Scatterplot"
      ]
    },
    {
      "cell_type": "code",
      "metadata": {
        "id": "tPueqH3ktJR9",
        "colab_type": "code",
        "colab": {}
      },
      "source": [
        "x = [1,2,3,4,5,6,7,8]\n",
        "y = [5,2,4,5,6,8,4,8]"
      ],
      "execution_count": 0,
      "outputs": []
    },
    {
      "cell_type": "code",
      "metadata": {
        "id": "pqaT_CKLtSPA",
        "colab_type": "code",
        "outputId": "5b96c499-017f-4f1e-a3e6-59340a6f60ed",
        "colab": {
          "base_uri": "https://localhost:8080/",
          "height": 265
        }
      },
      "source": [
        "plt.scatter(x, y, label = 'Pontos', color = 'r', marker = 'o', s = 100)\n",
        "plt.legend()\n",
        "plt.show()"
      ],
      "execution_count": 0,
      "outputs": [
        {
          "output_type": "display_data",
          "data": {
            "image/png": "[encoded data removed]",
            "text/plain": [
              "<Figure size 432x288 with 1 Axes>"
            ]
          },
          "metadata": {
            "tags": []
          }
        }
      ]
    },
    {
      "cell_type": "markdown",
      "metadata": {
        "id": "qdg__u1hTYFx",
        "colab_type": "text"
      },
      "source": [
        "### 5.3.4  Grafico de Area"
      ]
    },
    {
      "cell_type": "code",
      "metadata": {
        "id": "5tlwfq1oT02O",
        "colab_type": "code",
        "colab": {}
      },
      "source": [
        "dias = [1,2,3,4,5]\n",
        "dormir = [7,8,6,77,7]\n",
        "comer = [2,3,4,5,3]\n",
        "trabalhar = [7,8,7,2,2]\n",
        "passear = [8,5,7,8,13]\n"
      ],
      "execution_count": 0,
      "outputs": []
    },
    {
      "cell_type": "code",
      "metadata": {
        "id": "k9Yz3HoaUEgL",
        "colab_type": "code",
        "outputId": "64b2dc35-df0b-4565-bf5a-1cee644c4dc2",
        "colab": {
          "base_uri": "https://localhost:8080/",
          "height": 265
        }
      },
      "source": [
        "plt.stackplot(dias, dormir, comer, trabalhar, passear, colors = ['m','c','r','k','b'])\n",
        "plt.show()"
      ],
      "execution_count": 0,
      "outputs": [
        {
          "output_type": "display_data",
          "data": {
            "image/png": "[encoded data removed]",
            "text/plain": [
              "<Figure size 432x288 with 1 Axes>"
            ]
          },
          "metadata": {
            "tags": []
          }
        }
      ]
    },
    {
      "cell_type": "markdown",
      "metadata": {
        "id": "H-hBl6JYLNcl",
        "colab_type": "text"
      },
      "source": [
        "#### 5.3.7 Gráficos a partir do NumPy"
      ]
    },
    {
      "cell_type": "code",
      "metadata": {
        "id": "yZqXPlqzLP64",
        "colab_type": "code",
        "colab": {}
      },
      "source": [
        "import matplotlib.pyplot as plt\n",
        "import numpy as np\n",
        "%matplotlib inline"
      ],
      "execution_count": 0,
      "outputs": []
    },
    {
      "cell_type": "code",
      "metadata": {
        "id": "kxlRRge7LY3e",
        "colab_type": "code",
        "colab": {}
      },
      "source": [
        "plt.scatter(np.arange(50), np.random.randn(50))\n",
        "plt.show()"
      ],
      "execution_count": 0,
      "outputs": []
    },
    {
      "cell_type": "code",
      "metadata": {
        "id": "zthkmxj1Lcgt",
        "colab_type": "code",
        "outputId": "cd4fdada-66f5-4c3a-d177-f6e99a7060e2",
        "colab": {
          "base_uri": "https://localhost:8080/",
          "height": 265
        }
      },
      "source": [
        "# Plot e Scatter\n",
        "fig = plt.figure()\n",
        "\n",
        "ax1 = fig.add_subplot(1,2,1)  #(linha, coluna, id do grafico)\n",
        "ax1.plot(np.random.randn(50), color='red')\n",
        "\n",
        "ax2 = fig.add_subplot(1,2,2)\n",
        "ax2.scatter(np.arange(50), np.random.randn(50))\n",
        "plt.show()"
      ],
      "execution_count": 0,
      "outputs": [
        {
          "output_type": "display_data",
          "data": {
            "image/png": "[encoded data removed]",
            "text/plain": [
              "<Figure size 432x288 with 2 Axes>"
            ]
          },
          "metadata": {
            "tags": []
          }
        }
      ]
    },
    {
      "cell_type": "code",
      "metadata": {
        "id": "6HCzjvySMYLW",
        "colab_type": "code",
        "colab": {}
      },
      "source": [
        "import pandas as pd\n",
        "import numpy as np\n",
        "import matplotlib.pyplot as plt "
      ],
      "execution_count": 0,
      "outputs": []
    },
    {
      "cell_type": "code",
      "metadata": {
        "id": "OKqJNuuAHPTL",
        "colab_type": "code",
        "colab": {}
      },
      "source": [
        "base = pd.read_csv('arvores.csv')"
      ],
      "execution_count": 0,
      "outputs": []
    },
    {
      "cell_type": "code",
      "metadata": {
        "id": "wjO_ZScjIhuV",
        "colab_type": "code",
        "colab": {}
      },
      "source": [
        "base.head()"
      ],
      "execution_count": 0,
      "outputs": []
    },
    {
      "cell_type": "code",
      "metadata": {
        "id": "CM56lViBLLHG",
        "colab_type": "code",
        "colab": {}
      },
      "source": [
        "len(base)"
      ],
      "execution_count": 0,
      "outputs": []
    },
    {
      "cell_type": "code",
      "metadata": {
        "id": "VPA43pIILNVZ",
        "colab_type": "code",
        "colab": {}
      },
      "source": [
        "base.shape"
      ],
      "execution_count": 0,
      "outputs": []
    },
    {
      "cell_type": "code",
      "metadata": {
        "id": "K263x_WMIm8R",
        "colab_type": "code",
        "colab": {}
      },
      "source": [
        "histo = histogram(base.iloc[:1])   #bins é para criar as faixas "
      ],
      "execution_count": 0,
      "outputs": []
    },
    {
      "cell_type": "code",
      "metadata": {
        "id": "My7BHey1I8xi",
        "colab_type": "code",
        "colab": {}
      },
      "source": [
        "plt.hist(histo) "
      ],
      "execution_count": 0,
      "outputs": []
    },
    {
      "cell_type": "code",
      "metadata": {
        "id": "_5q-WhwtKPwf",
        "colab_type": "code",
        "colab": {}
      },
      "source": [
        "plt.hist(base.iloc[:1], bins = 10)"
      ],
      "execution_count": 0,
      "outputs": []
    },
    {
      "cell_type": "code",
      "metadata": {
        "id": "cwZc5PKlLbEc",
        "colab_type": "code",
        "colab": {}
      },
      "source": [
        "plt.hist(histo)\n",
        "plt.title(\"Arvores\")\n",
        "plt.ylabel(\"Frequencia\")\n",
        "plt.xlabel(\"Altura\") "
      ],
      "execution_count": 0,
      "outputs": []
    },
    {
      "cell_type": "code",
      "metadata": {
        "id": "YaXigY6KMVB8",
        "colab_type": "code",
        "colab": {}
      },
      "source": [
        "import seaborn as sns "
      ],
      "execution_count": 0,
      "outputs": []
    },
    {
      "cell_type": "code",
      "metadata": {
        "id": "u851l8v9L0O3",
        "colab_type": "code",
        "outputId": "77935ad9-212b-4933-8d2f-dbca4fe07e0a",
        "colab": {
          "base_uri": "https://localhost:8080/",
          "height": 283
        }
      },
      "source": [
        "sns.distplot(base.iloc[:1], hist=False) "
      ],
      "execution_count": 0,
      "outputs": [
        {
          "output_type": "execute_result",
          "data": {
            "text/plain": [
              "<matplotlib.axes._subplots.AxesSubplot at 0x7ff5e48166a0>"
            ]
          },
          "metadata": {
            "tags": []
          },
          "execution_count": 244
        },
        {
          "output_type": "display_data",
          "data": {
            "image/png": "[encoded data removed]",
            "text/plain": [
              "<Figure size 432x288 with 1 Axes>"
            ]
          },
          "metadata": {
            "tags": []
          }
        }
      ]
    },
    {
      "cell_type": "code",
      "metadata": {
        "id": "dI4Yj7csN4-p",
        "colab_type": "code",
        "outputId": "edf0aa31-b2ee-4229-ffcb-b34aeb4b03c1",
        "colab": {
          "base_uri": "https://localhost:8080/",
          "height": 283
        }
      },
      "source": [
        "sns.distplot(base.iloc[:1], hist=True, color= 'blue')"
      ],
      "execution_count": 0,
      "outputs": [
        {
          "output_type": "execute_result",
          "data": {
            "text/plain": [
              "<matplotlib.axes._subplots.AxesSubplot at 0x7ff5e4a753c8>"
            ]
          },
          "metadata": {
            "tags": []
          },
          "execution_count": 245
        },
        {
          "output_type": "display_data",
          "data": {
            "image/png": "[encoded data removed]",
            "text/plain": [
              "<Figure size 432x288 with 1 Axes>"
            ]
          },
          "metadata": {
            "tags": []
          }
        }
      ]
    },
    {
      "cell_type": "code",
      "metadata": {
        "id": "wECttWlrL5P8",
        "colab_type": "code",
        "outputId": "ad565173-0487-4cee-b64b-208f103bf059",
        "colab": {
          "base_uri": "https://localhost:8080/",
          "height": 313
        }
      },
      "source": [
        "plt.scatter(base.Girth, base.Height, color = 'blue', marker = '*')\n",
        "plt.title('Árvores')\n",
        "plt.xlabel('Altura')\n",
        "plt.ylabel('Circunferência')\n"
      ],
      "execution_count": 0,
      "outputs": [
        {
          "output_type": "execute_result",
          "data": {
            "text/plain": [
              "Text(0, 0.5, 'Circunferência')"
            ]
          },
          "metadata": {
            "tags": []
          },
          "execution_count": 261
        },
        {
          "output_type": "display_data",
          "data": {
            "image/png": "[encoded data removed]",
            "text/plain": [
              "<Figure size 432x288 with 1 Axes>"
            ]
          },
          "metadata": {
            "tags": []
          }
        }
      ]
    },
    {
      "cell_type": "code",
      "metadata": {
        "id": "VmqHiyESmnyr",
        "colab_type": "code",
        "outputId": "6f30d455-126f-4ef3-a3f6-ccbe9697dbdf",
        "colab": {
          "base_uri": "https://localhost:8080/",
          "height": 313
        }
      },
      "source": [
        "#grafico de linha\n",
        "plt.plot(base.Girth, base.Height)\n",
        "plt.title('Árvores')\n",
        "plt.xlabel('Altura')\n",
        "plt.ylabel('Circunferência')"
      ],
      "execution_count": 0,
      "outputs": [
        {
          "output_type": "execute_result",
          "data": {
            "text/plain": [
              "Text(0, 0.5, 'Circunferência')"
            ]
          },
          "metadata": {
            "tags": []
          },
          "execution_count": 263
        },
        {
          "output_type": "display_data",
          "data": {
            "image/png": "[encoded data removed]",
            "text/plain": [
              "<Figure size 432x288 with 1 Axes>"
            ]
          },
          "metadata": {
            "tags": []
          }
        }
      ]
    },
    {
      "cell_type": "code",
      "metadata": {
        "id": "mHkLJy9WnAXA",
        "colab_type": "code",
        "outputId": "33114733-2404-48ad-b80b-151a61b35b5d",
        "colab": {
          "base_uri": "https://localhost:8080/",
          "height": 297
        }
      },
      "source": [
        "import seaborn as sns\n",
        "sns.regplot( base.Girth, base.Height, data= base)"
      ],
      "execution_count": 0,
      "outputs": [
        {
          "output_type": "execute_result",
          "data": {
            "text/plain": [
              "<matplotlib.axes._subplots.AxesSubplot at 0x7ff5e27c6908>"
            ]
          },
          "metadata": {
            "tags": []
          },
          "execution_count": 267
        },
        {
          "output_type": "display_data",
          "data": {
            "image/png": "[encoded data removed]",
            "text/plain": [
              "<Figure size 432x288 with 1 Axes>"
            ]
          },
          "metadata": {
            "tags": []
          }
        }
      ]
    },
    {
      "cell_type": "code",
      "metadata": {
        "id": "dvBAtI3Zo0Gp",
        "colab_type": "code",
        "colab": {}
      },
      "source": [
        "import pandas as pd\n",
        "import matplotlib.pyplot as plt\n",
        "\n",
        "base = pd.read_csv('arvores.csv')\n",
        "\n"
      ],
      "execution_count": 0,
      "outputs": []
    },
    {
      "cell_type": "code",
      "metadata": {
        "id": "yHdbFmlvo-IT",
        "colab_type": "code",
        "outputId": "0ba921b2-8772-48cc-a8e2-c6cc4b204989",
        "colab": {
          "base_uri": "https://localhost:8080/",
          "height": 342
        }
      },
      "source": [
        "plt.figure(1)\n",
        "# girth com volume\n",
        "plt.subplot(2,2,1)   #(linha, coluna, id do grafico)\n",
        "plt.scatter(base.Girth, base.Volume)\n",
        "# girth com heigth\n",
        "plt.subplot(2,2,2)\n",
        "plt.scatter(base.Girth, base.Height)\n",
        "# heigth com volume\n",
        "plt.subplot(2,2,3)\n",
        "plt.scatter(base.Height, base.Volume)\n",
        "# hsitograma volume\n",
        "plt.subplot(2,2,4)\n",
        "plt.hist(base.Volume)"
      ],
      "execution_count": 0,
      "outputs": [
        {
          "output_type": "execute_result",
          "data": {
            "text/plain": [
              "(array([ 5., 10.,  4.,  4.,  2.,  0.,  4.,  1.,  0.,  1.]),\n",
              " array([10.2 , 16.88, 23.56, 30.24, 36.92, 43.6 , 50.28, 56.96, 63.64,\n",
              "        70.32, 77.  ]),\n",
              " <a list of 10 Patch objects>)"
            ]
          },
          "metadata": {
            "tags": []
          },
          "execution_count": 271
        },
        {
          "output_type": "display_data",
          "data": {
            "image/png": "[encoded data removed]",
            "text/plain": [
              "<Figure size 432x288 with 4 Axes>"
            ]
          },
          "metadata": {
            "tags": []
          }
        }
      ]
    },
    {
      "cell_type": "code",
      "metadata": {
        "id": "aMDMmitgqN3c",
        "colab_type": "code",
        "outputId": "1b7a48cd-5d7b-4c5b-ab6a-5c9d2a9fdc7b",
        "colab": {
          "base_uri": "https://localhost:8080/",
          "height": 414
        }
      },
      "source": [
        "plt.boxplot(base.Volume)"
      ],
      "execution_count": 0,
      "outputs": [
        {
          "output_type": "execute_result",
          "data": {
            "text/plain": [
              "{'boxes': [<matplotlib.lines.Line2D at 0x7ff5e2612ac8>],\n",
              " 'caps': [<matplotlib.lines.Line2D at 0x7ff5e25a0470>,\n",
              "  <matplotlib.lines.Line2D at 0x7ff5e25a07b8>],\n",
              " 'fliers': [<matplotlib.lines.Line2D at 0x7ff5e25a0e48>],\n",
              " 'means': [],\n",
              " 'medians': [<matplotlib.lines.Line2D at 0x7ff5e25a0b00>],\n",
              " 'whiskers': [<matplotlib.lines.Line2D at 0x7ff5e25eb400>,\n",
              "  <matplotlib.lines.Line2D at 0x7ff5e25a0128>]}"
            ]
          },
          "metadata": {
            "tags": []
          },
          "execution_count": 272
        },
        {
          "output_type": "display_data",
          "data": {
            "image/png": "[encoded data removed]",
            "text/plain": [
              "<Figure size 432x288 with 1 Axes>"
            ]
          },
          "metadata": {
            "tags": []
          }
        }
      ]
    },
    {
      "cell_type": "code",
      "metadata": {
        "id": "iteAFWwXqWNr",
        "colab_type": "code",
        "outputId": "d391d370-6a20-4291-94f1-891566745c47",
        "colab": {
          "base_uri": "https://localhost:8080/",
          "height": 410
        }
      },
      "source": [
        "plt.boxplot(base.Volume, vert=False)"
      ],
      "execution_count": 0,
      "outputs": [
        {
          "output_type": "execute_result",
          "data": {
            "text/plain": [
              "{'boxes': [<matplotlib.lines.Line2D at 0x7ff5e2580080>],\n",
              " 'caps': [<matplotlib.lines.Line2D at 0x7ff5e2580a20>,\n",
              "  <matplotlib.lines.Line2D at 0x7ff5e2580d68>],\n",
              " 'fliers': [<matplotlib.lines.Line2D at 0x7ff5e258a438>],\n",
              " 'means': [],\n",
              " 'medians': [<matplotlib.lines.Line2D at 0x7ff5e258a0f0>],\n",
              " 'whiskers': [<matplotlib.lines.Line2D at 0x7ff5e2580390>,\n",
              "  <matplotlib.lines.Line2D at 0x7ff5e25806d8>]}"
            ]
          },
          "metadata": {
            "tags": []
          },
          "execution_count": 273
        },
        {
          "output_type": "display_data",
          "data": {
            "image/png": "[encoded data removed]",
            "text/plain": [
              "<Figure size 432x288 with 1 Axes>"
            ]
          },
          "metadata": {
            "tags": []
          }
        }
      ]
    },
    {
      "cell_type": "code",
      "metadata": {
        "id": "wgD7BPsyqfvS",
        "colab_type": "code",
        "outputId": "33f4ee2c-6b18-464e-93f5-912d9daa64e4",
        "colab": {
          "base_uri": "https://localhost:8080/",
          "height": 410
        }
      },
      "source": [
        "#caso nao quera visualizar os outliers\n",
        "plt.boxplot(base.Volume, vert=False, showfliers=False)"
      ],
      "execution_count": 0,
      "outputs": [
        {
          "output_type": "execute_result",
          "data": {
            "text/plain": [
              "{'boxes': [<matplotlib.lines.Line2D at 0x7ff5e24e2320>],\n",
              " 'caps': [<matplotlib.lines.Line2D at 0x7ff5e24e2cc0>,\n",
              "  <matplotlib.lines.Line2D at 0x7ff5e24ee048>],\n",
              " 'fliers': [],\n",
              " 'means': [],\n",
              " 'medians': [<matplotlib.lines.Line2D at 0x7ff5e24ee390>],\n",
              " 'whiskers': [<matplotlib.lines.Line2D at 0x7ff5e24e2630>,\n",
              "  <matplotlib.lines.Line2D at 0x7ff5e24e2978>]}"
            ]
          },
          "metadata": {
            "tags": []
          },
          "execution_count": 274
        },
        {
          "output_type": "display_data",
          "data": {
            "image/png": "[encoded data removed]",
            "text/plain": [
              "<Figure size 432x288 with 1 Axes>"
            ]
          },
          "metadata": {
            "tags": []
          }
        }
      ]
    },
    {
      "cell_type": "code",
      "metadata": {
        "id": "khs9q6N-qqTp",
        "colab_type": "code",
        "outputId": "6039408d-41ed-4f30-bed6-cb15a050ede2",
        "colab": {
          "base_uri": "https://localhost:8080/",
          "height": 313
        }
      },
      "source": [
        "#com cores\n",
        "plt.boxplot(base.Volume, vert=False, patch_artist=True, showfliers=False, notch=True)\n",
        "plt.title(\"Arvores\")\n",
        "plt.xlabel(\"Volume\")"
      ],
      "execution_count": 0,
      "outputs": [
        {
          "output_type": "execute_result",
          "data": {
            "text/plain": [
              "Text(0.5, 0, 'Volume')"
            ]
          },
          "metadata": {
            "tags": []
          },
          "execution_count": 279
        },
        {
          "output_type": "display_data",
          "data": {
            "image/png": "[encoded data removed]",
            "text/plain": [
              "<Figure size 432x288 with 1 Axes>"
            ]
          },
          "metadata": {
            "tags": []
          }
        }
      ]
    },
    {
      "cell_type": "code",
      "metadata": {
        "id": "y6XUwi8SrKJi",
        "colab_type": "code",
        "colab": {}
      },
      "source": [
        "#boxplot todas as variaveis \n",
        "plt.boxplot(base) "
      ],
      "execution_count": 0,
      "outputs": []
    },
    {
      "cell_type": "code",
      "metadata": {
        "id": "aixCQcszrReL",
        "colab_type": "code",
        "colab": {}
      },
      "source": [
        "# colorir\n",
        "# https://matplotlib.org/gallery/statistics/boxplot_demo.html\n"
      ],
      "execution_count": 0,
      "outputs": []
    },
    {
      "cell_type": "code",
      "metadata": {
        "id": "anyF3RP-r-Hg",
        "colab_type": "code",
        "outputId": "927e842e-58b0-43a1-bd6e-217ab285727e",
        "colab": {
          "base_uri": "https://localhost:8080/",
          "height": 313
        }
      },
      "source": [
        "import pandas as pd\n",
        "import seaborn as srn\n",
        "base = pd.read_csv('arvores.csv')\n",
        "srn.boxplot(base.Volume).set_title('Árvores')\n",
        "srn.boxplot(data = base)\n",
        "\n"
      ],
      "execution_count": 0,
      "outputs": [
        {
          "output_type": "execute_result",
          "data": {
            "text/plain": [
              "<matplotlib.axes._subplots.AxesSubplot at 0x7ff5e1d96518>"
            ]
          },
          "metadata": {
            "tags": []
          },
          "execution_count": 286
        },
        {
          "output_type": "display_data",
          "data": {
            "image/png": "[encoded data removed]",
            "text/plain": [
              "<Figure size 432x288 with 1 Axes>"
            ]
          },
          "metadata": {
            "tags": []
          }
        }
      ]
    }
  ]
}